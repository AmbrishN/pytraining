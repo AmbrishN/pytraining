{
  "nbformat": 4,
  "nbformat_minor": 0,
  "metadata": {
    "colab": {
      "name": "PyDay04",
      "provenance": []
    },
    "kernelspec": {
      "name": "python3",
      "display_name": "Python 3"
    }
  },
  "cells": [
    {
      "cell_type": "code",
      "metadata": {
        "id": "qcc-U6lAsT11",
        "colab_type": "code",
        "colab": {}
      },
      "source": [
        "print(\"Hello\")"
      ],
      "execution_count": null,
      "outputs": []
    }
  ]
}