{
  "nbformat": 4,
  "nbformat_minor": 0,
  "metadata": {
    "colab": {
      "name": "PyDay3",
      "provenance": []
    },
    "kernelspec": {
      "name": "python3",
      "display_name": "Python 3"
    }
  },
  "cells": [
    {
      "cell_type": "markdown",
      "metadata": {
        "id": "xtbcRv36qr-h",
        "colab_type": "text"
      },
      "source": [
        "# Loops and Iterations\n",
        "* if\n",
        "* if-else\n",
        "* if-elif-else\n",
        "* for\n",
        "* while"
      ]
    },
    {
      "cell_type": "code",
      "metadata": {
        "id": "5NoJ6mx6qToe",
        "colab_type": "code",
        "colab": {
          "base_uri": "https://localhost:8080/",
          "height": 35
        },
        "outputId": "7a65dbbf-f529-42dd-8637-178f3a81abd3"
      },
      "source": [
        "# if\n",
        "if True:\n",
        "  print(\"Hello, World!\")"
      ],
      "execution_count": null,
      "outputs": [
        {
          "output_type": "stream",
          "text": [
            "Hello, World!\n"
          ],
          "name": "stdout"
        }
      ]
    },
    {
      "cell_type": "code",
      "metadata": {
        "id": "vSpFtlJ4rV99",
        "colab_type": "code",
        "colab": {}
      },
      "source": [
        "if False:\n",
        "  print('Hello, World!')"
      ],
      "execution_count": null,
      "outputs": []
    },
    {
      "cell_type": "code",
      "metadata": {
        "id": "JzKDIbHvrdmj",
        "colab_type": "code",
        "colab": {
          "base_uri": "https://localhost:8080/",
          "height": 35
        },
        "outputId": "13f5735d-631a-4c8c-bf0e-6c8647cd0a87"
      },
      "source": [
        "num = 2\n",
        "\n",
        "if num > 0:\n",
        "  print('It is possible to print')"
      ],
      "execution_count": null,
      "outputs": [
        {
          "output_type": "stream",
          "text": [
            "It is possible to print\n"
          ],
          "name": "stdout"
        }
      ]
    },
    {
      "cell_type": "code",
      "metadata": {
        "id": "_v3Wws1_rnvb",
        "colab_type": "code",
        "colab": {
          "base_uri": "https://localhost:8080/",
          "height": 35
        },
        "outputId": "46b7441e-b6e9-4de6-ef72-a141d73ef908"
      },
      "source": [
        "if num >= 0 or num <= 3:\n",
        "  print('It is possible to print')"
      ],
      "execution_count": null,
      "outputs": [
        {
          "output_type": "stream",
          "text": [
            "It is possible to print\n"
          ],
          "name": "stdout"
        }
      ]
    },
    {
      "cell_type": "code",
      "metadata": {
        "id": "YdbYzeG_rwrS",
        "colab_type": "code",
        "colab": {
          "base_uri": "https://localhost:8080/",
          "height": 35
        },
        "outputId": "db35e59c-c9c0-4049-b8b4-51a25bd6370a"
      },
      "source": [
        "if num >= 0 and num <= 3:\n",
        "  print('It is possible to print')"
      ],
      "execution_count": null,
      "outputs": [
        {
          "output_type": "stream",
          "text": [
            "It is possible to print\n"
          ],
          "name": "stdout"
        }
      ]
    },
    {
      "cell_type": "code",
      "metadata": {
        "id": "gHu3ZGpWr3hc",
        "colab_type": "code",
        "colab": {
          "base_uri": "https://localhost:8080/",
          "height": 35
        },
        "outputId": "90675171-eaaf-4d41-d897-fd10fdf46d28"
      },
      "source": [
        "if num >= 0 or num >= 4:\n",
        "  print('It is possible to print')"
      ],
      "execution_count": null,
      "outputs": [
        {
          "output_type": "stream",
          "text": [
            "It is possible to print\n"
          ],
          "name": "stdout"
        }
      ]
    },
    {
      "cell_type": "code",
      "metadata": {
        "id": "vntSpVMar7PK",
        "colab_type": "code",
        "colab": {}
      },
      "source": [
        "if num >= 0 and num >= 4:\n",
        "  print('It is not possible to print')"
      ],
      "execution_count": null,
      "outputs": []
    },
    {
      "cell_type": "code",
      "metadata": {
        "id": "xgE0-l2Rr-8g",
        "colab_type": "code",
        "colab": {
          "base_uri": "https://localhost:8080/",
          "height": 35
        },
        "outputId": "270e7cd4-69fb-4188-f81c-1ebef911260c"
      },
      "source": [
        "#if-else\n",
        "if False:\n",
        "  print('False statement')\n",
        "else:\n",
        "  print('True statement')"
      ],
      "execution_count": null,
      "outputs": [
        {
          "output_type": "stream",
          "text": [
            "True statement\n"
          ],
          "name": "stdout"
        }
      ]
    },
    {
      "cell_type": "code",
      "metadata": {
        "id": "EFXGb7F8sT6Q",
        "colab_type": "code",
        "colab": {
          "base_uri": "https://localhost:8080/",
          "height": 35
        },
        "outputId": "80580091-1a02-4e73-eb08-8f5b379eef39"
      },
      "source": [
        "num = 5\n",
        "if num > 6:\n",
        "  print('greater than 6')\n",
        "else:\n",
        "  print('not greater than 6')"
      ],
      "execution_count": null,
      "outputs": [
        {
          "output_type": "stream",
          "text": [
            "not greater than 6\n"
          ],
          "name": "stdout"
        }
      ]
    },
    {
      "cell_type": "code",
      "metadata": {
        "id": "zH1ea4dBshRO",
        "colab_type": "code",
        "colab": {
          "base_uri": "https://localhost:8080/",
          "height": 35
        },
        "outputId": "83eee1d1-d427-4890-e6d9-19566d838b34"
      },
      "source": [
        "if num < 6:\n",
        "  if num > 3:\n",
        "    print('smaller than 6 but greater than 3')\n",
        "  if num < 3:\n",
        "    print('smaller than 6 but not than 3')\n",
        "else:\n",
        "  print('greater than 6')"
      ],
      "execution_count": null,
      "outputs": [
        {
          "output_type": "stream",
          "text": [
            "smaller than 6 but greater than 3\n"
          ],
          "name": "stdout"
        }
      ]
    },
    {
      "cell_type": "code",
      "metadata": {
        "id": "EP9VULyds4TL",
        "colab_type": "code",
        "colab": {
          "base_uri": "https://localhost:8080/",
          "height": 35
        },
        "outputId": "e27ed314-bba2-4dba-a746-d55c25713d4f"
      },
      "source": [
        "if num > 6:\n",
        "  if num > 3:\n",
        "    print('smaller than 6 but greater than 3')\n",
        "  if num < 3:\n",
        "    print('smaller than 6 but not than 3')\n",
        "else:\n",
        "  if num > 3:\n",
        "    print('smaller than or equal to 6 but greater than 3')"
      ],
      "execution_count": null,
      "outputs": [
        {
          "output_type": "stream",
          "text": [
            "smaller than or equal to 6 but greater than 3\n"
          ],
          "name": "stdout"
        }
      ]
    },
    {
      "cell_type": "code",
      "metadata": {
        "id": "s7WXZh-7tu3i",
        "colab_type": "code",
        "colab": {
          "base_uri": "https://localhost:8080/",
          "height": 35
        },
        "outputId": "5d0143cd-87e1-4c3f-9c08-2dc99a64700f"
      },
      "source": [
        "#if-elif-else\n",
        "a = 60\n",
        "b = 70\n",
        "c = 80\n",
        "d = 90\n",
        "e = 95\n",
        "num = 100\n",
        "\n",
        "if num <= a:\n",
        "  print(num,'is less than equal to',a)\n",
        "elif num <= b:\n",
        "  print(num,'is less than equal to',b)\n",
        "elif num <= c:\n",
        "  print(num,'is less than equal to',c)\n",
        "elif num <= d:\n",
        "  print(num,'is less than equal to',b)\n",
        "else:\n",
        "  print('What\\'s going on...')"
      ],
      "execution_count": null,
      "outputs": [
        {
          "output_type": "stream",
          "text": [
            "What's going on...\n"
          ],
          "name": "stdout"
        }
      ]
    },
    {
      "cell_type": "code",
      "metadata": {
        "id": "OeFFjE6xumfD",
        "colab_type": "code",
        "colab": {
          "base_uri": "https://localhost:8080/",
          "height": 35
        },
        "outputId": "7b566b9d-1d8f-497c-9a02-ec5a4dab1d7c"
      },
      "source": [
        "a = 10\n",
        "if a == 5:\n",
        "  print('a is equal to',a)\n",
        "elif a ==10:\n",
        "  print('a is equal to',a)\n",
        "else:\n",
        "  print('I don\\'t know')"
      ],
      "execution_count": null,
      "outputs": [
        {
          "output_type": "stream",
          "text": [
            "a is equal to 10\n"
          ],
          "name": "stdout"
        }
      ]
    },
    {
      "cell_type": "code",
      "metadata": {
        "id": "lQTewQz3vPp0",
        "colab_type": "code",
        "colab": {
          "base_uri": "https://localhost:8080/",
          "height": 191
        },
        "outputId": "e128f249-a959-4b21-fd00-59066a4a18e9"
      },
      "source": [
        "#for\n",
        "for i in range(10): #📌range() is built-in function starting from 0 to n-1\n",
        "  print(i)"
      ],
      "execution_count": null,
      "outputs": [
        {
          "output_type": "stream",
          "text": [
            "0\n",
            "1\n",
            "2\n",
            "3\n",
            "4\n",
            "5\n",
            "6\n",
            "7\n",
            "8\n",
            "9\n"
          ],
          "name": "stdout"
        }
      ]
    },
    {
      "cell_type": "code",
      "metadata": {
        "id": "yehq_brgvm1M",
        "colab_type": "code",
        "colab": {
          "base_uri": "https://localhost:8080/",
          "height": 451
        },
        "outputId": "9c380085-d7a2-422d-b739-25a0b2ee1be9"
      },
      "source": [
        "for i in range(5):\n",
        "  for j in range(5):\n",
        "    print('i =',i,'j =',j)"
      ],
      "execution_count": null,
      "outputs": [
        {
          "output_type": "stream",
          "text": [
            "i = 0 j = 0\n",
            "i = 0 j = 1\n",
            "i = 0 j = 2\n",
            "i = 0 j = 3\n",
            "i = 0 j = 4\n",
            "i = 1 j = 0\n",
            "i = 1 j = 1\n",
            "i = 1 j = 2\n",
            "i = 1 j = 3\n",
            "i = 1 j = 4\n",
            "i = 2 j = 0\n",
            "i = 2 j = 1\n",
            "i = 2 j = 2\n",
            "i = 2 j = 3\n",
            "i = 2 j = 4\n",
            "i = 3 j = 0\n",
            "i = 3 j = 1\n",
            "i = 3 j = 2\n",
            "i = 3 j = 3\n",
            "i = 3 j = 4\n",
            "i = 4 j = 0\n",
            "i = 4 j = 1\n",
            "i = 4 j = 2\n",
            "i = 4 j = 3\n",
            "i = 4 j = 4\n"
          ],
          "name": "stdout"
        }
      ]
    },
    {
      "cell_type": "code",
      "metadata": {
        "id": "rK4ttomZv3Qm",
        "colab_type": "code",
        "colab": {
          "base_uri": "https://localhost:8080/",
          "height": 191
        },
        "outputId": "ff33502c-3638-4d82-b75b-8c2b48f5c036"
      },
      "source": [
        "lis = [1,2,3,4,5,6,7,8,9,10]\n",
        "sum = 0\n",
        "\n",
        "for i in lis:\n",
        "  sum +=i\n",
        "  print('Now the sum is',sum)"
      ],
      "execution_count": null,
      "outputs": [
        {
          "output_type": "stream",
          "text": [
            "Now the sum is 1\n",
            "Now the sum is 3\n",
            "Now the sum is 6\n",
            "Now the sum is 10\n",
            "Now the sum is 15\n",
            "Now the sum is 21\n",
            "Now the sum is 28\n",
            "Now the sum is 36\n",
            "Now the sum is 45\n",
            "Now the sum is 55\n"
          ],
          "name": "stdout"
        }
      ]
    },
    {
      "cell_type": "code",
      "metadata": {
        "id": "_lCJm4aNwKa5",
        "colab_type": "code",
        "colab": {
          "base_uri": "https://localhost:8080/",
          "height": 243
        },
        "outputId": "f6acb059-6952-4bf4-cd2c-588170b1d9a7"
      },
      "source": [
        "for i in 'Hello, World!':\n",
        "  print(i)"
      ],
      "execution_count": null,
      "outputs": [
        {
          "output_type": "stream",
          "text": [
            "H\n",
            "e\n",
            "l\n",
            "l\n",
            "o\n",
            ",\n",
            " \n",
            "W\n",
            "o\n",
            "r\n",
            "l\n",
            "d\n",
            "!\n"
          ],
          "name": "stdout"
        }
      ]
    },
    {
      "cell_type": "code",
      "metadata": {
        "id": "dFC3rH_1waSj",
        "colab_type": "code",
        "colab": {
          "base_uri": "https://localhost:8080/",
          "height": 139
        },
        "outputId": "be2d3c35-eb4a-47ae-ea79-0cf38736dfaa"
      },
      "source": [
        "for i in [1,2.3, '4',[12,34],(1,23,4),{1,23,4},{'1':'one'}]:\n",
        "  print('Datatype of',i,'is',type(i))"
      ],
      "execution_count": null,
      "outputs": [
        {
          "output_type": "stream",
          "text": [
            "Datatype of 1 is <class 'int'>\n",
            "Datatype of 2.3 is <class 'float'>\n",
            "Datatype of 4 is <class 'str'>\n",
            "Datatype of [12, 34] is <class 'list'>\n",
            "Datatype of (1, 23, 4) is <class 'tuple'>\n",
            "Datatype of {1, 4, 23} is <class 'set'>\n",
            "Datatype of {'1': 'one'} is <class 'dict'>\n"
          ],
          "name": "stdout"
        }
      ]
    },
    {
      "cell_type": "code",
      "metadata": {
        "id": "36fo0MylwuoJ",
        "colab_type": "code",
        "colab": {
          "base_uri": "https://localhost:8080/",
          "height": 34
        },
        "outputId": "c2bf3216-b7c5-469f-f344-fd7707e5d009"
      },
      "source": [
        "print('dsdferf')"
      ],
      "execution_count": 2,
      "outputs": [
        {
          "output_type": "stream",
          "text": [
            "dsdferf\n"
          ],
          "name": "stdout"
        }
      ]
    },
    {
      "cell_type": "code",
      "metadata": {
        "id": "Jjf_7WLL2ibr",
        "colab_type": "code",
        "colab": {}
      },
      "source": [
        ""
      ],
      "execution_count": null,
      "outputs": []
    }
  ]
}