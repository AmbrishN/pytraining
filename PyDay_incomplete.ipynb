{
  "nbformat": 4,
  "nbformat_minor": 0,
  "metadata": {
    "colab": {
      "name": "PyDay07",
      "provenance": [],
      "authorship_tag": "ABX9TyOkMRvChlRvYHaJMyQqixC9"
    },
    "kernelspec": {
      "name": "python3",
      "display_name": "Python 3"
    }
  },
  "cells": [
    {
      "cell_type": "code",
      "metadata": {
        "id": "ZBadL8t7WNob",
        "outputId": "0bf112c9-adf6-42f6-dc7f-40332af0f387",
        "colab": {
          "base_uri": "https://localhost:8080/",
          "height": 70
        }
      },
      "source": [
        "#Prime Number range\n",
        "def prime(n):\n",
        "  if n <=1:\n",
        "    return False\n",
        "  for i in range(2,n):\n",
        "    if (n%i) ==0:\n",
        "      return False\n",
        "  return True\n",
        "a = int(input())\n",
        "b = int(input());l=list()\n",
        "for i in range(a+1,b): #Excluding lower and upper limit\n",
        "  if prime(i):\n",
        "    l.append(i)\n",
        "print(l)"
      ],
      "execution_count": null,
      "outputs": [
        {
          "output_type": "stream",
          "text": [
            "0\n",
            "25\n",
            "[2, 3, 5, 7, 11, 13, 17, 19, 23]\n"
          ],
          "name": "stdout"
        }
      ]
    },
    {
      "cell_type": "code",
      "metadata": {
        "id": "6aj7iV97XoBz",
        "outputId": "aac2f12d-b781-4ae7-e574-f25df0a22880",
        "colab": {
          "base_uri": "https://localhost:8080/",
          "height": 52
        }
      },
      "source": [
        "#Perfect Square\n",
        "def check(n): \n",
        "  for i in range(n):\n",
        "    if i*i == n:\n",
        "      return 'YES'\n",
        "  return \"NO\"\n",
        "a = int(input())\n",
        "print(check(a))"
      ],
      "execution_count": null,
      "outputs": [
        {
          "output_type": "stream",
          "text": [
            "4\n",
            "YES\n"
          ],
          "name": "stdout"
        }
      ]
    },
    {
      "cell_type": "code",
      "metadata": {
        "id": "0982fPyiaKvO",
        "outputId": "d9ec92f8-f920-428f-e7f8-1b78646578d1",
        "colab": {
          "base_uri": "https://localhost:8080/",
          "height": 52
        }
      },
      "source": [
        "#Armstrong\n",
        "a = input()\n",
        "b = list(a);s = 0\n",
        "for i in b:\n",
        "  temp = int(i)\n",
        "  s = s + temp**3\n",
        "\n",
        "if str(s) == a:\n",
        "  print('ARMSTRONG')\n",
        "else:\n",
        "  print('NOT AN ARMSTRONG')"
      ],
      "execution_count": null,
      "outputs": [
        {
          "output_type": "stream",
          "text": [
            "153\n",
            "ARMSTRONG\n"
          ],
          "name": "stdout"
        }
      ]
    },
    {
      "cell_type": "code",
      "metadata": {
        "id": "S94rF1E-ce2b",
        "outputId": "e621c569-68cb-4b52-8eda-922a8a9b6660",
        "colab": {
          "base_uri": "https://localhost:8080/"
        }
      },
      "source": [
        "#GCD of two numbers\n",
        "def gcd(a,b):\n",
        "    if b == 0:\n",
        "        return a\n",
        "    else:\n",
        "        return gcd(b,a%b)\n",
        "a = 9\n",
        "b = 12\n",
        "# if a<b:\n",
        "#     a,b = b,a\n",
        "print(gcd(a,b))"
      ],
      "execution_count": 2,
      "outputs": [
        {
          "output_type": "stream",
          "text": [
            "3\n"
          ],
          "name": "stdout"
        }
      ]
    },
    {
      "cell_type": "code",
      "metadata": {
        "id": "QDCCoPf24Q0i",
        "outputId": "cf6912df-f596-48cf-b3ad-7d978223e51c",
        "colab": {
          "base_uri": "https://localhost:8080/"
        }
      },
      "source": [
        "#Fibonacci series\n",
        "def fib(n):\n",
        "    a,b = 0,1\n",
        "    l = [a,b]\n",
        "    if n == 1:\n",
        "        return a\n",
        "    elif n == 2:\n",
        "        return [a,b]\n",
        "    else:\n",
        "        for i in range(n-2):\n",
        "            l.append(a+b)\n",
        "            a = l[-1]\n",
        "            b = l[-2]\n",
        "        return l\n",
        "\n",
        "\n",
        "n = int(input(\"Enter number of digits\"))\n",
        "for i in fib(n):\n",
        "    print(i,end=' ')"
      ],
      "execution_count": 1,
      "outputs": [
        {
          "output_type": "stream",
          "text": [
            "Enter number of digits15\n",
            "0 1 1 2 3 5 8 13 21 34 55 89 144 233 377 "
          ],
          "name": "stdout"
        }
      ]
    },
    {
      "cell_type": "code",
      "metadata": {
        "id": "is_iFIYx4YsD"
      },
      "source": [
        ""
      ],
      "execution_count": null,
      "outputs": []
    }
  ]
}