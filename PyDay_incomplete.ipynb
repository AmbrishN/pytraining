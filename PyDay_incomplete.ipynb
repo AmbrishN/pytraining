{
  "nbformat": 4,
  "nbformat_minor": 0,
  "metadata": {
    "colab": {
      "name": "PyDay07",
      "provenance": [],
      "authorship_tag": "ABX9TyOMX/kco8f4KC1LDEMU7I7F"
    },
    "kernelspec": {
      "name": "python3",
      "display_name": "Python 3"
    }
  },
  "cells": [
    {
      "cell_type": "code",
      "metadata": {
        "id": "ZBadL8t7WNob",
        "outputId": "0bf112c9-adf6-42f6-dc7f-40332af0f387",
        "colab": {
          "base_uri": "https://localhost:8080/",
          "height": 70
        }
      },
      "source": [
        "#Prime Number range\n",
        "def prime(n):\n",
        "  if n <=1:\n",
        "    return False\n",
        "  for i in range(2,n):\n",
        "    if (n%i) ==0:\n",
        "      return False\n",
        "  return True\n",
        "a = int(input())\n",
        "b = int(input());l=list()\n",
        "for i in range(a+1,b): #Excluding lower and upper limit\n",
        "  if prime(i):\n",
        "    l.append(i)\n",
        "print(l)"
      ],
      "execution_count": 6,
      "outputs": [
        {
          "output_type": "stream",
          "text": [
            "0\n",
            "25\n",
            "[2, 3, 5, 7, 11, 13, 17, 19, 23]\n"
          ],
          "name": "stdout"
        }
      ]
    },
    {
      "cell_type": "code",
      "metadata": {
        "id": "6aj7iV97XoBz",
        "outputId": "aac2f12d-b781-4ae7-e574-f25df0a22880",
        "colab": {
          "base_uri": "https://localhost:8080/",
          "height": 52
        }
      },
      "source": [
        "#Perfect Square\n",
        "def check(n): \n",
        "  for i in range(n):\n",
        "    if i*i == n:\n",
        "      return 'YES'\n",
        "  return \"NO\"\n",
        "a = int(input())\n",
        "print(check(a))"
      ],
      "execution_count": 7,
      "outputs": [
        {
          "output_type": "stream",
          "text": [
            "4\n",
            "YES\n"
          ],
          "name": "stdout"
        }
      ]
    },
    {
      "cell_type": "code",
      "metadata": {
        "id": "0982fPyiaKvO",
        "outputId": "d9ec92f8-f920-428f-e7f8-1b78646578d1",
        "colab": {
          "base_uri": "https://localhost:8080/",
          "height": 52
        }
      },
      "source": [
        "#Armstrong\n",
        "a = input()\n",
        "b = list(a);s = 0\n",
        "for i in b:\n",
        "  temp = int(i)\n",
        "  s = s + temp**3\n",
        "\n",
        "if str(s) == a:\n",
        "  print('ARMSTRONG')\n",
        "else:\n",
        "  print('NOT AN ARMSTRONG')"
      ],
      "execution_count": 10,
      "outputs": [
        {
          "output_type": "stream",
          "text": [
            "153\n",
            "ARMSTRONG\n"
          ],
          "name": "stdout"
        }
      ]
    },
    {
      "cell_type": "code",
      "metadata": {
        "id": "S94rF1E-ce2b"
      },
      "source": [
        ""
      ],
      "execution_count": null,
      "outputs": []
    }
  ]
}