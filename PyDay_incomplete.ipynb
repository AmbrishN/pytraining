{
  "nbformat": 4,
  "nbformat_minor": 0,
  "metadata": {
    "colab": {
      "name": "PyDay07",
      "provenance": [],
      "authorship_tag": "ABX9TyP2BBzOFA76gPkJPg6B66mf"
    },
    "kernelspec": {
      "name": "python3",
      "display_name": "Python 3"
    }
  },
  "cells": [
    {
      "cell_type": "code",
      "metadata": {
        "id": "ZBadL8t7WNob",
        "outputId": "0bf112c9-adf6-42f6-dc7f-40332af0f387",
        "colab": {
          "base_uri": "https://localhost:8080/",
          "height": 70
        }
      },
      "source": [
        "def prime(n):\n",
        "  if n <=1:\n",
        "    return False\n",
        "  for i in range(2,n):\n",
        "    if (n%i) ==0:\n",
        "      return False\n",
        "  return True\n",
        "a = int(input())\n",
        "b = int(input());l=list()\n",
        "for i in range(a+1,b): #Excluding lower and upper limit\n",
        "  if prime(i):\n",
        "    l.append(i)\n",
        "print(l)"
      ],
      "execution_count": 6,
      "outputs": [
        {
          "output_type": "stream",
          "text": [
            "0\n",
            "25\n",
            "[2, 3, 5, 7, 11, 13, 17, 19, 23]\n"
          ],
          "name": "stdout"
        }
      ]
    },
    {
      "cell_type": "code",
      "metadata": {
        "id": "6aj7iV97XoBz"
      },
      "source": [
        ""
      ],
      "execution_count": null,
      "outputs": []
    }
  ]
}