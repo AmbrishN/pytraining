{
  "nbformat": 4,
  "nbformat_minor": 0,
  "metadata": {
    "colab": {
      "name": "PyDay2",
      "provenance": [],
      "authorship_tag": "ABX9TyMLEf0SwypgLQvfmhu83Fx/",
      "include_colab_link": true
    },
    "kernelspec": {
      "name": "python3",
      "display_name": "Python 3"
    }
  },
  "cells": [
    {
      "cell_type": "markdown",
      "metadata": {
        "id": "view-in-github",
        "colab_type": "text"
      },
      "source": [
        "<a href=\"https://colab.research.google.com/github/yesdeepakmittal/pytraining/blob/master/PyDay02.ipynb\" target=\"_parent\"><img src=\"https://colab.research.google.com/assets/colab-badge.svg\" alt=\"Open In Colab\"/></a>"
      ]
    },
    {
      "cell_type": "markdown",
      "metadata": {
        "id": "6i4elgD4K6gP"
      },
      "source": [
        "## Python Datatypes"
      ]
    },
    {
      "cell_type": "markdown",
      "metadata": {
        "id": "VCooas6TK_SZ"
      },
      "source": [
        "* **Numeric**\n",
        "    * **Integer**: Negative, zero, and positive number without decimal part Ex. ...-2,-1,0,1,2...\n",
        "    * **Float**: Decimal point numbers ...-2.1,-1.5,0.7,1.2,3.4...\n",
        "    * **Complex**: Number having both  *real number* and *imaginary number* $\\sqrt{-1}$ Ex. 1+$\\sqrt{-2}$"
      ]
    },
    {
      "cell_type": "markdown",
      "metadata": {
        "id": "HQRZIOmZXUVR"
      },
      "source": [
        "<h3>⭐Integer</h3>"
      ]
    },
    {
      "cell_type": "code",
      "metadata": {
        "id": "y_dJUBXNHeG8",
        "outputId": "07b3f541-e7dd-434d-9883-116a3f635544",
        "colab": {
          "base_uri": "https://localhost:8080/",
          "height": 106
        }
      },
      "source": [
        "a = 10  \n",
        "b = -100\n",
        "c = 0x14 #Octal\n",
        "print(a,b)\n",
        "print(c)  #Decimal\n",
        "print(type(a))  #📌type() is an inbuilt function\n",
        "print(type(b))\n",
        "print(type(c)) "
      ],
      "execution_count": 1,
      "outputs": [
        {
          "output_type": "stream",
          "text": [
            "10 -100\n",
            "20\n",
            "<class 'int'>\n",
            "<class 'int'>\n",
            "<class 'int'>\n"
          ],
          "name": "stdout"
        }
      ]
    },
    {
      "cell_type": "code",
      "metadata": {
        "id": "-jvrja1TZw2n",
        "outputId": "4d7e7940-469e-40e0-c97b-161f3587ad4c",
        "colab": {
          "base_uri": "https://localhost:8080/",
          "height": 88
        }
      },
      "source": [
        "a = 27\n",
        "print('{} in decimal'.format(int(a)))\n",
        "print('{} in hexadecimal'.format(hex(a)[2:]))\n",
        "print('{} in binary'.format(bin(a)[2:]))\n",
        "print('{} in octal'.format(oct(a)[2:]))"
      ],
      "execution_count": 13,
      "outputs": [
        {
          "output_type": "stream",
          "text": [
            "27 in decimal\n",
            "1b in hexadecimal\n",
            "11011 in binary\n",
            "33 in octal\n"
          ],
          "name": "stdout"
        }
      ]
    },
    {
      "cell_type": "code",
      "metadata": {
        "id": "eZWOSzvTbAg-",
        "outputId": "2f2092d5-2496-4a5c-8468-b2199b042d58",
        "colab": {
          "base_uri": "https://localhost:8080/",
          "height": 88
        }
      },
      "source": [
        "print('{} in decimal form to decimal: {}'.format('111',int('111',10)))\n",
        "print('{} in hexadecimal form to decimal: {}'.format('1b',int('1b',16)))\n",
        "print('{} in octal form to decimal: {}'.format('33',int('33',8)))\n",
        "print('{} in binary form to decimal: {}'.format('11011',int('11011',2)))"
      ],
      "execution_count": 16,
      "outputs": [
        {
          "output_type": "stream",
          "text": [
            "111 in decimal form to decimal: 111\n",
            "1b in hexadecimal form to decimal: 27\n",
            "33 in octal form to decimal: 27\n",
            "11011 in binary form to decimal: 27\n"
          ],
          "name": "stdout"
        }
      ]
    },
    {
      "cell_type": "markdown",
      "metadata": {
        "id": "JjauyHWLXjiF"
      },
      "source": [
        "<h3>⭐Float</h3>"
      ]
    },
    {
      "cell_type": "code",
      "metadata": {
        "id": "VC5pOEIwL1FS",
        "outputId": "be9bcb07-83a7-41bb-bea0-9fb256faadde",
        "colab": {
          "base_uri": "https://localhost:8080/",
          "height": 122
        }
      },
      "source": [
        "a = 10.1\n",
        "b = -100.6\n",
        "c = int(2e2) # 2 * 10^2\n",
        "print('a is',a,'\\nb is',b,'\\nc is',c)  #Escape character(\\n) for new line\n",
        "print(type(a))\n",
        "print(type(b))\n",
        "print(type(c))"
      ],
      "execution_count": null,
      "outputs": [
        {
          "output_type": "stream",
          "text": [
            "a is 10.1 \n",
            "b is -100.6 \n",
            "c is 200\n",
            "<class 'float'>\n",
            "<class 'float'>\n",
            "<class 'int'>\n"
          ],
          "name": "stdout"
        }
      ]
    },
    {
      "cell_type": "code",
      "metadata": {
        "id": "UV3S2_UddzBx",
        "outputId": "4e458ca3-c055-491a-acba-0d62da42b1af",
        "colab": {
          "base_uri": "https://localhost:8080/",
          "height": 70
        }
      },
      "source": [
        "a = 1.211\n",
        "print(pow(a,3))\n",
        "print(round(a,2))\n",
        "print(abs(a-3))"
      ],
      "execution_count": 21,
      "outputs": [
        {
          "output_type": "stream",
          "text": [
            "1.7759569310000003\n",
            "1.21\n",
            "1.789\n"
          ],
          "name": "stdout"
        }
      ]
    },
    {
      "cell_type": "markdown",
      "metadata": {
        "id": "6X3JuHU_Xx3A"
      },
      "source": [
        "<h3>⭐Complex</h3>"
      ]
    },
    {
      "cell_type": "code",
      "metadata": {
        "id": "npi4AnlrcGg7",
        "outputId": "6927bc08-ffae-4642-8b07-f2229493f0df",
        "colab": {
          "base_uri": "https://localhost:8080/",
          "height": 52
        }
      },
      "source": [
        "a = 1 + 2j\n",
        "print(a)\n",
        "print(type(a))"
      ],
      "execution_count": null,
      "outputs": [
        {
          "output_type": "stream",
          "text": [
            "(1+2j)\n",
            "<class 'complex'>\n"
          ],
          "name": "stdout"
        }
      ]
    },
    {
      "cell_type": "markdown",
      "metadata": {
        "id": "wjFha1JKNb2v"
      },
      "source": [
        "* **Boolean**\n",
        "    * **True**(1)\n",
        "    * **False**(0)"
      ]
    },
    {
      "cell_type": "code",
      "metadata": {
        "id": "VaOUNHvXMPEj",
        "outputId": "98b1c595-07cb-40de-f0be-72702b8b89ff",
        "colab": {
          "base_uri": "https://localhost:8080/",
          "height": 34
        }
      },
      "source": [
        "1 == True"
      ],
      "execution_count": null,
      "outputs": [
        {
          "output_type": "execute_result",
          "data": {
            "text/plain": [
              "True"
            ]
          },
          "metadata": {
            "tags": []
          },
          "execution_count": 4
        }
      ]
    },
    {
      "cell_type": "code",
      "metadata": {
        "id": "2J-JJdZ3MPR4",
        "outputId": "8215b8ea-1992-4650-f742-e52b5794cf15",
        "colab": {
          "base_uri": "https://localhost:8080/",
          "height": 34
        }
      },
      "source": [
        "0 == False"
      ],
      "execution_count": null,
      "outputs": [
        {
          "output_type": "execute_result",
          "data": {
            "text/plain": [
              "True"
            ]
          },
          "metadata": {
            "tags": []
          },
          "execution_count": 5
        }
      ]
    },
    {
      "cell_type": "code",
      "metadata": {
        "id": "cuVGQN-ENuGV",
        "outputId": "d8d8bbef-3e3a-4098-f076-5c2975bc507d",
        "colab": {
          "base_uri": "https://localhost:8080/",
          "height": 34
        }
      },
      "source": [
        "1 == False"
      ],
      "execution_count": null,
      "outputs": [
        {
          "output_type": "execute_result",
          "data": {
            "text/plain": [
              "False"
            ]
          },
          "metadata": {
            "tags": []
          },
          "execution_count": 6
        }
      ]
    },
    {
      "cell_type": "code",
      "metadata": {
        "id": "FNpcmfapNvvz",
        "outputId": "f4b04235-b7b3-4135-a574-4b984c25a43f",
        "colab": {
          "base_uri": "https://localhost:8080/",
          "height": 34
        }
      },
      "source": [
        "0 == True"
      ],
      "execution_count": null,
      "outputs": [
        {
          "output_type": "execute_result",
          "data": {
            "text/plain": [
              "False"
            ]
          },
          "metadata": {
            "tags": []
          },
          "execution_count": 7
        }
      ]
    },
    {
      "cell_type": "code",
      "metadata": {
        "id": "MycxtCeQNw3F",
        "outputId": "919bfc53-d230-4f71-d9e2-4eb8f14a1731",
        "colab": {
          "base_uri": "https://localhost:8080/",
          "height": 34
        }
      },
      "source": [
        "x = True\n",
        "print(type(x))"
      ],
      "execution_count": null,
      "outputs": [
        {
          "output_type": "stream",
          "text": [
            "<class 'bool'>\n"
          ],
          "name": "stdout"
        }
      ]
    },
    {
      "cell_type": "code",
      "metadata": {
        "id": "WPm7OxcGN556",
        "outputId": "dcbca507-c983-4cf0-84fa-b9cc34a66689",
        "colab": {
          "base_uri": "https://localhost:8080/",
          "height": 34
        }
      },
      "source": [
        "bool(1) #📌 bool() is an inbuilt function"
      ],
      "execution_count": null,
      "outputs": [
        {
          "output_type": "execute_result",
          "data": {
            "text/plain": [
              "True"
            ]
          },
          "metadata": {
            "tags": []
          },
          "execution_count": 9
        }
      ]
    },
    {
      "cell_type": "code",
      "metadata": {
        "id": "qmrxDbscN9km",
        "outputId": "12d03b55-9b21-414f-b8c6-4a725d82b92a",
        "colab": {
          "base_uri": "https://localhost:8080/",
          "height": 34
        }
      },
      "source": [
        "bool(0)"
      ],
      "execution_count": null,
      "outputs": [
        {
          "output_type": "execute_result",
          "data": {
            "text/plain": [
              "False"
            ]
          },
          "metadata": {
            "tags": []
          },
          "execution_count": 10
        }
      ]
    },
    {
      "cell_type": "markdown",
      "metadata": {
        "id": "txrfhXe6OKv8"
      },
      "source": [
        "* **Sequence**\n",
        "    * **String**: Collection of one or more than one characters in single quotes **' '** or double quotes **\" \"** and in triple quotes **''' '''** if the sentence is longer than one line. Strings are *immutable*.\n",
        "    * **List**: Unordered collection of data of any datatype. Lists are *mutable*. \n",
        "    * **Tuple**: Unordered collection of data of any datatype. Tuples are *immutable*."
      ]
    },
    {
      "cell_type": "markdown",
      "metadata": {
        "id": "UZ89h6n2Y9st"
      },
      "source": [
        "<h3>⭐String</h3>"
      ]
    },
    {
      "cell_type": "code",
      "metadata": {
        "id": "kY8C1bpdZGQM",
        "outputId": "a3736fd2-8f6b-4767-dd6c-c37f822131af",
        "colab": {
          "base_uri": "https://localhost:8080/",
          "height": 52
        }
      },
      "source": [
        "a = 'Hello, World!'\n",
        "print(a)\n",
        "print(type(a))"
      ],
      "execution_count": null,
      "outputs": [
        {
          "output_type": "stream",
          "text": [
            "Hello, World!\n",
            "<class 'str'>\n"
          ],
          "name": "stdout"
        }
      ]
    },
    {
      "cell_type": "code",
      "metadata": {
        "id": "5aqOClPPN_fA",
        "outputId": "69b0b3b4-3e02-4731-b192-249431d02ddb",
        "colab": {
          "base_uri": "https://localhost:8080/",
          "height": 35
        }
      },
      "source": [
        "a = \"Hello, World!\" #📌String Indexing starts from 0 to n-1\n",
        "a[2]"
      ],
      "execution_count": null,
      "outputs": [
        {
          "output_type": "execute_result",
          "data": {
            "application/vnd.google.colaboratory.intrinsic+json": {
              "type": "string"
            },
            "text/plain": [
              "'l'"
            ]
          },
          "metadata": {
            "tags": []
          },
          "execution_count": 12
        }
      ]
    },
    {
      "cell_type": "code",
      "metadata": {
        "id": "wH-n45OkUgXU",
        "outputId": "909a6934-aed0-43bd-ce19-43c39d59bfc6",
        "colab": {
          "base_uri": "https://localhost:8080/",
          "height": 34
        }
      },
      "source": [
        "a[7:12] == a[7:-1]"
      ],
      "execution_count": null,
      "outputs": [
        {
          "output_type": "execute_result",
          "data": {
            "text/plain": [
              "True"
            ]
          },
          "metadata": {
            "tags": []
          },
          "execution_count": 13
        }
      ]
    },
    {
      "cell_type": "code",
      "metadata": {
        "id": "TEUmnv54UJbW",
        "outputId": "5e4b4530-8e87-4fe1-b289-1971b8118a34",
        "colab": {
          "base_uri": "https://localhost:8080/",
          "height": 35
        }
      },
      "source": [
        "a[-2] #access the character from the last"
      ],
      "execution_count": null,
      "outputs": [
        {
          "output_type": "execute_result",
          "data": {
            "application/vnd.google.colaboratory.intrinsic+json": {
              "type": "string"
            },
            "text/plain": [
              "'d'"
            ]
          },
          "metadata": {
            "tags": []
          },
          "execution_count": 14
        }
      ]
    },
    {
      "cell_type": "code",
      "metadata": {
        "id": "MTyyXSCxUPCC",
        "outputId": "df276ff1-78bd-463a-8b65-024ab826a6b8",
        "colab": {
          "base_uri": "https://localhost:8080/",
          "height": 35
        }
      },
      "source": [
        "#slicing of a string\n",
        "a[0:5]"
      ],
      "execution_count": null,
      "outputs": [
        {
          "output_type": "execute_result",
          "data": {
            "application/vnd.google.colaboratory.intrinsic+json": {
              "type": "string"
            },
            "text/plain": [
              "'Hello'"
            ]
          },
          "metadata": {
            "tags": []
          },
          "execution_count": 15
        }
      ]
    },
    {
      "cell_type": "code",
      "metadata": {
        "id": "VIHfft2KUVA4",
        "outputId": "63e90578-7dff-4465-b5a4-07cb988ae563",
        "colab": {
          "base_uri": "https://localhost:8080/",
          "height": 34
        }
      },
      "source": [
        "print(a[0:5],'Folk!')"
      ],
      "execution_count": null,
      "outputs": [
        {
          "output_type": "stream",
          "text": [
            "Hello Folk!\n"
          ],
          "name": "stdout"
        }
      ]
    },
    {
      "cell_type": "code",
      "metadata": {
        "id": "AVS118epUaSz",
        "outputId": "d538261c-6513-4be5-a292-ce05e23a6515",
        "colab": {
          "base_uri": "https://localhost:8080/",
          "height": 35
        }
      },
      "source": [
        "a[7:-1]"
      ],
      "execution_count": null,
      "outputs": [
        {
          "output_type": "execute_result",
          "data": {
            "application/vnd.google.colaboratory.intrinsic+json": {
              "type": "string"
            },
            "text/plain": [
              "'World'"
            ]
          },
          "metadata": {
            "tags": []
          },
          "execution_count": 17
        }
      ]
    },
    {
      "cell_type": "code",
      "metadata": {
        "id": "E9CIfo9nUc1z",
        "outputId": "323b80ca-d654-4d35-9986-88955187aebe",
        "colab": {
          "base_uri": "https://localhost:8080/",
          "height": 34
        }
      },
      "source": [
        "#Concatenation\n",
        "F_Name = 'Uditanshu'\n",
        "L_Name = 'Saxena'\n",
        "print(F_Name+' '+L_Name)"
      ],
      "execution_count": null,
      "outputs": [
        {
          "output_type": "stream",
          "text": [
            "Uditanshu Saxena\n"
          ],
          "name": "stdout"
        }
      ]
    },
    {
      "cell_type": "code",
      "metadata": {
        "id": "jqt1Ut9-UkEc",
        "outputId": "969d9037-61ec-4fa7-c263-6316987146a5",
        "colab": {
          "base_uri": "https://localhost:8080/",
          "height": 35
        }
      },
      "source": [
        "a = 'hey'\n",
        "a.upper() #📌built-in method"
      ],
      "execution_count": null,
      "outputs": [
        {
          "output_type": "execute_result",
          "data": {
            "application/vnd.google.colaboratory.intrinsic+json": {
              "type": "string"
            },
            "text/plain": [
              "'HEY'"
            ]
          },
          "metadata": {
            "tags": []
          },
          "execution_count": 19
        }
      ]
    },
    {
      "cell_type": "code",
      "metadata": {
        "id": "Zf6zWAy1U0i-",
        "outputId": "30e65524-46c8-485f-cb3d-0921bd8f616d",
        "colab": {
          "base_uri": "https://localhost:8080/",
          "height": 35
        }
      },
      "source": [
        "'HELLO'.lower()  #📌built-in method"
      ],
      "execution_count": null,
      "outputs": [
        {
          "output_type": "execute_result",
          "data": {
            "application/vnd.google.colaboratory.intrinsic+json": {
              "type": "string"
            },
            "text/plain": [
              "'hello'"
            ]
          },
          "metadata": {
            "tags": []
          },
          "execution_count": 20
        }
      ]
    },
    {
      "cell_type": "code",
      "metadata": {
        "id": "aE1SOx3lVF2m",
        "outputId": "ea3fd15f-a396-4850-8ae0-2bc96dc63b51",
        "colab": {
          "base_uri": "https://localhost:8080/",
          "height": 34
        }
      },
      "source": [
        "a.isupper()  #📌built-in method"
      ],
      "execution_count": null,
      "outputs": [
        {
          "output_type": "execute_result",
          "data": {
            "text/plain": [
              "False"
            ]
          },
          "metadata": {
            "tags": []
          },
          "execution_count": 21
        }
      ]
    },
    {
      "cell_type": "code",
      "metadata": {
        "id": "Wn-mvDWbVJ_s",
        "outputId": "c703bd42-6920-4fc8-b3b1-e3b5cc969b59",
        "colab": {
          "base_uri": "https://localhost:8080/",
          "height": 34
        }
      },
      "source": [
        "a.islower()  #📌built-in method"
      ],
      "execution_count": null,
      "outputs": [
        {
          "output_type": "execute_result",
          "data": {
            "text/plain": [
              "True"
            ]
          },
          "metadata": {
            "tags": []
          },
          "execution_count": 22
        }
      ]
    },
    {
      "cell_type": "code",
      "metadata": {
        "id": "mCuYdQdiVNxN",
        "outputId": "e117eac4-800b-46f3-a98b-8c42929d0321",
        "colab": {
          "base_uri": "https://localhost:8080/",
          "height": 34
        }
      },
      "source": [
        "type(a)"
      ],
      "execution_count": null,
      "outputs": [
        {
          "output_type": "execute_result",
          "data": {
            "text/plain": [
              "str"
            ]
          },
          "metadata": {
            "tags": []
          },
          "execution_count": 23
        }
      ]
    },
    {
      "cell_type": "code",
      "metadata": {
        "id": "8ySI2mmQVeKU",
        "outputId": "698f7e94-2a3b-4332-bb75-da999dee934b",
        "colab": {
          "base_uri": "https://localhost:8080/",
          "height": 34
        }
      },
      "source": [
        "len(a)  #📌built-in function"
      ],
      "execution_count": null,
      "outputs": [
        {
          "output_type": "execute_result",
          "data": {
            "text/plain": [
              "3"
            ]
          },
          "metadata": {
            "tags": []
          },
          "execution_count": 24
        }
      ]
    },
    {
      "cell_type": "code",
      "metadata": {
        "id": "3goSI7DFdSGQ",
        "outputId": "e5466ea0-33d1-4339-f465-abd3e0c3e9f0",
        "colab": {
          "base_uri": "https://localhost:8080/",
          "height": 88
        }
      },
      "source": [
        "a = 'Vanijya Technology'\n",
        "print(a.lower())\n",
        "print(a.upper())\n",
        "print(a.title())\n",
        "print(a.swapcase())"
      ],
      "execution_count": 19,
      "outputs": [
        {
          "output_type": "stream",
          "text": [
            "vanijya technology\n",
            "VANIJYA TECHNOLOGY\n",
            "Vanijya Technology\n",
            "vANIJYA tECHNOLOGY\n"
          ],
          "name": "stdout"
        }
      ]
    },
    {
      "cell_type": "code",
      "metadata": {
        "id": "uVr2HuVq08Qc",
        "outputId": "c67a60b9-59fb-4719-8de6-d3413cc88fd1",
        "colab": {
          "base_uri": "https://localhost:8080/",
          "height": 35
        }
      },
      "source": [
        "\" Yeah \".strip() #📌built-in method to remove whitespaces from left & right"
      ],
      "execution_count": null,
      "outputs": [
        {
          "output_type": "execute_result",
          "data": {
            "application/vnd.google.colaboratory.intrinsic+json": {
              "type": "string"
            },
            "text/plain": [
              "'Yeah'"
            ]
          },
          "metadata": {
            "tags": []
          },
          "execution_count": 25
        }
      ]
    },
    {
      "cell_type": "code",
      "metadata": {
        "id": "NxFoi8HO08M3",
        "outputId": "2b16f436-f51e-4ed2-f957-25338617b781",
        "colab": {
          "base_uri": "https://localhost:8080/",
          "height": 35
        }
      },
      "source": [
        "\" Yeah \".lstrip() #📌built-in method to remove whitespace from left"
      ],
      "execution_count": null,
      "outputs": [
        {
          "output_type": "execute_result",
          "data": {
            "application/vnd.google.colaboratory.intrinsic+json": {
              "type": "string"
            },
            "text/plain": [
              "'Yeah '"
            ]
          },
          "metadata": {
            "tags": []
          },
          "execution_count": 26
        }
      ]
    },
    {
      "cell_type": "code",
      "metadata": {
        "id": "MLRRimgH1DsD",
        "outputId": "ebef139b-cda6-4687-ef28-4c54c2127339",
        "colab": {
          "base_uri": "https://localhost:8080/",
          "height": 35
        }
      },
      "source": [
        "\" Yeah \".rstrip() #📌built-in method to remove whitespace from right"
      ],
      "execution_count": null,
      "outputs": [
        {
          "output_type": "execute_result",
          "data": {
            "application/vnd.google.colaboratory.intrinsic+json": {
              "type": "string"
            },
            "text/plain": [
              "' Yeah'"
            ]
          },
          "metadata": {
            "tags": []
          },
          "execution_count": 27
        }
      ]
    },
    {
      "cell_type": "code",
      "metadata": {
        "id": "lsx8QxFV1Dn8",
        "outputId": "d22b17c3-054e-4094-99f0-da84a5ae87ec",
        "colab": {
          "base_uri": "https://localhost:8080/",
          "height": 34
        }
      },
      "source": [
        "\" Hello \".strip().count('l') #📌built-in method to count number of specific character in a string"
      ],
      "execution_count": null,
      "outputs": [
        {
          "output_type": "execute_result",
          "data": {
            "text/plain": [
              "2"
            ]
          },
          "metadata": {
            "tags": []
          },
          "execution_count": 28
        }
      ]
    },
    {
      "cell_type": "code",
      "metadata": {
        "id": "pc7Co90l1Sqq",
        "outputId": "b2f01b14-6187-49d9-a553-4f6b02ae86c7",
        "colab": {
          "base_uri": "https://localhost:8080/",
          "height": 34
        }
      },
      "source": [
        "' hello'.endswith('lo') #📌built-in method to check if the string is ending with specified substring"
      ],
      "execution_count": null,
      "outputs": [
        {
          "output_type": "execute_result",
          "data": {
            "text/plain": [
              "True"
            ]
          },
          "metadata": {
            "tags": []
          },
          "execution_count": 29
        }
      ]
    },
    {
      "cell_type": "code",
      "metadata": {
        "id": "45C6prsr1W6s",
        "outputId": "644f3ecb-fb04-41ee-a548-f57a7aa2d6b8",
        "colab": {
          "base_uri": "https://localhost:8080/",
          "height": 34
        }
      },
      "source": [
        "'hello'.startswith('he') #📌built-in method to check if the string is starting with specified substring"
      ],
      "execution_count": null,
      "outputs": [
        {
          "output_type": "execute_result",
          "data": {
            "text/plain": [
              "True"
            ]
          },
          "metadata": {
            "tags": []
          },
          "execution_count": 30
        }
      ]
    },
    {
      "cell_type": "code",
      "metadata": {
        "id": "Xtqr-nf41Xsb",
        "outputId": "34cc979e-2cd5-4296-d3cb-c97b0ec89aa6",
        "colab": {
          "base_uri": "https://localhost:8080/",
          "height": 34
        }
      },
      "source": [
        "'123'.isnumeric() #📌built-in method to check if the string is numeric"
      ],
      "execution_count": null,
      "outputs": [
        {
          "output_type": "execute_result",
          "data": {
            "text/plain": [
              "True"
            ]
          },
          "metadata": {
            "tags": []
          },
          "execution_count": 31
        }
      ]
    },
    {
      "cell_type": "code",
      "metadata": {
        "id": "X1UgkW-51itX",
        "outputId": "de441538-7c06-42b3-9a49-5a12bdfdddc5",
        "colab": {
          "base_uri": "https://localhost:8080/",
          "height": 34
        }
      },
      "source": [
        "'hellpo '.isnumeric()"
      ],
      "execution_count": null,
      "outputs": [
        {
          "output_type": "execute_result",
          "data": {
            "text/plain": [
              "False"
            ]
          },
          "metadata": {
            "tags": []
          },
          "execution_count": 32
        }
      ]
    },
    {
      "cell_type": "code",
      "metadata": {
        "id": "jh36vNDEMGc3",
        "outputId": "4e493333-bdec-429b-a6c4-1124bc264c0f",
        "colab": {
          "base_uri": "https://localhost:8080/",
          "height": 34
        }
      },
      "source": [
        "'hello'.isalpha() #📌built-in method to check if the string is alphabetic"
      ],
      "execution_count": null,
      "outputs": [
        {
          "output_type": "execute_result",
          "data": {
            "text/plain": [
              "True"
            ]
          },
          "metadata": {
            "tags": []
          },
          "execution_count": 33
        }
      ]
    },
    {
      "cell_type": "code",
      "metadata": {
        "id": "jHO2Z9dWMO9U",
        "outputId": "1beab65d-16d1-431d-a656-120b73f3ae8c",
        "colab": {
          "base_uri": "https://localhost:8080/",
          "height": 35
        }
      },
      "source": [
        "'hello'.replace('llo','y') #📌built-in method to replace a substring from a string"
      ],
      "execution_count": null,
      "outputs": [
        {
          "output_type": "execute_result",
          "data": {
            "application/vnd.google.colaboratory.intrinsic+json": {
              "type": "string"
            },
            "text/plain": [
              "'hey'"
            ]
          },
          "metadata": {
            "tags": []
          },
          "execution_count": 34
        }
      ]
    },
    {
      "cell_type": "code",
      "metadata": {
        "id": "XclJNKao1i4S",
        "outputId": "fee380be-e1d7-40c5-b218-ce7518be4db0",
        "colab": {
          "base_uri": "https://localhost:8080/",
          "height": 35
        }
      },
      "source": [
        "a = \" \".join(['Hey,','Deepak','Mittal']) #📌built-in method to join strings with a specified \" \" character\n",
        "a"
      ],
      "execution_count": null,
      "outputs": [
        {
          "output_type": "execute_result",
          "data": {
            "application/vnd.google.colaboratory.intrinsic+json": {
              "type": "string"
            },
            "text/plain": [
              "'Hey, Deepak Mittal'"
            ]
          },
          "metadata": {
            "tags": []
          },
          "execution_count": 35
        }
      ]
    },
    {
      "cell_type": "code",
      "metadata": {
        "id": "on2brX8U1i0v",
        "outputId": "95eb03d1-8a8c-440b-8a7a-a4ca693db900",
        "colab": {
          "base_uri": "https://localhost:8080/",
          "height": 34
        }
      },
      "source": [
        "a.split() #default by whitespace"
      ],
      "execution_count": null,
      "outputs": [
        {
          "output_type": "execute_result",
          "data": {
            "text/plain": [
              "['Hey,', 'Deepak', 'Mittal']"
            ]
          },
          "metadata": {
            "tags": []
          },
          "execution_count": 36
        }
      ]
    },
    {
      "cell_type": "code",
      "metadata": {
        "id": "GkgSX6AHgf3R",
        "outputId": "1e6f8684-a5ff-4586-8835-1d720b8476a6",
        "colab": {
          "base_uri": "https://localhost:8080/",
          "height": 35
        }
      },
      "source": [
        "'Hello'.find('e')"
      ],
      "execution_count": 30,
      "outputs": [
        {
          "output_type": "execute_result",
          "data": {
            "text/plain": [
              "1"
            ]
          },
          "metadata": {
            "tags": []
          },
          "execution_count": 30
        }
      ]
    },
    {
      "cell_type": "code",
      "metadata": {
        "id": "wGhpW62iglXm",
        "outputId": "7baaea71-7bc0-402e-8571-84de3755533b",
        "colab": {
          "base_uri": "https://localhost:8080/",
          "height": 35
        }
      },
      "source": [
        "'Hello'.index('e')"
      ],
      "execution_count": 31,
      "outputs": [
        {
          "output_type": "execute_result",
          "data": {
            "text/plain": [
              "1"
            ]
          },
          "metadata": {
            "tags": []
          },
          "execution_count": 31
        }
      ]
    },
    {
      "cell_type": "code",
      "metadata": {
        "id": "yA6mIDXPgpNl",
        "outputId": "36e413b1-da6a-4f0a-c762-68ed68a047af",
        "colab": {
          "base_uri": "https://localhost:8080/",
          "height": 35
        }
      },
      "source": [
        "'Hello'.replace('ll','oo😂')"
      ],
      "execution_count": 33,
      "outputs": [
        {
          "output_type": "execute_result",
          "data": {
            "application/vnd.google.colaboratory.intrinsic+json": {
              "type": "string"
            },
            "text/plain": [
              "'Heoo😂o'"
            ]
          },
          "metadata": {
            "tags": []
          },
          "execution_count": 33
        }
      ]
    },
    {
      "cell_type": "markdown",
      "metadata": {
        "id": "Uytm92PmbyNK"
      },
      "source": [
        "<h5>🧐Formating in string</h5>"
      ]
    },
    {
      "cell_type": "code",
      "metadata": {
        "id": "NmxIQgkN1ilx",
        "outputId": "b2edab29-2682-4bb7-d05c-57ff12ea1477",
        "colab": {
          "base_uri": "https://localhost:8080/",
          "height": 35
        }
      },
      "source": [
        "'My name is {} and I have {} computers'.format('Deepak Mittal',2)"
      ],
      "execution_count": null,
      "outputs": [
        {
          "output_type": "execute_result",
          "data": {
            "application/vnd.google.colaboratory.intrinsic+json": {
              "type": "string"
            },
            "text/plain": [
              "'My name is Deepak Mittal and I have 2 computers'"
            ]
          },
          "metadata": {
            "tags": []
          },
          "execution_count": 37
        }
      ]
    },
    {
      "cell_type": "code",
      "metadata": {
        "id": "dHo4EOm0GVmy",
        "outputId": "19e9d912-51bd-44dc-c847-a92c82ddf1f1",
        "colab": {
          "base_uri": "https://localhost:8080/",
          "height": 35
        }
      },
      "source": [
        "#https://docs.python.org/3/library/string.html#format-specification-mini-language\n",
        "'My name is {name} and I have {number} computers'.format(number = 2,name = \"Deepak Mittal\")"
      ],
      "execution_count": null,
      "outputs": [
        {
          "output_type": "execute_result",
          "data": {
            "application/vnd.google.colaboratory.intrinsic+json": {
              "type": "string"
            },
            "text/plain": [
              "'My name is Deepak Mittal and I have 2 computers'"
            ]
          },
          "metadata": {
            "tags": []
          },
          "execution_count": 38
        }
      ]
    },
    {
      "cell_type": "code",
      "metadata": {
        "id": "4J5gkT97MusG",
        "outputId": "739ee719-5090-4589-e11a-d870da8b4534",
        "colab": {
          "base_uri": "https://localhost:8080/",
          "height": 35
        }
      },
      "source": [
        "'My name is {1} and I have {0} computers'.format(2,\"Deepak Mittal\")"
      ],
      "execution_count": null,
      "outputs": [
        {
          "output_type": "execute_result",
          "data": {
            "application/vnd.google.colaboratory.intrinsic+json": {
              "type": "string"
            },
            "text/plain": [
              "'My name is Deepak Mittal and I have 2 computers'"
            ]
          },
          "metadata": {
            "tags": []
          },
          "execution_count": 39
        }
      ]
    },
    {
      "cell_type": "code",
      "metadata": {
        "id": "NR1f0uZGQKkI",
        "outputId": "b7baafb7-2848-4850-f7b2-1e240388510b",
        "colab": {
          "base_uri": "https://localhost:8080/",
          "height": 35
        }
      },
      "source": [
        "'{:.2s} is awesome'.format('Python')"
      ],
      "execution_count": null,
      "outputs": [
        {
          "output_type": "execute_result",
          "data": {
            "application/vnd.google.colaboratory.intrinsic+json": {
              "type": "string"
            },
            "text/plain": [
              "'Py is awesome'"
            ]
          },
          "metadata": {
            "tags": []
          },
          "execution_count": 40
        }
      ]
    },
    {
      "cell_type": "code",
      "metadata": {
        "id": "4dcFXJayQKsK",
        "outputId": "2a660e33-fffd-461d-fa1e-363f204724e1",
        "colab": {
          "base_uri": "https://localhost:8080/",
          "height": 35
        }
      },
      "source": [
        "'{:<6s}'.format('hi') #left alignment"
      ],
      "execution_count": null,
      "outputs": [
        {
          "output_type": "execute_result",
          "data": {
            "application/vnd.google.colaboratory.intrinsic+json": {
              "type": "string"
            },
            "text/plain": [
              "'hi    '"
            ]
          },
          "metadata": {
            "tags": []
          },
          "execution_count": 41
        }
      ]
    },
    {
      "cell_type": "code",
      "metadata": {
        "id": "xWQUs0W3QKft",
        "outputId": "1ddfef7a-dff4-4e5d-fb91-638038590167",
        "colab": {
          "base_uri": "https://localhost:8080/",
          "height": 35
        }
      },
      "source": [
        "'{:>6s}'.format('hi')  #right alignment"
      ],
      "execution_count": null,
      "outputs": [
        {
          "output_type": "execute_result",
          "data": {
            "application/vnd.google.colaboratory.intrinsic+json": {
              "type": "string"
            },
            "text/plain": [
              "'    hi'"
            ]
          },
          "metadata": {
            "tags": []
          },
          "execution_count": 42
        }
      ]
    },
    {
      "cell_type": "code",
      "metadata": {
        "id": "iouUp_ttQzJ1",
        "outputId": "5c253d8b-c877-4335-fbc3-0f6d48dba44d",
        "colab": {
          "base_uri": "https://localhost:8080/",
          "height": 35
        }
      },
      "source": [
        "'{:^6s}'.format('hi')       #center alignment"
      ],
      "execution_count": null,
      "outputs": [
        {
          "output_type": "execute_result",
          "data": {
            "application/vnd.google.colaboratory.intrinsic+json": {
              "type": "string"
            },
            "text/plain": [
              "'  hi  '"
            ]
          },
          "metadata": {
            "tags": []
          },
          "execution_count": 43
        }
      ]
    },
    {
      "cell_type": "code",
      "metadata": {
        "id": "ssceHt78OXK3",
        "outputId": "76967496-2995-4f1f-944e-833b4803dc0d",
        "colab": {
          "base_uri": "https://localhost:8080/",
          "height": 35
        }
      },
      "source": [
        "format(121, \"d\")"
      ],
      "execution_count": null,
      "outputs": [
        {
          "output_type": "execute_result",
          "data": {
            "application/vnd.google.colaboratory.intrinsic+json": {
              "type": "string"
            },
            "text/plain": [
              "'121'"
            ]
          },
          "metadata": {
            "tags": []
          },
          "execution_count": 44
        }
      ]
    },
    {
      "cell_type": "code",
      "metadata": {
        "id": "8tMWp33eOaFJ",
        "outputId": "0ce89f44-ce57-4e01-b9d3-4281f9836eb2",
        "colab": {
          "base_uri": "https://localhost:8080/",
          "height": 34
        }
      },
      "source": [
        "format(121, \".2f\"),format(12, \"f\")"
      ],
      "execution_count": null,
      "outputs": [
        {
          "output_type": "execute_result",
          "data": {
            "text/plain": [
              "('121.00', '12.000000')"
            ]
          },
          "metadata": {
            "tags": []
          },
          "execution_count": 45
        }
      ]
    },
    {
      "cell_type": "code",
      "metadata": {
        "id": "pXRH0-GhOn46",
        "outputId": "da3f4447-c014-405b-acf6-c4a364a027c8",
        "colab": {
          "base_uri": "https://localhost:8080/",
          "height": 35
        }
      },
      "source": [
        "format(15, \"b\")"
      ],
      "execution_count": null,
      "outputs": [
        {
          "output_type": "execute_result",
          "data": {
            "application/vnd.google.colaboratory.intrinsic+json": {
              "type": "string"
            },
            "text/plain": [
              "'1111'"
            ]
          },
          "metadata": {
            "tags": []
          },
          "execution_count": 46
        }
      ]
    },
    {
      "cell_type": "code",
      "metadata": {
        "id": "oLjbPTRxOs5f",
        "outputId": "64f949f1-9276-446c-a3bb-981bed3c36d5",
        "colab": {
          "base_uri": "https://localhost:8080/",
          "height": 35
        }
      },
      "source": [
        "format(-11, \"b\")"
      ],
      "execution_count": null,
      "outputs": [
        {
          "output_type": "execute_result",
          "data": {
            "application/vnd.google.colaboratory.intrinsic+json": {
              "type": "string"
            },
            "text/plain": [
              "'-1011'"
            ]
          },
          "metadata": {
            "tags": []
          },
          "execution_count": 47
        }
      ]
    },
    {
      "cell_type": "code",
      "metadata": {
        "id": "VxZWQBe7O4QI",
        "outputId": "f94a8fd0-6b32-4a13-cd28-853a0a832ada",
        "colab": {
          "base_uri": "https://localhost:8080/",
          "height": 35
        }
      },
      "source": [
        "format(1561, \"*>+7,d\")"
      ],
      "execution_count": null,
      "outputs": [
        {
          "output_type": "execute_result",
          "data": {
            "application/vnd.google.colaboratory.intrinsic+json": {
              "type": "string"
            },
            "text/plain": [
              "'*+1,561'"
            ]
          },
          "metadata": {
            "tags": []
          },
          "execution_count": 48
        }
      ]
    },
    {
      "cell_type": "code",
      "metadata": {
        "id": "1hp1FJiwO4MM",
        "outputId": "6403646c-1847-4bc5-9100-73b85b04a70a",
        "colab": {
          "base_uri": "https://localhost:8080/",
          "height": 35
        }
      },
      "source": [
        "format(566.7883, \"^-09.3f\")"
      ],
      "execution_count": null,
      "outputs": [
        {
          "output_type": "execute_result",
          "data": {
            "application/vnd.google.colaboratory.intrinsic+json": {
              "type": "string"
            },
            "text/plain": [
              "'0566.7880'"
            ]
          },
          "metadata": {
            "tags": []
          },
          "execution_count": 49
        }
      ]
    },
    {
      "cell_type": "code",
      "metadata": {
        "id": "NQuhoCJWJRtg",
        "outputId": "017ebb2d-f303-432f-a049-8d9c3b689d35",
        "colab": {
          "base_uri": "https://localhost:8080/",
          "height": 35
        }
      },
      "source": [
        "x = 10.5\n",
        "y = x * 1.1\n",
        "\n",
        "'Number {:.2f} and with 10% additional is {:.2f}'.format(x,y)"
      ],
      "execution_count": null,
      "outputs": [
        {
          "output_type": "execute_result",
          "data": {
            "application/vnd.google.colaboratory.intrinsic+json": {
              "type": "string"
            },
            "text/plain": [
              "'Number 10.50 and with 10% additional is 11.55'"
            ]
          },
          "metadata": {
            "tags": []
          },
          "execution_count": 50
        }
      ]
    },
    {
      "cell_type": "markdown",
      "metadata": {
        "id": "SfAmXy31ZW_3"
      },
      "source": [
        "<h3>⭐List</h3>"
      ]
    },
    {
      "cell_type": "code",
      "metadata": {
        "id": "Je6HjrF4Vt8K",
        "outputId": "59f768e1-f5b8-4086-9c48-5b87ac485456",
        "colab": {
          "base_uri": "https://localhost:8080/",
          "height": 34
        }
      },
      "source": [
        "a = []\n",
        "print(type(a))"
      ],
      "execution_count": null,
      "outputs": [
        {
          "output_type": "stream",
          "text": [
            "<class 'list'>\n"
          ],
          "name": "stdout"
        }
      ]
    },
    {
      "cell_type": "code",
      "metadata": {
        "id": "7jV8cy_WbNHo",
        "outputId": "1f4dfab7-8c47-4bc2-a892-0a9660ae24fe",
        "colab": {
          "base_uri": "https://localhost:8080/",
          "height": 34
        }
      },
      "source": [
        "temp = [1,23,4,3.4, 4.5,'Nandini',[\"ismaa\",'Learning Python']]\n",
        "temp[5] = \"jvala\" #📌Mutability \n",
        "temp"
      ],
      "execution_count": null,
      "outputs": [
        {
          "output_type": "execute_result",
          "data": {
            "text/plain": [
              "[1, 23, 4, 3.4, 4.5, 'jvala', ['ismaa', 'Learning Python']]"
            ]
          },
          "metadata": {
            "tags": []
          },
          "execution_count": 52
        }
      ]
    },
    {
      "cell_type": "code",
      "metadata": {
        "id": "oRL-XTitdXuY",
        "outputId": "0c2fd317-16b9-4c2b-bfb4-e6c09de6e95e",
        "colab": {
          "base_uri": "https://localhost:8080/",
          "height": 35
        }
      },
      "source": [
        "temp[6][0][2:]"
      ],
      "execution_count": null,
      "outputs": [
        {
          "output_type": "execute_result",
          "data": {
            "application/vnd.google.colaboratory.intrinsic+json": {
              "type": "string"
            },
            "text/plain": [
              "'maa'"
            ]
          },
          "metadata": {
            "tags": []
          },
          "execution_count": 53
        }
      ]
    },
    {
      "cell_type": "code",
      "metadata": {
        "id": "7dAwKHKUo3fz",
        "outputId": "8329603d-1bf1-4117-f737-8a4596002b75",
        "colab": {
          "base_uri": "https://localhost:8080/",
          "height": 35
        }
      },
      "source": [
        "temp[6][1][-6:-4]"
      ],
      "execution_count": null,
      "outputs": [
        {
          "output_type": "execute_result",
          "data": {
            "application/vnd.google.colaboratory.intrinsic+json": {
              "type": "string"
            },
            "text/plain": [
              "'Py'"
            ]
          },
          "metadata": {
            "tags": []
          },
          "execution_count": 54
        }
      ]
    },
    {
      "cell_type": "code",
      "metadata": {
        "id": "fwPEcEmkeVDd",
        "outputId": "2df3d549-6ab3-44d3-c74a-b07ca469724d",
        "colab": {
          "base_uri": "https://localhost:8080/",
          "height": 35
        }
      },
      "source": [
        "var = temp[6][0]\n",
        "var[1:3]"
      ],
      "execution_count": null,
      "outputs": [
        {
          "output_type": "execute_result",
          "data": {
            "application/vnd.google.colaboratory.intrinsic+json": {
              "type": "string"
            },
            "text/plain": [
              "'sm'"
            ]
          },
          "metadata": {
            "tags": []
          },
          "execution_count": 55
        }
      ]
    },
    {
      "cell_type": "code",
      "metadata": {
        "id": "3SjlVOSVaAsK",
        "outputId": "72a759d3-e794-4f5a-f427-68e45c8481fc",
        "colab": {
          "base_uri": "https://localhost:8080/",
          "height": 34
        }
      },
      "source": [
        "a = ['a','b',34,[23,3],'Hello, World!']\n",
        "print(a)"
      ],
      "execution_count": null,
      "outputs": [
        {
          "output_type": "stream",
          "text": [
            "['a', 'b', 34, [23, 3], 'Hello, World!']\n"
          ],
          "name": "stdout"
        }
      ]
    },
    {
      "cell_type": "code",
      "metadata": {
        "id": "WqxNuoudaFZO",
        "outputId": "0f8cc599-e799-4283-e3b7-324781ec4b29",
        "colab": {
          "base_uri": "https://localhost:8080/",
          "height": 35
        }
      },
      "source": [
        "a[1]"
      ],
      "execution_count": null,
      "outputs": [
        {
          "output_type": "execute_result",
          "data": {
            "application/vnd.google.colaboratory.intrinsic+json": {
              "type": "string"
            },
            "text/plain": [
              "'b'"
            ]
          },
          "metadata": {
            "tags": []
          },
          "execution_count": 57
        }
      ]
    },
    {
      "cell_type": "code",
      "metadata": {
        "id": "0D1UrQffaKY5",
        "outputId": "dba4fedd-a430-4c88-c0dd-a14b2e7aadfb",
        "colab": {
          "base_uri": "https://localhost:8080/",
          "height": 34
        }
      },
      "source": [
        "a[3]"
      ],
      "execution_count": null,
      "outputs": [
        {
          "output_type": "execute_result",
          "data": {
            "text/plain": [
              "[23, 3]"
            ]
          },
          "metadata": {
            "tags": []
          },
          "execution_count": 58
        }
      ]
    },
    {
      "cell_type": "code",
      "metadata": {
        "id": "g4KCCcn7aMyT",
        "outputId": "270335c1-fc8d-4305-efc1-b847461ddc78",
        "colab": {
          "base_uri": "https://localhost:8080/",
          "height": 34
        }
      },
      "source": [
        "a[3][1]"
      ],
      "execution_count": null,
      "outputs": [
        {
          "output_type": "execute_result",
          "data": {
            "text/plain": [
              "3"
            ]
          },
          "metadata": {
            "tags": []
          },
          "execution_count": 59
        }
      ]
    },
    {
      "cell_type": "code",
      "metadata": {
        "id": "IgZlowt0aQFJ",
        "outputId": "4a2cba4f-7c0a-4658-cd64-fdb4bf14c41f",
        "colab": {
          "base_uri": "https://localhost:8080/",
          "height": 35
        }
      },
      "source": [
        "a[4][7]"
      ],
      "execution_count": null,
      "outputs": [
        {
          "output_type": "execute_result",
          "data": {
            "application/vnd.google.colaboratory.intrinsic+json": {
              "type": "string"
            },
            "text/plain": [
              "'W'"
            ]
          },
          "metadata": {
            "tags": []
          },
          "execution_count": 60
        }
      ]
    },
    {
      "cell_type": "code",
      "metadata": {
        "id": "-KTwaedYaRyW",
        "outputId": "732317ce-5170-4173-9bf8-12afae5d14e3",
        "colab": {
          "base_uri": "https://localhost:8080/",
          "height": 34
        }
      },
      "source": [
        "a[4][12] == a[4][-1]"
      ],
      "execution_count": null,
      "outputs": [
        {
          "output_type": "execute_result",
          "data": {
            "text/plain": [
              "True"
            ]
          },
          "metadata": {
            "tags": []
          },
          "execution_count": 61
        }
      ]
    },
    {
      "cell_type": "code",
      "metadata": {
        "id": "Xbj5t-enaTe0",
        "outputId": "423037f9-90e5-49bb-b1e1-5d7a5b30fd1b",
        "colab": {
          "base_uri": "https://localhost:8080/",
          "height": 35
        }
      },
      "source": [
        "a[4][0:5] #📌slicing"
      ],
      "execution_count": null,
      "outputs": [
        {
          "output_type": "execute_result",
          "data": {
            "application/vnd.google.colaboratory.intrinsic+json": {
              "type": "string"
            },
            "text/plain": [
              "'Hello'"
            ]
          },
          "metadata": {
            "tags": []
          },
          "execution_count": 62
        }
      ]
    },
    {
      "cell_type": "code",
      "metadata": {
        "id": "922VHQUTaVrw",
        "outputId": "7a3a4274-3d66-477e-9cab-a65ee065f24c",
        "colab": {
          "base_uri": "https://localhost:8080/",
          "height": 34
        }
      },
      "source": [
        "len(a)"
      ],
      "execution_count": null,
      "outputs": [
        {
          "output_type": "execute_result",
          "data": {
            "text/plain": [
              "5"
            ]
          },
          "metadata": {
            "tags": []
          },
          "execution_count": 63
        }
      ]
    },
    {
      "cell_type": "code",
      "metadata": {
        "id": "vBEXgaJ1qKfW"
      },
      "source": [
        "temp = [38,39,33,37,32,50]"
      ],
      "execution_count": null,
      "outputs": []
    },
    {
      "cell_type": "code",
      "metadata": {
        "id": "DbAMgbkGaY5K",
        "outputId": "4a62e1c4-a55f-43ce-e973-155a51039415",
        "colab": {
          "base_uri": "https://localhost:8080/",
          "height": 52
        }
      },
      "source": [
        "print(min(temp)) #📌built-in function\n",
        "print(max(temp))"
      ],
      "execution_count": null,
      "outputs": [
        {
          "output_type": "stream",
          "text": [
            "32\n",
            "50\n"
          ],
          "name": "stdout"
        }
      ]
    },
    {
      "cell_type": "code",
      "metadata": {
        "id": "SWqwZC-DadTK",
        "outputId": "51875b28-3daf-458f-eccc-f662aa805d2b",
        "colab": {
          "base_uri": "https://localhost:8080/",
          "height": 34
        }
      },
      "source": [
        "[1,2,3,4] + [2,2,2,2] #concatenation"
      ],
      "execution_count": null,
      "outputs": [
        {
          "output_type": "execute_result",
          "data": {
            "text/plain": [
              "[1, 2, 3, 4, 2, 2, 2, 2]"
            ]
          },
          "metadata": {
            "tags": []
          },
          "execution_count": 66
        }
      ]
    },
    {
      "cell_type": "code",
      "metadata": {
        "id": "F6VMrW4-ao8s",
        "outputId": "5c2a101c-4a85-43b5-f400-0c70ea540a1c",
        "colab": {
          "base_uri": "https://localhost:8080/",
          "height": 34
        }
      },
      "source": [
        "'a' in a "
      ],
      "execution_count": null,
      "outputs": [
        {
          "output_type": "execute_result",
          "data": {
            "text/plain": [
              "True"
            ]
          },
          "metadata": {
            "tags": []
          },
          "execution_count": 67
        }
      ]
    },
    {
      "cell_type": "code",
      "metadata": {
        "id": "yyocLR-Gar9v",
        "outputId": "a8791b23-d5d7-45e6-ef4e-a2435e5be6aa",
        "colab": {
          "base_uri": "https://localhost:8080/",
          "height": 34
        }
      },
      "source": [
        "a.append('d')  #📌built-in method which is use to add a element at the end of list\n",
        "a"
      ],
      "execution_count": null,
      "outputs": [
        {
          "output_type": "execute_result",
          "data": {
            "text/plain": [
              "['a', 'b', 34, [23, 3], 'Hello, World!', 'd']"
            ]
          },
          "metadata": {
            "tags": []
          },
          "execution_count": 68
        }
      ]
    },
    {
      "cell_type": "code",
      "metadata": {
        "id": "y6_N7o-9a0VU",
        "outputId": "3210321a-2006-4a91-a66e-3b8eba185ca5",
        "colab": {
          "base_uri": "https://localhost:8080/",
          "height": 34
        }
      },
      "source": [
        "a.index('d')"
      ],
      "execution_count": null,
      "outputs": [
        {
          "output_type": "execute_result",
          "data": {
            "text/plain": [
              "5"
            ]
          },
          "metadata": {
            "tags": []
          },
          "execution_count": 69
        }
      ]
    },
    {
      "cell_type": "code",
      "metadata": {
        "id": "8-hYVsu-4Szx",
        "outputId": "9601b9f6-0b9b-4772-b599-66a106850460",
        "colab": {
          "base_uri": "https://localhost:8080/",
          "height": 34
        }
      },
      "source": [
        "a"
      ],
      "execution_count": null,
      "outputs": [
        {
          "output_type": "execute_result",
          "data": {
            "text/plain": [
              "['a', 'b', 34, [23, 3], 'Hello, World!', 'd']"
            ]
          },
          "metadata": {
            "tags": []
          },
          "execution_count": 70
        }
      ]
    },
    {
      "cell_type": "code",
      "metadata": {
        "id": "9jGLtNT6a2Nh",
        "outputId": "0ca5e820-40d7-4ae6-e2b1-7cbcdb79d0d9",
        "colab": {
          "base_uri": "https://localhost:8080/",
          "height": 34
        }
      },
      "source": [
        "a[3][1] = 'Piyush'  #📌 Lists are mutuable\n",
        "a"
      ],
      "execution_count": null,
      "outputs": [
        {
          "output_type": "execute_result",
          "data": {
            "text/plain": [
              "['a', 'b', 34, [23, 'Piyush'], 'Hello, World!', 'd']"
            ]
          },
          "metadata": {
            "tags": []
          },
          "execution_count": 71
        }
      ]
    },
    {
      "cell_type": "code",
      "metadata": {
        "id": "BHrM18MSuYQf",
        "outputId": "3bf5ee9c-ce3c-42f9-ced2-7981abae1941",
        "colab": {
          "base_uri": "https://localhost:8080/",
          "height": 34
        }
      },
      "source": [
        "a.index('d')"
      ],
      "execution_count": null,
      "outputs": [
        {
          "output_type": "execute_result",
          "data": {
            "text/plain": [
              "5"
            ]
          },
          "metadata": {
            "tags": []
          },
          "execution_count": 72
        }
      ]
    },
    {
      "cell_type": "code",
      "metadata": {
        "id": "ZPC8uBETyYbv",
        "outputId": "2b6c2cff-ab5d-4d8b-ae0e-7fdc2b176032",
        "colab": {
          "base_uri": "https://localhost:8080/",
          "height": 35
        }
      },
      "source": [
        "a = [1,2,3]\n",
        "b = [4,5,6]\n",
        "c = [*a,*b,7,8,9] #spreading\n",
        "print(c)"
      ],
      "execution_count": 28,
      "outputs": [
        {
          "output_type": "stream",
          "text": [
            "[1, 2, 3, 4, 5, 6, 7, 8, 9]\n"
          ],
          "name": "stdout"
        }
      ]
    },
    {
      "cell_type": "code",
      "metadata": {
        "id": "4DW0JQeDe20t",
        "outputId": "38cd76ac-8d78-4c69-8ff6-542c451e4608",
        "colab": {
          "base_uri": "https://localhost:8080/",
          "height": 106
        }
      },
      "source": [
        "c.insert(0,10)\n",
        "print(c)\n",
        "\n",
        "print(c.index(6))\n",
        "\n",
        "c.remove(9)\n",
        "print(c)\n",
        "\n",
        "c.sort() #Permanent sorting\n",
        "c.sort(reverse=True)\n",
        "\n",
        "d = c.copy() #preventing the duplication of pointer to memory address\n",
        "e = c[:] #alternate method of above\n",
        "\n",
        "print(d)\n",
        "print(e)"
      ],
      "execution_count": 29,
      "outputs": [
        {
          "output_type": "stream",
          "text": [
            "[10, 1, 2, 3, 4, 5, 6, 7, 8, 9]\n",
            "6\n",
            "[10, 1, 2, 3, 4, 5, 6, 7, 8]\n",
            "[10, 8, 7, 6, 5, 4, 3, 2, 1]\n",
            "[10, 8, 7, 6, 5, 4, 3, 2, 1]\n"
          ],
          "name": "stdout"
        }
      ]
    },
    {
      "cell_type": "markdown",
      "metadata": {
        "id": "mlyAt4IvM6qE"
      },
      "source": [
        "<h3>⭐Tuple</h3>"
      ]
    },
    {
      "cell_type": "code",
      "metadata": {
        "id": "K4QWwU3wa4Dz",
        "outputId": "3d90ca1f-7b4f-43e4-d456-e6faa788c585",
        "colab": {
          "base_uri": "https://localhost:8080/",
          "height": 34
        }
      },
      "source": [
        "tup = (1,2,3,4)\n",
        "tup"
      ],
      "execution_count": null,
      "outputs": [
        {
          "output_type": "execute_result",
          "data": {
            "text/plain": [
              "(1, 2, 3, 4)"
            ]
          },
          "metadata": {
            "tags": []
          },
          "execution_count": 73
        }
      ]
    },
    {
      "cell_type": "code",
      "metadata": {
        "id": "L6udyWpzbWE7",
        "outputId": "bc812091-10bf-420e-d2fc-45dbf0923055",
        "colab": {
          "base_uri": "https://localhost:8080/",
          "height": 34
        }
      },
      "source": [
        "tup[0]"
      ],
      "execution_count": null,
      "outputs": [
        {
          "output_type": "execute_result",
          "data": {
            "text/plain": [
              "1"
            ]
          },
          "metadata": {
            "tags": []
          },
          "execution_count": 74
        }
      ]
    },
    {
      "cell_type": "code",
      "metadata": {
        "id": "RfVFANXebYYR",
        "outputId": "f3e85850-2f40-4e49-eb7e-04ef776c76ec",
        "colab": {
          "base_uri": "https://localhost:8080/",
          "height": 167
        }
      },
      "source": [
        "tup[0] = \"Laptop\"   #📌 tuples are immutuable 📌Error because tuple is immutable"
      ],
      "execution_count": null,
      "outputs": [
        {
          "output_type": "error",
          "ename": "TypeError",
          "evalue": "ignored",
          "traceback": [
            "\u001b[0;31m---------------------------------------------------------------------------\u001b[0m",
            "\u001b[0;31mTypeError\u001b[0m                                 Traceback (most recent call last)",
            "\u001b[0;32m<ipython-input-75-323d94f11b86>\u001b[0m in \u001b[0;36m<module>\u001b[0;34m()\u001b[0m\n\u001b[0;32m----> 1\u001b[0;31m \u001b[0mtup\u001b[0m\u001b[0;34m[\u001b[0m\u001b[0;36m0\u001b[0m\u001b[0;34m]\u001b[0m \u001b[0;34m=\u001b[0m \u001b[0;34m\"Laptop\"\u001b[0m   \u001b[0;31m#📌 tuples are immutuable 📌Error because tuple is immutable\u001b[0m\u001b[0;34m\u001b[0m\u001b[0;34m\u001b[0m\u001b[0m\n\u001b[0m",
            "\u001b[0;31mTypeError\u001b[0m: 'tuple' object does not support item assignment"
          ]
        }
      ]
    },
    {
      "cell_type": "code",
      "metadata": {
        "id": "Ry03zsQqbfQo",
        "outputId": "0f1c48e9-af4a-4719-f165-bdbfae5553d6",
        "colab": {
          "base_uri": "https://localhost:8080/",
          "height": 34
        }
      },
      "source": [
        "t = (1,2,3,4) #create tuple\n",
        "t = list(t)   # convert tuple into list using list() function\n",
        "t.append(5)  # add 5 in list t [1,2,3,4,5]\n",
        "t = tuple(t)  # convert into tuple using tuple() function\n",
        "t"
      ],
      "execution_count": null,
      "outputs": [
        {
          "output_type": "execute_result",
          "data": {
            "text/plain": [
              "(1, 2, 3, 4, 5)"
            ]
          },
          "metadata": {
            "tags": []
          },
          "execution_count": 76
        }
      ]
    },
    {
      "cell_type": "code",
      "metadata": {
        "id": "Go2b_k6zbnD7",
        "outputId": "5bc6c40e-beb8-49ce-9403-b5e6395250c0",
        "colab": {
          "base_uri": "https://localhost:8080/",
          "height": 34
        }
      },
      "source": [
        "len(t)"
      ],
      "execution_count": null,
      "outputs": [
        {
          "output_type": "execute_result",
          "data": {
            "text/plain": [
              "5"
            ]
          },
          "metadata": {
            "tags": []
          },
          "execution_count": 77
        }
      ]
    },
    {
      "cell_type": "code",
      "metadata": {
        "id": "vpVgeogzym5y",
        "outputId": "192d6607-10c3-4623-b89f-bb07e5f35346",
        "colab": {
          "base_uri": "https://localhost:8080/",
          "height": 34
        }
      },
      "source": [
        "a = (1,2,3)\n",
        "b = (4,5,6)\n",
        "c = (*a,*b,7,8,9) #spreading\n",
        "print(c)"
      ],
      "execution_count": null,
      "outputs": [
        {
          "output_type": "stream",
          "text": [
            "(1, 2, 3, 4, 5, 6, 7, 8, 9)\n"
          ],
          "name": "stdout"
        }
      ]
    },
    {
      "cell_type": "markdown",
      "metadata": {
        "id": "EH9fInQaeR8z"
      },
      "source": [
        "<h3>⭐Set</h3>\n",
        "<b>Unordered</b> collection of objects to perform mathematical set operation. Contains only unique items. "
      ]
    },
    {
      "cell_type": "code",
      "metadata": {
        "id": "lQuvPmpSb2vh",
        "outputId": "c2b2f7c3-f0e8-4279-9980-0efd4a421dcb",
        "colab": {
          "base_uri": "https://localhost:8080/",
          "height": 52
        }
      },
      "source": [
        "a = {1,2,3,4,5}\n",
        "b = {4,5,6,7,7}  # 7 twice\n",
        "print(a)\n",
        "print(b) #printed only once because set do not contain two similar elements"
      ],
      "execution_count": 44,
      "outputs": [
        {
          "output_type": "stream",
          "text": [
            "{1, 2, 3, 4, 5}\n",
            "{4, 5, 6, 7}\n"
          ],
          "name": "stdout"
        }
      ]
    },
    {
      "cell_type": "code",
      "metadata": {
        "id": "LkM5I10Me5IT",
        "outputId": "c6827f52-369a-4839-8cab-b17fce9f3b40",
        "colab": {
          "base_uri": "https://localhost:8080/",
          "height": 35
        }
      },
      "source": [
        "#OR\n",
        "a | b "
      ],
      "execution_count": 35,
      "outputs": [
        {
          "output_type": "execute_result",
          "data": {
            "text/plain": [
              "{1, 2, 3, 4, 5, 6, 7}"
            ]
          },
          "metadata": {
            "tags": []
          },
          "execution_count": 35
        }
      ]
    },
    {
      "cell_type": "code",
      "metadata": {
        "id": "0FuT1pwnfMyW",
        "outputId": "1e405033-8668-4a22-9703-c538c227f644",
        "colab": {
          "base_uri": "https://localhost:8080/",
          "height": 52
        }
      },
      "source": [
        "#union\n",
        "print(a.union(b)) #a u b\n",
        "print(b.union(a)) #b u a"
      ],
      "execution_count": 36,
      "outputs": [
        {
          "output_type": "stream",
          "text": [
            "{1, 2, 3, 4, 5, 6, 7}\n",
            "{1, 2, 3, 4, 5, 6, 7}\n"
          ],
          "name": "stdout"
        }
      ]
    },
    {
      "cell_type": "code",
      "metadata": {
        "id": "a0AWsoDifKQy",
        "outputId": "c1f0bffa-7940-41e8-8c83-1cc4f1a8a36d",
        "colab": {
          "base_uri": "https://localhost:8080/",
          "height": 35
        }
      },
      "source": [
        "#AND\n",
        "a & b"
      ],
      "execution_count": 37,
      "outputs": [
        {
          "output_type": "execute_result",
          "data": {
            "text/plain": [
              "{4, 5}"
            ]
          },
          "metadata": {
            "tags": []
          },
          "execution_count": 37
        }
      ]
    },
    {
      "cell_type": "code",
      "metadata": {
        "id": "EpTQ-CwPfZfy",
        "outputId": "f909c106-3b6c-4ab4-9c4c-a7b8770aca47",
        "colab": {
          "base_uri": "https://localhost:8080/",
          "height": 52
        }
      },
      "source": [
        "#intersection\n",
        "print(a.intersection(b))\n",
        "print(b.intersection(a))"
      ],
      "execution_count": 38,
      "outputs": [
        {
          "output_type": "stream",
          "text": [
            "{4, 5}\n",
            "{4, 5}\n"
          ],
          "name": "stdout"
        }
      ]
    },
    {
      "cell_type": "code",
      "metadata": {
        "id": "g9uJ8xwHfiew",
        "outputId": "b80074e5-b3b6-462c-bbbc-89f7be7896ac",
        "colab": {
          "base_uri": "https://localhost:8080/",
          "height": 88
        }
      },
      "source": [
        "#difference\n",
        "print(a-b)\n",
        "print(a.difference(b))\n",
        "print(b-a)\n",
        "print(b.difference(a))"
      ],
      "execution_count": 39,
      "outputs": [
        {
          "output_type": "stream",
          "text": [
            "{1, 2, 3}\n",
            "{1, 2, 3}\n",
            "{6, 7}\n",
            "{6, 7}\n"
          ],
          "name": "stdout"
        }
      ]
    },
    {
      "cell_type": "code",
      "metadata": {
        "id": "1BeTLwMggKU5",
        "outputId": "24ea93c6-f959-475b-dea6-ae17e843d873",
        "colab": {
          "base_uri": "https://localhost:8080/",
          "height": 88
        }
      },
      "source": [
        "#symmetric difference\n",
        "print(a ^ b)\n",
        "print(a.symmetric_difference(b))\n",
        "print(b ^ a)\n",
        "print(b.symmetric_difference(a))"
      ],
      "execution_count": 40,
      "outputs": [
        {
          "output_type": "stream",
          "text": [
            "{1, 2, 3, 6, 7}\n",
            "{1, 2, 3, 6, 7}\n",
            "{1, 2, 3, 6, 7}\n",
            "{1, 2, 3, 6, 7}\n"
          ],
          "name": "stdout"
        }
      ]
    },
    {
      "cell_type": "code",
      "metadata": {
        "id": "fmq9GrQEhMqG",
        "outputId": "fc7ca3c7-fa91-4608-e1e6-8e8a1810e9c7",
        "colab": {
          "base_uri": "https://localhost:8080/",
          "height": 70
        }
      },
      "source": [
        "print(a)\n",
        "a.add(8)\n",
        "print(a)\n",
        "\n",
        "a.discard(1)\n",
        "print(a)"
      ],
      "execution_count": 47,
      "outputs": [
        {
          "output_type": "stream",
          "text": [
            "{1, 2, 3, 4, 5, 8}\n",
            "{1, 2, 3, 4, 5, 8}\n",
            "{2, 3, 4, 5, 8}\n"
          ],
          "name": "stdout"
        }
      ]
    },
    {
      "cell_type": "markdown",
      "metadata": {
        "id": "_xikIpQNgwau"
      },
      "source": [
        "<h3>⭐Dictionary</h3>\n",
        "Store data in the form of Key-value pairs"
      ]
    },
    {
      "cell_type": "code",
      "metadata": {
        "id": "-1HsshDjglbw",
        "outputId": "49c973c9-2c61-41fd-9aa1-ab8761ba6fd6",
        "colab": {
          "base_uri": "https://localhost:8080/",
          "height": 34
        }
      },
      "source": [
        "d = {}        #dictionary declaration not a set declaration. \n",
        "d = dict()    #Another way of declaring a dictionary.      \n",
        "\n",
        "d = {'one':['isma','nandini','piyush'],'two':2.0,'three':3,5:5.0}\n",
        "d"
      ],
      "execution_count": null,
      "outputs": [
        {
          "output_type": "execute_result",
          "data": {
            "text/plain": [
              "{5: 5.0, 'one': ['isma', 'nandini', 'piyush'], 'three': 3, 'two': 2.0}"
            ]
          },
          "metadata": {
            "tags": []
          },
          "execution_count": 85
        }
      ]
    },
    {
      "cell_type": "code",
      "metadata": {
        "id": "tLCny9ne_xQR",
        "outputId": "a658fac9-568f-4d08-ff14-4c03188ddc9e",
        "colab": {
          "base_uri": "https://localhost:8080/",
          "height": 34
        }
      },
      "source": [
        "d['two']"
      ],
      "execution_count": null,
      "outputs": [
        {
          "output_type": "execute_result",
          "data": {
            "text/plain": [
              "2.0"
            ]
          },
          "metadata": {
            "tags": []
          },
          "execution_count": 86
        }
      ]
    },
    {
      "cell_type": "code",
      "metadata": {
        "id": "n366NRNQhF0b",
        "outputId": "99d2aace-863f-4e4d-a04b-cb2341e57fca",
        "colab": {
          "base_uri": "https://localhost:8080/",
          "height": 122
        }
      },
      "source": [
        "d['four'] = 4\n",
        "d['five'] = 5\n",
        "d"
      ],
      "execution_count": null,
      "outputs": [
        {
          "output_type": "execute_result",
          "data": {
            "text/plain": [
              "{5: 5.0,\n",
              " 'five': 5,\n",
              " 'four': 4,\n",
              " 'one': ['isma', 'nandini', 'piyush'],\n",
              " 'three': 3,\n",
              " 'two': 2.0}"
            ]
          },
          "metadata": {
            "tags": []
          },
          "execution_count": 87
        }
      ]
    },
    {
      "cell_type": "code",
      "metadata": {
        "id": "xcnm_Zz6hKfd",
        "outputId": "26d744f1-5783-4ffc-dbf3-f597ca84a483",
        "colab": {
          "base_uri": "https://localhost:8080/",
          "height": 34
        }
      },
      "source": [
        "d.keys() #📌built-in method to get all the keys"
      ],
      "execution_count": null,
      "outputs": [
        {
          "output_type": "execute_result",
          "data": {
            "text/plain": [
              "dict_keys(['one', 'two', 'three', 5, 'four', 'five'])"
            ]
          },
          "metadata": {
            "tags": []
          },
          "execution_count": 88
        }
      ]
    },
    {
      "cell_type": "code",
      "metadata": {
        "id": "qn9VV6h9hT0G",
        "outputId": "53e85af2-2624-4493-bf86-b6d98f5df9f8",
        "colab": {
          "base_uri": "https://localhost:8080/",
          "height": 34
        }
      },
      "source": [
        "d.values()  #📌built-in method to get all the values"
      ],
      "execution_count": null,
      "outputs": [
        {
          "output_type": "execute_result",
          "data": {
            "text/plain": [
              "dict_values([['isma', 'nandini', 'piyush'], 2.0, 3, 5.0, 4, 5])"
            ]
          },
          "metadata": {
            "tags": []
          },
          "execution_count": 89
        }
      ]
    },
    {
      "cell_type": "code",
      "metadata": {
        "id": "YSrscTDyhYD-",
        "outputId": "07b2156c-9f5b-4ed7-d263-e52e28a4ee17",
        "colab": {
          "base_uri": "https://localhost:8080/",
          "height": 34
        }
      },
      "source": [
        "d.items() #📌built-in method to get all items in form of list of tuples"
      ],
      "execution_count": null,
      "outputs": [
        {
          "output_type": "execute_result",
          "data": {
            "text/plain": [
              "dict_items([('one', ['isma', 'nandini', 'piyush']), ('two', 2.0), ('three', 3), (5, 5.0), ('four', 4), ('five', 5)])"
            ]
          },
          "metadata": {
            "tags": []
          },
          "execution_count": 90
        }
      ]
    },
    {
      "cell_type": "code",
      "metadata": {
        "id": "frphjVhShc2V",
        "outputId": "7c76bd3d-4ff0-47aa-a4b4-201921e90ac9",
        "colab": {
          "base_uri": "https://localhost:8080/",
          "height": 105
        }
      },
      "source": [
        "d.pop('two') #📌built-in method to remove any pair\n",
        "d"
      ],
      "execution_count": null,
      "outputs": [
        {
          "output_type": "execute_result",
          "data": {
            "text/plain": [
              "{5: 5.0,\n",
              " 'five': 5,\n",
              " 'four': 4,\n",
              " 'one': ['isma', 'nandini', 'piyush'],\n",
              " 'three': 3}"
            ]
          },
          "metadata": {
            "tags": []
          },
          "execution_count": 91
        }
      ]
    }
  ]
}