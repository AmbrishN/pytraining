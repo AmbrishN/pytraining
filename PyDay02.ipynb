{
  "nbformat": 4,
  "nbformat_minor": 0,
  "metadata": {
    "colab": {
      "name": "PyDay2",
      "provenance": [],
      "authorship_tag": "ABX9TyOQnmBF+EQne/k9lhKkJGZh"
    },
    "kernelspec": {
      "name": "python3",
      "display_name": "Python 3"
    }
  },
  "cells": [
    {
      "cell_type": "markdown",
      "metadata": {
        "id": "6i4elgD4K6gP",
        "colab_type": "text"
      },
      "source": [
        "## Python Datatypes"
      ]
    },
    {
      "cell_type": "markdown",
      "metadata": {
        "id": "VCooas6TK_SZ",
        "colab_type": "text"
      },
      "source": [
        "* **Numeric**\n",
        "    * **Integer**: Negative, zero, and positive number without decimal part Ex. ...-2,-1,0,1,2...\n",
        "    * **Float**: Decimal point numbers ...-2.1,-1.5,0.7,1.2,3.4...\n",
        "    * **Complex**: Number having both  *real number* and *imaginary number* $\\sqrt{-1}$ Ex. 1+$\\sqrt{-2}$"
      ]
    },
    {
      "cell_type": "markdown",
      "metadata": {
        "id": "HQRZIOmZXUVR",
        "colab_type": "text"
      },
      "source": [
        "<h3>⭐Integer</h3>"
      ]
    },
    {
      "cell_type": "code",
      "metadata": {
        "id": "y_dJUBXNHeG8",
        "colab_type": "code",
        "colab": {
          "base_uri": "https://localhost:8080/",
          "height": 105
        },
        "outputId": "6327c602-68fe-42c7-abf5-2aa77131c8fe"
      },
      "source": [
        "a = 10  \n",
        "b = -100\n",
        "c = 0x14 #Octal\n",
        "print(a,b)\n",
        "print(c)  #Decimal\n",
        "print(type(a))  #📌type() is an inbuilt function\n",
        "print(type(b))\n",
        "print(type(c)) "
      ],
      "execution_count": 1,
      "outputs": [
        {
          "output_type": "stream",
          "text": [
            "10 -100\n",
            "20\n",
            "<class 'int'>\n",
            "<class 'int'>\n",
            "<class 'int'>\n"
          ],
          "name": "stdout"
        }
      ]
    },
    {
      "cell_type": "markdown",
      "metadata": {
        "id": "JjauyHWLXjiF",
        "colab_type": "text"
      },
      "source": [
        "<h3>⭐Float</h3>"
      ]
    },
    {
      "cell_type": "code",
      "metadata": {
        "id": "VC5pOEIwL1FS",
        "colab_type": "code",
        "colab": {
          "base_uri": "https://localhost:8080/",
          "height": 122
        },
        "outputId": "be9bcb07-83a7-41bb-bea0-9fb256faadde"
      },
      "source": [
        "a = 10.1\n",
        "b = -100.6\n",
        "c = int(2e2) # 2 * 10^2\n",
        "print('a is',a,'\\nb is',b,'\\nc is',c)  #Escape character(\\n) for new line\n",
        "print(type(a))\n",
        "print(type(b))\n",
        "print(type(c))"
      ],
      "execution_count": 2,
      "outputs": [
        {
          "output_type": "stream",
          "text": [
            "a is 10.1 \n",
            "b is -100.6 \n",
            "c is 200\n",
            "<class 'float'>\n",
            "<class 'float'>\n",
            "<class 'int'>\n"
          ],
          "name": "stdout"
        }
      ]
    },
    {
      "cell_type": "markdown",
      "metadata": {
        "id": "6X3JuHU_Xx3A",
        "colab_type": "text"
      },
      "source": [
        "<h3>⭐Complex</h3>"
      ]
    },
    {
      "cell_type": "code",
      "metadata": {
        "id": "npi4AnlrcGg7",
        "colab_type": "code",
        "colab": {
          "base_uri": "https://localhost:8080/",
          "height": 52
        },
        "outputId": "6927bc08-ffae-4642-8b07-f2229493f0df"
      },
      "source": [
        "a = 1 + 2j\n",
        "print(a)\n",
        "print(type(a))"
      ],
      "execution_count": 3,
      "outputs": [
        {
          "output_type": "stream",
          "text": [
            "(1+2j)\n",
            "<class 'complex'>\n"
          ],
          "name": "stdout"
        }
      ]
    },
    {
      "cell_type": "markdown",
      "metadata": {
        "id": "wjFha1JKNb2v",
        "colab_type": "text"
      },
      "source": [
        "* **Boolean**\n",
        "    * **True**(1)\n",
        "    * **False**(0)"
      ]
    },
    {
      "cell_type": "code",
      "metadata": {
        "id": "VaOUNHvXMPEj",
        "colab_type": "code",
        "colab": {
          "base_uri": "https://localhost:8080/",
          "height": 34
        },
        "outputId": "98b1c595-07cb-40de-f0be-72702b8b89ff"
      },
      "source": [
        "1 == True"
      ],
      "execution_count": 4,
      "outputs": [
        {
          "output_type": "execute_result",
          "data": {
            "text/plain": [
              "True"
            ]
          },
          "metadata": {
            "tags": []
          },
          "execution_count": 4
        }
      ]
    },
    {
      "cell_type": "code",
      "metadata": {
        "id": "2J-JJdZ3MPR4",
        "colab_type": "code",
        "colab": {
          "base_uri": "https://localhost:8080/",
          "height": 34
        },
        "outputId": "8215b8ea-1992-4650-f742-e52b5794cf15"
      },
      "source": [
        "0 == False"
      ],
      "execution_count": 5,
      "outputs": [
        {
          "output_type": "execute_result",
          "data": {
            "text/plain": [
              "True"
            ]
          },
          "metadata": {
            "tags": []
          },
          "execution_count": 5
        }
      ]
    },
    {
      "cell_type": "code",
      "metadata": {
        "id": "cuVGQN-ENuGV",
        "colab_type": "code",
        "colab": {
          "base_uri": "https://localhost:8080/",
          "height": 34
        },
        "outputId": "d8d8bbef-3e3a-4098-f076-5c2975bc507d"
      },
      "source": [
        "1 == False"
      ],
      "execution_count": 6,
      "outputs": [
        {
          "output_type": "execute_result",
          "data": {
            "text/plain": [
              "False"
            ]
          },
          "metadata": {
            "tags": []
          },
          "execution_count": 6
        }
      ]
    },
    {
      "cell_type": "code",
      "metadata": {
        "id": "FNpcmfapNvvz",
        "colab_type": "code",
        "colab": {
          "base_uri": "https://localhost:8080/",
          "height": 34
        },
        "outputId": "f4b04235-b7b3-4135-a574-4b984c25a43f"
      },
      "source": [
        "0 == True"
      ],
      "execution_count": 7,
      "outputs": [
        {
          "output_type": "execute_result",
          "data": {
            "text/plain": [
              "False"
            ]
          },
          "metadata": {
            "tags": []
          },
          "execution_count": 7
        }
      ]
    },
    {
      "cell_type": "code",
      "metadata": {
        "id": "MycxtCeQNw3F",
        "colab_type": "code",
        "colab": {
          "base_uri": "https://localhost:8080/",
          "height": 34
        },
        "outputId": "919bfc53-d230-4f71-d9e2-4eb8f14a1731"
      },
      "source": [
        "x = True\n",
        "print(type(x))"
      ],
      "execution_count": 8,
      "outputs": [
        {
          "output_type": "stream",
          "text": [
            "<class 'bool'>\n"
          ],
          "name": "stdout"
        }
      ]
    },
    {
      "cell_type": "code",
      "metadata": {
        "id": "WPm7OxcGN556",
        "colab_type": "code",
        "colab": {
          "base_uri": "https://localhost:8080/",
          "height": 34
        },
        "outputId": "dcbca507-c983-4cf0-84fa-b9cc34a66689"
      },
      "source": [
        "bool(1) #📌 bool() is an inbuilt function"
      ],
      "execution_count": 9,
      "outputs": [
        {
          "output_type": "execute_result",
          "data": {
            "text/plain": [
              "True"
            ]
          },
          "metadata": {
            "tags": []
          },
          "execution_count": 9
        }
      ]
    },
    {
      "cell_type": "code",
      "metadata": {
        "id": "qmrxDbscN9km",
        "colab_type": "code",
        "colab": {
          "base_uri": "https://localhost:8080/",
          "height": 34
        },
        "outputId": "12d03b55-9b21-414f-b8c6-4a725d82b92a"
      },
      "source": [
        "bool(0)"
      ],
      "execution_count": 10,
      "outputs": [
        {
          "output_type": "execute_result",
          "data": {
            "text/plain": [
              "False"
            ]
          },
          "metadata": {
            "tags": []
          },
          "execution_count": 10
        }
      ]
    },
    {
      "cell_type": "markdown",
      "metadata": {
        "id": "txrfhXe6OKv8",
        "colab_type": "text"
      },
      "source": [
        "* **Sequence**\n",
        "    * **String**: Collection of one or more than one characters in single quotes **' '** or double quotes **\" \"** and in triple quotes **''' '''** if the sentence is longer than one line. Strings are *immutable*.\n",
        "    * **List**: Unordered collection of data of any datatype. Lists are *mutable*. \n",
        "    * **Tuple**: Unordered collection of data of any datatype. Tuples are *immutable*."
      ]
    },
    {
      "cell_type": "markdown",
      "metadata": {
        "id": "UZ89h6n2Y9st",
        "colab_type": "text"
      },
      "source": [
        "<h3>⭐String</h3>"
      ]
    },
    {
      "cell_type": "code",
      "metadata": {
        "id": "kY8C1bpdZGQM",
        "colab_type": "code",
        "colab": {
          "base_uri": "https://localhost:8080/",
          "height": 52
        },
        "outputId": "a3736fd2-8f6b-4767-dd6c-c37f822131af"
      },
      "source": [
        "a = 'Hello, World!'\n",
        "print(a)\n",
        "print(type(a))"
      ],
      "execution_count": 11,
      "outputs": [
        {
          "output_type": "stream",
          "text": [
            "Hello, World!\n",
            "<class 'str'>\n"
          ],
          "name": "stdout"
        }
      ]
    },
    {
      "cell_type": "code",
      "metadata": {
        "id": "5aqOClPPN_fA",
        "colab_type": "code",
        "colab": {
          "base_uri": "https://localhost:8080/",
          "height": 35
        },
        "outputId": "69b0b3b4-3e02-4731-b192-249431d02ddb"
      },
      "source": [
        "a = \"Hello, World!\" #📌String Indexing starts from 0 to n-1\n",
        "a[2]"
      ],
      "execution_count": 12,
      "outputs": [
        {
          "output_type": "execute_result",
          "data": {
            "application/vnd.google.colaboratory.intrinsic+json": {
              "type": "string"
            },
            "text/plain": [
              "'l'"
            ]
          },
          "metadata": {
            "tags": []
          },
          "execution_count": 12
        }
      ]
    },
    {
      "cell_type": "code",
      "metadata": {
        "id": "wH-n45OkUgXU",
        "colab_type": "code",
        "colab": {
          "base_uri": "https://localhost:8080/",
          "height": 34
        },
        "outputId": "909a6934-aed0-43bd-ce19-43c39d59bfc6"
      },
      "source": [
        "a[7:12] == a[7:-1]"
      ],
      "execution_count": 13,
      "outputs": [
        {
          "output_type": "execute_result",
          "data": {
            "text/plain": [
              "True"
            ]
          },
          "metadata": {
            "tags": []
          },
          "execution_count": 13
        }
      ]
    },
    {
      "cell_type": "code",
      "metadata": {
        "id": "TEUmnv54UJbW",
        "colab_type": "code",
        "colab": {
          "base_uri": "https://localhost:8080/",
          "height": 35
        },
        "outputId": "5e4b4530-8e87-4fe1-b289-1971b8118a34"
      },
      "source": [
        "a[-2] #access the character from the last"
      ],
      "execution_count": 14,
      "outputs": [
        {
          "output_type": "execute_result",
          "data": {
            "application/vnd.google.colaboratory.intrinsic+json": {
              "type": "string"
            },
            "text/plain": [
              "'d'"
            ]
          },
          "metadata": {
            "tags": []
          },
          "execution_count": 14
        }
      ]
    },
    {
      "cell_type": "code",
      "metadata": {
        "id": "MTyyXSCxUPCC",
        "colab_type": "code",
        "colab": {
          "base_uri": "https://localhost:8080/",
          "height": 35
        },
        "outputId": "df276ff1-78bd-463a-8b65-024ab826a6b8"
      },
      "source": [
        "#slicing of a string\n",
        "a[0:5]"
      ],
      "execution_count": 15,
      "outputs": [
        {
          "output_type": "execute_result",
          "data": {
            "application/vnd.google.colaboratory.intrinsic+json": {
              "type": "string"
            },
            "text/plain": [
              "'Hello'"
            ]
          },
          "metadata": {
            "tags": []
          },
          "execution_count": 15
        }
      ]
    },
    {
      "cell_type": "code",
      "metadata": {
        "id": "VIHfft2KUVA4",
        "colab_type": "code",
        "colab": {
          "base_uri": "https://localhost:8080/",
          "height": 34
        },
        "outputId": "63e90578-7dff-4465-b5a4-07cb988ae563"
      },
      "source": [
        "print(a[0:5],'Folk!')"
      ],
      "execution_count": 16,
      "outputs": [
        {
          "output_type": "stream",
          "text": [
            "Hello Folk!\n"
          ],
          "name": "stdout"
        }
      ]
    },
    {
      "cell_type": "code",
      "metadata": {
        "id": "AVS118epUaSz",
        "colab_type": "code",
        "colab": {
          "base_uri": "https://localhost:8080/",
          "height": 35
        },
        "outputId": "d538261c-6513-4be5-a292-ce05e23a6515"
      },
      "source": [
        "a[7:-1]"
      ],
      "execution_count": 17,
      "outputs": [
        {
          "output_type": "execute_result",
          "data": {
            "application/vnd.google.colaboratory.intrinsic+json": {
              "type": "string"
            },
            "text/plain": [
              "'World'"
            ]
          },
          "metadata": {
            "tags": []
          },
          "execution_count": 17
        }
      ]
    },
    {
      "cell_type": "code",
      "metadata": {
        "id": "E9CIfo9nUc1z",
        "colab_type": "code",
        "colab": {
          "base_uri": "https://localhost:8080/",
          "height": 34
        },
        "outputId": "323b80ca-d654-4d35-9986-88955187aebe"
      },
      "source": [
        "#Concatenation\n",
        "F_Name = 'Uditanshu'\n",
        "L_Name = 'Saxena'\n",
        "print(F_Name+' '+L_Name)"
      ],
      "execution_count": 18,
      "outputs": [
        {
          "output_type": "stream",
          "text": [
            "Uditanshu Saxena\n"
          ],
          "name": "stdout"
        }
      ]
    },
    {
      "cell_type": "code",
      "metadata": {
        "id": "jqt1Ut9-UkEc",
        "colab_type": "code",
        "colab": {
          "base_uri": "https://localhost:8080/",
          "height": 35
        },
        "outputId": "969d9037-61ec-4fa7-c263-6316987146a5"
      },
      "source": [
        "a = 'hey'\n",
        "a.upper() #📌built-in method"
      ],
      "execution_count": 19,
      "outputs": [
        {
          "output_type": "execute_result",
          "data": {
            "application/vnd.google.colaboratory.intrinsic+json": {
              "type": "string"
            },
            "text/plain": [
              "'HEY'"
            ]
          },
          "metadata": {
            "tags": []
          },
          "execution_count": 19
        }
      ]
    },
    {
      "cell_type": "code",
      "metadata": {
        "id": "Zf6zWAy1U0i-",
        "colab_type": "code",
        "colab": {
          "base_uri": "https://localhost:8080/",
          "height": 35
        },
        "outputId": "30e65524-46c8-485f-cb3d-0921bd8f616d"
      },
      "source": [
        "'HELLO'.lower()  #📌built-in method"
      ],
      "execution_count": 20,
      "outputs": [
        {
          "output_type": "execute_result",
          "data": {
            "application/vnd.google.colaboratory.intrinsic+json": {
              "type": "string"
            },
            "text/plain": [
              "'hello'"
            ]
          },
          "metadata": {
            "tags": []
          },
          "execution_count": 20
        }
      ]
    },
    {
      "cell_type": "code",
      "metadata": {
        "id": "aE1SOx3lVF2m",
        "colab_type": "code",
        "colab": {
          "base_uri": "https://localhost:8080/",
          "height": 34
        },
        "outputId": "ea3fd15f-a396-4850-8ae0-2bc96dc63b51"
      },
      "source": [
        "a.isupper()  #📌built-in method"
      ],
      "execution_count": 21,
      "outputs": [
        {
          "output_type": "execute_result",
          "data": {
            "text/plain": [
              "False"
            ]
          },
          "metadata": {
            "tags": []
          },
          "execution_count": 21
        }
      ]
    },
    {
      "cell_type": "code",
      "metadata": {
        "id": "Wn-mvDWbVJ_s",
        "colab_type": "code",
        "colab": {
          "base_uri": "https://localhost:8080/",
          "height": 34
        },
        "outputId": "c703bd42-6920-4fc8-b3b1-e3b5cc969b59"
      },
      "source": [
        "a.islower()  #📌built-in method"
      ],
      "execution_count": 22,
      "outputs": [
        {
          "output_type": "execute_result",
          "data": {
            "text/plain": [
              "True"
            ]
          },
          "metadata": {
            "tags": []
          },
          "execution_count": 22
        }
      ]
    },
    {
      "cell_type": "code",
      "metadata": {
        "id": "mCuYdQdiVNxN",
        "colab_type": "code",
        "colab": {
          "base_uri": "https://localhost:8080/",
          "height": 34
        },
        "outputId": "e117eac4-800b-46f3-a98b-8c42929d0321"
      },
      "source": [
        "type(a)"
      ],
      "execution_count": 23,
      "outputs": [
        {
          "output_type": "execute_result",
          "data": {
            "text/plain": [
              "str"
            ]
          },
          "metadata": {
            "tags": []
          },
          "execution_count": 23
        }
      ]
    },
    {
      "cell_type": "code",
      "metadata": {
        "id": "8ySI2mmQVeKU",
        "colab_type": "code",
        "colab": {
          "base_uri": "https://localhost:8080/",
          "height": 34
        },
        "outputId": "698f7e94-2a3b-4332-bb75-da999dee934b"
      },
      "source": [
        "len(a)  #📌built-in function"
      ],
      "execution_count": 24,
      "outputs": [
        {
          "output_type": "execute_result",
          "data": {
            "text/plain": [
              "3"
            ]
          },
          "metadata": {
            "tags": []
          },
          "execution_count": 24
        }
      ]
    },
    {
      "cell_type": "code",
      "metadata": {
        "id": "uVr2HuVq08Qc",
        "colab_type": "code",
        "colab": {
          "base_uri": "https://localhost:8080/",
          "height": 35
        },
        "outputId": "c67a60b9-59fb-4719-8de6-d3413cc88fd1"
      },
      "source": [
        "\" Yeah \".strip() #📌built-in method to remove whitespaces from left & right"
      ],
      "execution_count": 25,
      "outputs": [
        {
          "output_type": "execute_result",
          "data": {
            "application/vnd.google.colaboratory.intrinsic+json": {
              "type": "string"
            },
            "text/plain": [
              "'Yeah'"
            ]
          },
          "metadata": {
            "tags": []
          },
          "execution_count": 25
        }
      ]
    },
    {
      "cell_type": "code",
      "metadata": {
        "id": "NxFoi8HO08M3",
        "colab_type": "code",
        "colab": {
          "base_uri": "https://localhost:8080/",
          "height": 35
        },
        "outputId": "2b16f436-f51e-4ed2-f957-25338617b781"
      },
      "source": [
        "\" Yeah \".lstrip() #📌built-in method to remove whitespace from left"
      ],
      "execution_count": 26,
      "outputs": [
        {
          "output_type": "execute_result",
          "data": {
            "application/vnd.google.colaboratory.intrinsic+json": {
              "type": "string"
            },
            "text/plain": [
              "'Yeah '"
            ]
          },
          "metadata": {
            "tags": []
          },
          "execution_count": 26
        }
      ]
    },
    {
      "cell_type": "code",
      "metadata": {
        "id": "MLRRimgH1DsD",
        "colab_type": "code",
        "colab": {
          "base_uri": "https://localhost:8080/",
          "height": 35
        },
        "outputId": "ebef139b-cda6-4687-ef28-4c54c2127339"
      },
      "source": [
        "\" Yeah \".rstrip() #📌built-in method to remove whitespace from right"
      ],
      "execution_count": 27,
      "outputs": [
        {
          "output_type": "execute_result",
          "data": {
            "application/vnd.google.colaboratory.intrinsic+json": {
              "type": "string"
            },
            "text/plain": [
              "' Yeah'"
            ]
          },
          "metadata": {
            "tags": []
          },
          "execution_count": 27
        }
      ]
    },
    {
      "cell_type": "code",
      "metadata": {
        "id": "lsx8QxFV1Dn8",
        "colab_type": "code",
        "colab": {
          "base_uri": "https://localhost:8080/",
          "height": 34
        },
        "outputId": "d22b17c3-054e-4094-99f0-da84a5ae87ec"
      },
      "source": [
        "\" Hello \".strip().count('l') #📌built-in method to count number of specific character in a string"
      ],
      "execution_count": 28,
      "outputs": [
        {
          "output_type": "execute_result",
          "data": {
            "text/plain": [
              "2"
            ]
          },
          "metadata": {
            "tags": []
          },
          "execution_count": 28
        }
      ]
    },
    {
      "cell_type": "code",
      "metadata": {
        "id": "pc7Co90l1Sqq",
        "colab_type": "code",
        "colab": {
          "base_uri": "https://localhost:8080/",
          "height": 34
        },
        "outputId": "b2f01b14-6187-49d9-a553-4f6b02ae86c7"
      },
      "source": [
        "' hello'.endswith('lo') #📌built-in method to check if the string is ending with specified substring"
      ],
      "execution_count": 29,
      "outputs": [
        {
          "output_type": "execute_result",
          "data": {
            "text/plain": [
              "True"
            ]
          },
          "metadata": {
            "tags": []
          },
          "execution_count": 29
        }
      ]
    },
    {
      "cell_type": "code",
      "metadata": {
        "id": "45C6prsr1W6s",
        "colab_type": "code",
        "colab": {
          "base_uri": "https://localhost:8080/",
          "height": 34
        },
        "outputId": "644f3ecb-fb04-41ee-a548-f57a7aa2d6b8"
      },
      "source": [
        "'hello'.startswith('he') #📌built-in method to check if the string is starting with specified substring"
      ],
      "execution_count": 30,
      "outputs": [
        {
          "output_type": "execute_result",
          "data": {
            "text/plain": [
              "True"
            ]
          },
          "metadata": {
            "tags": []
          },
          "execution_count": 30
        }
      ]
    },
    {
      "cell_type": "code",
      "metadata": {
        "id": "Xtqr-nf41Xsb",
        "colab_type": "code",
        "colab": {
          "base_uri": "https://localhost:8080/",
          "height": 34
        },
        "outputId": "34cc979e-2cd5-4296-d3cb-c97b0ec89aa6"
      },
      "source": [
        "'123'.isnumeric() #📌built-in method to check if the string is numeric"
      ],
      "execution_count": 31,
      "outputs": [
        {
          "output_type": "execute_result",
          "data": {
            "text/plain": [
              "True"
            ]
          },
          "metadata": {
            "tags": []
          },
          "execution_count": 31
        }
      ]
    },
    {
      "cell_type": "code",
      "metadata": {
        "id": "X1UgkW-51itX",
        "colab_type": "code",
        "colab": {
          "base_uri": "https://localhost:8080/",
          "height": 34
        },
        "outputId": "de441538-7c06-42b3-9a49-5a12bdfdddc5"
      },
      "source": [
        "'hellpo '.isnumeric()"
      ],
      "execution_count": 32,
      "outputs": [
        {
          "output_type": "execute_result",
          "data": {
            "text/plain": [
              "False"
            ]
          },
          "metadata": {
            "tags": []
          },
          "execution_count": 32
        }
      ]
    },
    {
      "cell_type": "code",
      "metadata": {
        "id": "jh36vNDEMGc3",
        "colab_type": "code",
        "colab": {
          "base_uri": "https://localhost:8080/",
          "height": 34
        },
        "outputId": "4e493333-bdec-429b-a6c4-1124bc264c0f"
      },
      "source": [
        "'hello'.isalpha() #📌built-in method to check if the string is alphabetic"
      ],
      "execution_count": 33,
      "outputs": [
        {
          "output_type": "execute_result",
          "data": {
            "text/plain": [
              "True"
            ]
          },
          "metadata": {
            "tags": []
          },
          "execution_count": 33
        }
      ]
    },
    {
      "cell_type": "code",
      "metadata": {
        "id": "jHO2Z9dWMO9U",
        "colab_type": "code",
        "colab": {
          "base_uri": "https://localhost:8080/",
          "height": 35
        },
        "outputId": "1beab65d-16d1-431d-a656-120b73f3ae8c"
      },
      "source": [
        "'hello'.replace('llo','y') #📌built-in method to replace a substring from a string"
      ],
      "execution_count": 34,
      "outputs": [
        {
          "output_type": "execute_result",
          "data": {
            "application/vnd.google.colaboratory.intrinsic+json": {
              "type": "string"
            },
            "text/plain": [
              "'hey'"
            ]
          },
          "metadata": {
            "tags": []
          },
          "execution_count": 34
        }
      ]
    },
    {
      "cell_type": "code",
      "metadata": {
        "id": "XclJNKao1i4S",
        "colab_type": "code",
        "colab": {
          "base_uri": "https://localhost:8080/",
          "height": 35
        },
        "outputId": "fee380be-e1d7-40c5-b218-ce7518be4db0"
      },
      "source": [
        "a = \" \".join(['Hey,','Deepak','Mittal']) #📌built-in method to join strings with a specified \" \" character\n",
        "a"
      ],
      "execution_count": 35,
      "outputs": [
        {
          "output_type": "execute_result",
          "data": {
            "application/vnd.google.colaboratory.intrinsic+json": {
              "type": "string"
            },
            "text/plain": [
              "'Hey, Deepak Mittal'"
            ]
          },
          "metadata": {
            "tags": []
          },
          "execution_count": 35
        }
      ]
    },
    {
      "cell_type": "code",
      "metadata": {
        "id": "on2brX8U1i0v",
        "colab_type": "code",
        "colab": {
          "base_uri": "https://localhost:8080/",
          "height": 34
        },
        "outputId": "95eb03d1-8a8c-440b-8a7a-a4ca693db900"
      },
      "source": [
        "a.split() #default by whitespace"
      ],
      "execution_count": 36,
      "outputs": [
        {
          "output_type": "execute_result",
          "data": {
            "text/plain": [
              "['Hey,', 'Deepak', 'Mittal']"
            ]
          },
          "metadata": {
            "tags": []
          },
          "execution_count": 36
        }
      ]
    },
    {
      "cell_type": "markdown",
      "metadata": {
        "id": "Uytm92PmbyNK",
        "colab_type": "text"
      },
      "source": [
        "<h5>🧐Formating in string</h5>"
      ]
    },
    {
      "cell_type": "code",
      "metadata": {
        "id": "NmxIQgkN1ilx",
        "colab_type": "code",
        "colab": {
          "base_uri": "https://localhost:8080/",
          "height": 35
        },
        "outputId": "b2edab29-2682-4bb7-d05c-57ff12ea1477"
      },
      "source": [
        "'My name is {} and I have {} computers'.format('Deepak Mittal',2)"
      ],
      "execution_count": 37,
      "outputs": [
        {
          "output_type": "execute_result",
          "data": {
            "application/vnd.google.colaboratory.intrinsic+json": {
              "type": "string"
            },
            "text/plain": [
              "'My name is Deepak Mittal and I have 2 computers'"
            ]
          },
          "metadata": {
            "tags": []
          },
          "execution_count": 37
        }
      ]
    },
    {
      "cell_type": "code",
      "metadata": {
        "id": "dHo4EOm0GVmy",
        "colab_type": "code",
        "colab": {
          "base_uri": "https://localhost:8080/",
          "height": 35
        },
        "outputId": "19e9d912-51bd-44dc-c847-a92c82ddf1f1"
      },
      "source": [
        "#https://docs.python.org/3/library/string.html#format-specification-mini-language\n",
        "'My name is {name} and I have {number} computers'.format(number = 2,name = \"Deepak Mittal\")"
      ],
      "execution_count": 38,
      "outputs": [
        {
          "output_type": "execute_result",
          "data": {
            "application/vnd.google.colaboratory.intrinsic+json": {
              "type": "string"
            },
            "text/plain": [
              "'My name is Deepak Mittal and I have 2 computers'"
            ]
          },
          "metadata": {
            "tags": []
          },
          "execution_count": 38
        }
      ]
    },
    {
      "cell_type": "code",
      "metadata": {
        "id": "4J5gkT97MusG",
        "colab_type": "code",
        "colab": {
          "base_uri": "https://localhost:8080/",
          "height": 35
        },
        "outputId": "739ee719-5090-4589-e11a-d870da8b4534"
      },
      "source": [
        "'My name is {1} and I have {0} computers'.format(2,\"Deepak Mittal\")"
      ],
      "execution_count": 39,
      "outputs": [
        {
          "output_type": "execute_result",
          "data": {
            "application/vnd.google.colaboratory.intrinsic+json": {
              "type": "string"
            },
            "text/plain": [
              "'My name is Deepak Mittal and I have 2 computers'"
            ]
          },
          "metadata": {
            "tags": []
          },
          "execution_count": 39
        }
      ]
    },
    {
      "cell_type": "code",
      "metadata": {
        "id": "NR1f0uZGQKkI",
        "colab_type": "code",
        "colab": {
          "base_uri": "https://localhost:8080/",
          "height": 35
        },
        "outputId": "b7baafb7-2848-4850-f7b2-1e240388510b"
      },
      "source": [
        "'{:.2s} is awesome'.format('Python')"
      ],
      "execution_count": 40,
      "outputs": [
        {
          "output_type": "execute_result",
          "data": {
            "application/vnd.google.colaboratory.intrinsic+json": {
              "type": "string"
            },
            "text/plain": [
              "'Py is awesome'"
            ]
          },
          "metadata": {
            "tags": []
          },
          "execution_count": 40
        }
      ]
    },
    {
      "cell_type": "code",
      "metadata": {
        "id": "4dcFXJayQKsK",
        "colab_type": "code",
        "colab": {
          "base_uri": "https://localhost:8080/",
          "height": 35
        },
        "outputId": "2a660e33-fffd-461d-fa1e-363f204724e1"
      },
      "source": [
        "'{:<6s}'.format('hi') #left alignment"
      ],
      "execution_count": 41,
      "outputs": [
        {
          "output_type": "execute_result",
          "data": {
            "application/vnd.google.colaboratory.intrinsic+json": {
              "type": "string"
            },
            "text/plain": [
              "'hi    '"
            ]
          },
          "metadata": {
            "tags": []
          },
          "execution_count": 41
        }
      ]
    },
    {
      "cell_type": "code",
      "metadata": {
        "id": "xWQUs0W3QKft",
        "colab_type": "code",
        "colab": {
          "base_uri": "https://localhost:8080/",
          "height": 35
        },
        "outputId": "1ddfef7a-dff4-4e5d-fb91-638038590167"
      },
      "source": [
        "'{:>6s}'.format('hi')  #right alignment"
      ],
      "execution_count": 42,
      "outputs": [
        {
          "output_type": "execute_result",
          "data": {
            "application/vnd.google.colaboratory.intrinsic+json": {
              "type": "string"
            },
            "text/plain": [
              "'    hi'"
            ]
          },
          "metadata": {
            "tags": []
          },
          "execution_count": 42
        }
      ]
    },
    {
      "cell_type": "code",
      "metadata": {
        "id": "iouUp_ttQzJ1",
        "colab_type": "code",
        "colab": {
          "base_uri": "https://localhost:8080/",
          "height": 35
        },
        "outputId": "5c253d8b-c877-4335-fbc3-0f6d48dba44d"
      },
      "source": [
        "'{:^6s}'.format('hi')       #center alignment"
      ],
      "execution_count": 43,
      "outputs": [
        {
          "output_type": "execute_result",
          "data": {
            "application/vnd.google.colaboratory.intrinsic+json": {
              "type": "string"
            },
            "text/plain": [
              "'  hi  '"
            ]
          },
          "metadata": {
            "tags": []
          },
          "execution_count": 43
        }
      ]
    },
    {
      "cell_type": "code",
      "metadata": {
        "id": "ssceHt78OXK3",
        "colab_type": "code",
        "colab": {
          "base_uri": "https://localhost:8080/",
          "height": 35
        },
        "outputId": "76967496-2995-4f1f-944e-833b4803dc0d"
      },
      "source": [
        "format(121, \"d\")"
      ],
      "execution_count": 44,
      "outputs": [
        {
          "output_type": "execute_result",
          "data": {
            "application/vnd.google.colaboratory.intrinsic+json": {
              "type": "string"
            },
            "text/plain": [
              "'121'"
            ]
          },
          "metadata": {
            "tags": []
          },
          "execution_count": 44
        }
      ]
    },
    {
      "cell_type": "code",
      "metadata": {
        "id": "8tMWp33eOaFJ",
        "colab_type": "code",
        "colab": {
          "base_uri": "https://localhost:8080/",
          "height": 34
        },
        "outputId": "0ce89f44-ce57-4e01-b9d3-4281f9836eb2"
      },
      "source": [
        "format(121, \".2f\"),format(12, \"f\")"
      ],
      "execution_count": 45,
      "outputs": [
        {
          "output_type": "execute_result",
          "data": {
            "text/plain": [
              "('121.00', '12.000000')"
            ]
          },
          "metadata": {
            "tags": []
          },
          "execution_count": 45
        }
      ]
    },
    {
      "cell_type": "code",
      "metadata": {
        "id": "pXRH0-GhOn46",
        "colab_type": "code",
        "colab": {
          "base_uri": "https://localhost:8080/",
          "height": 35
        },
        "outputId": "da3f4447-c014-405b-acf6-c4a364a027c8"
      },
      "source": [
        "format(15, \"b\")"
      ],
      "execution_count": 46,
      "outputs": [
        {
          "output_type": "execute_result",
          "data": {
            "application/vnd.google.colaboratory.intrinsic+json": {
              "type": "string"
            },
            "text/plain": [
              "'1111'"
            ]
          },
          "metadata": {
            "tags": []
          },
          "execution_count": 46
        }
      ]
    },
    {
      "cell_type": "code",
      "metadata": {
        "id": "oLjbPTRxOs5f",
        "colab_type": "code",
        "colab": {
          "base_uri": "https://localhost:8080/",
          "height": 35
        },
        "outputId": "64f949f1-9276-446c-a3bb-981bed3c36d5"
      },
      "source": [
        "format(-11, \"b\")"
      ],
      "execution_count": 47,
      "outputs": [
        {
          "output_type": "execute_result",
          "data": {
            "application/vnd.google.colaboratory.intrinsic+json": {
              "type": "string"
            },
            "text/plain": [
              "'-1011'"
            ]
          },
          "metadata": {
            "tags": []
          },
          "execution_count": 47
        }
      ]
    },
    {
      "cell_type": "code",
      "metadata": {
        "id": "VxZWQBe7O4QI",
        "colab_type": "code",
        "colab": {
          "base_uri": "https://localhost:8080/",
          "height": 35
        },
        "outputId": "f94a8fd0-6b32-4a13-cd28-853a0a832ada"
      },
      "source": [
        "format(1561, \"*>+7,d\")"
      ],
      "execution_count": 48,
      "outputs": [
        {
          "output_type": "execute_result",
          "data": {
            "application/vnd.google.colaboratory.intrinsic+json": {
              "type": "string"
            },
            "text/plain": [
              "'*+1,561'"
            ]
          },
          "metadata": {
            "tags": []
          },
          "execution_count": 48
        }
      ]
    },
    {
      "cell_type": "code",
      "metadata": {
        "id": "1hp1FJiwO4MM",
        "colab_type": "code",
        "colab": {
          "base_uri": "https://localhost:8080/",
          "height": 35
        },
        "outputId": "6403646c-1847-4bc5-9100-73b85b04a70a"
      },
      "source": [
        "format(566.7883, \"^-09.3f\")"
      ],
      "execution_count": 49,
      "outputs": [
        {
          "output_type": "execute_result",
          "data": {
            "application/vnd.google.colaboratory.intrinsic+json": {
              "type": "string"
            },
            "text/plain": [
              "'0566.7880'"
            ]
          },
          "metadata": {
            "tags": []
          },
          "execution_count": 49
        }
      ]
    },
    {
      "cell_type": "code",
      "metadata": {
        "id": "NQuhoCJWJRtg",
        "colab_type": "code",
        "colab": {
          "base_uri": "https://localhost:8080/",
          "height": 35
        },
        "outputId": "017ebb2d-f303-432f-a049-8d9c3b689d35"
      },
      "source": [
        "x = 10.5\n",
        "y = x * 1.1\n",
        "\n",
        "'Number {:.2f} and with 10% additional is {:.2f}'.format(x,y)"
      ],
      "execution_count": 50,
      "outputs": [
        {
          "output_type": "execute_result",
          "data": {
            "application/vnd.google.colaboratory.intrinsic+json": {
              "type": "string"
            },
            "text/plain": [
              "'Number 10.50 and with 10% additional is 11.55'"
            ]
          },
          "metadata": {
            "tags": []
          },
          "execution_count": 50
        }
      ]
    },
    {
      "cell_type": "markdown",
      "metadata": {
        "id": "SfAmXy31ZW_3",
        "colab_type": "text"
      },
      "source": [
        "<h3>⭐List</h3>"
      ]
    },
    {
      "cell_type": "code",
      "metadata": {
        "id": "Je6HjrF4Vt8K",
        "colab_type": "code",
        "colab": {
          "base_uri": "https://localhost:8080/",
          "height": 34
        },
        "outputId": "59f768e1-f5b8-4086-9c48-5b87ac485456"
      },
      "source": [
        "a = []\n",
        "print(type(a))"
      ],
      "execution_count": 51,
      "outputs": [
        {
          "output_type": "stream",
          "text": [
            "<class 'list'>\n"
          ],
          "name": "stdout"
        }
      ]
    },
    {
      "cell_type": "code",
      "metadata": {
        "id": "7jV8cy_WbNHo",
        "colab_type": "code",
        "colab": {
          "base_uri": "https://localhost:8080/",
          "height": 34
        },
        "outputId": "1f4dfab7-8c47-4bc2-a892-0a9660ae24fe"
      },
      "source": [
        "temp = [1,23,4,3.4, 4.5,'Nandini',[\"ismaa\",'Learning Python']]\n",
        "temp[5] = \"jvala\" #📌Mutability \n",
        "temp"
      ],
      "execution_count": 52,
      "outputs": [
        {
          "output_type": "execute_result",
          "data": {
            "text/plain": [
              "[1, 23, 4, 3.4, 4.5, 'jvala', ['ismaa', 'Learning Python']]"
            ]
          },
          "metadata": {
            "tags": []
          },
          "execution_count": 52
        }
      ]
    },
    {
      "cell_type": "code",
      "metadata": {
        "id": "oRL-XTitdXuY",
        "colab_type": "code",
        "colab": {
          "base_uri": "https://localhost:8080/",
          "height": 35
        },
        "outputId": "0c2fd317-16b9-4c2b-bfb4-e6c09de6e95e"
      },
      "source": [
        "temp[6][0][2:]"
      ],
      "execution_count": 53,
      "outputs": [
        {
          "output_type": "execute_result",
          "data": {
            "application/vnd.google.colaboratory.intrinsic+json": {
              "type": "string"
            },
            "text/plain": [
              "'maa'"
            ]
          },
          "metadata": {
            "tags": []
          },
          "execution_count": 53
        }
      ]
    },
    {
      "cell_type": "code",
      "metadata": {
        "id": "7dAwKHKUo3fz",
        "colab_type": "code",
        "colab": {
          "base_uri": "https://localhost:8080/",
          "height": 35
        },
        "outputId": "8329603d-1bf1-4117-f737-8a4596002b75"
      },
      "source": [
        "temp[6][1][-6:-4]"
      ],
      "execution_count": 54,
      "outputs": [
        {
          "output_type": "execute_result",
          "data": {
            "application/vnd.google.colaboratory.intrinsic+json": {
              "type": "string"
            },
            "text/plain": [
              "'Py'"
            ]
          },
          "metadata": {
            "tags": []
          },
          "execution_count": 54
        }
      ]
    },
    {
      "cell_type": "code",
      "metadata": {
        "id": "fwPEcEmkeVDd",
        "colab_type": "code",
        "colab": {
          "base_uri": "https://localhost:8080/",
          "height": 35
        },
        "outputId": "2df3d549-6ab3-44d3-c74a-b07ca469724d"
      },
      "source": [
        "var = temp[6][0]\n",
        "var[1:3]"
      ],
      "execution_count": 55,
      "outputs": [
        {
          "output_type": "execute_result",
          "data": {
            "application/vnd.google.colaboratory.intrinsic+json": {
              "type": "string"
            },
            "text/plain": [
              "'sm'"
            ]
          },
          "metadata": {
            "tags": []
          },
          "execution_count": 55
        }
      ]
    },
    {
      "cell_type": "code",
      "metadata": {
        "id": "3SjlVOSVaAsK",
        "colab_type": "code",
        "colab": {
          "base_uri": "https://localhost:8080/",
          "height": 34
        },
        "outputId": "72a759d3-e794-4f5a-f427-68e45c8481fc"
      },
      "source": [
        "a = ['a','b',34,[23,3],'Hello, World!']\n",
        "print(a)"
      ],
      "execution_count": 56,
      "outputs": [
        {
          "output_type": "stream",
          "text": [
            "['a', 'b', 34, [23, 3], 'Hello, World!']\n"
          ],
          "name": "stdout"
        }
      ]
    },
    {
      "cell_type": "code",
      "metadata": {
        "id": "WqxNuoudaFZO",
        "colab_type": "code",
        "colab": {
          "base_uri": "https://localhost:8080/",
          "height": 35
        },
        "outputId": "0f8cc599-e799-4283-e3b7-324781ec4b29"
      },
      "source": [
        "a[1]"
      ],
      "execution_count": 57,
      "outputs": [
        {
          "output_type": "execute_result",
          "data": {
            "application/vnd.google.colaboratory.intrinsic+json": {
              "type": "string"
            },
            "text/plain": [
              "'b'"
            ]
          },
          "metadata": {
            "tags": []
          },
          "execution_count": 57
        }
      ]
    },
    {
      "cell_type": "code",
      "metadata": {
        "id": "0D1UrQffaKY5",
        "colab_type": "code",
        "colab": {
          "base_uri": "https://localhost:8080/",
          "height": 34
        },
        "outputId": "dba4fedd-a430-4c88-c0dd-a14b2e7aadfb"
      },
      "source": [
        "a[3]"
      ],
      "execution_count": 58,
      "outputs": [
        {
          "output_type": "execute_result",
          "data": {
            "text/plain": [
              "[23, 3]"
            ]
          },
          "metadata": {
            "tags": []
          },
          "execution_count": 58
        }
      ]
    },
    {
      "cell_type": "code",
      "metadata": {
        "id": "g4KCCcn7aMyT",
        "colab_type": "code",
        "colab": {
          "base_uri": "https://localhost:8080/",
          "height": 34
        },
        "outputId": "270335c1-fc8d-4305-efc1-b847461ddc78"
      },
      "source": [
        "a[3][1]"
      ],
      "execution_count": 59,
      "outputs": [
        {
          "output_type": "execute_result",
          "data": {
            "text/plain": [
              "3"
            ]
          },
          "metadata": {
            "tags": []
          },
          "execution_count": 59
        }
      ]
    },
    {
      "cell_type": "code",
      "metadata": {
        "id": "IgZlowt0aQFJ",
        "colab_type": "code",
        "colab": {
          "base_uri": "https://localhost:8080/",
          "height": 35
        },
        "outputId": "4a2cba4f-7c0a-4658-cd64-fdb4bf14c41f"
      },
      "source": [
        "a[4][7]"
      ],
      "execution_count": 60,
      "outputs": [
        {
          "output_type": "execute_result",
          "data": {
            "application/vnd.google.colaboratory.intrinsic+json": {
              "type": "string"
            },
            "text/plain": [
              "'W'"
            ]
          },
          "metadata": {
            "tags": []
          },
          "execution_count": 60
        }
      ]
    },
    {
      "cell_type": "code",
      "metadata": {
        "id": "-KTwaedYaRyW",
        "colab_type": "code",
        "colab": {
          "base_uri": "https://localhost:8080/",
          "height": 34
        },
        "outputId": "732317ce-5170-4173-9bf8-12afae5d14e3"
      },
      "source": [
        "a[4][12] == a[4][-1]"
      ],
      "execution_count": 61,
      "outputs": [
        {
          "output_type": "execute_result",
          "data": {
            "text/plain": [
              "True"
            ]
          },
          "metadata": {
            "tags": []
          },
          "execution_count": 61
        }
      ]
    },
    {
      "cell_type": "code",
      "metadata": {
        "id": "Xbj5t-enaTe0",
        "colab_type": "code",
        "colab": {
          "base_uri": "https://localhost:8080/",
          "height": 35
        },
        "outputId": "423037f9-90e5-49bb-b1e1-5d7a5b30fd1b"
      },
      "source": [
        "a[4][0:5] #📌slicing"
      ],
      "execution_count": 62,
      "outputs": [
        {
          "output_type": "execute_result",
          "data": {
            "application/vnd.google.colaboratory.intrinsic+json": {
              "type": "string"
            },
            "text/plain": [
              "'Hello'"
            ]
          },
          "metadata": {
            "tags": []
          },
          "execution_count": 62
        }
      ]
    },
    {
      "cell_type": "code",
      "metadata": {
        "id": "922VHQUTaVrw",
        "colab_type": "code",
        "colab": {
          "base_uri": "https://localhost:8080/",
          "height": 34
        },
        "outputId": "7a3a4274-3d66-477e-9cab-a65ee065f24c"
      },
      "source": [
        "len(a)"
      ],
      "execution_count": 63,
      "outputs": [
        {
          "output_type": "execute_result",
          "data": {
            "text/plain": [
              "5"
            ]
          },
          "metadata": {
            "tags": []
          },
          "execution_count": 63
        }
      ]
    },
    {
      "cell_type": "code",
      "metadata": {
        "id": "vBEXgaJ1qKfW",
        "colab_type": "code",
        "colab": {}
      },
      "source": [
        "temp = [38,39,33,37,32,50]"
      ],
      "execution_count": 64,
      "outputs": []
    },
    {
      "cell_type": "code",
      "metadata": {
        "id": "DbAMgbkGaY5K",
        "colab_type": "code",
        "colab": {
          "base_uri": "https://localhost:8080/",
          "height": 52
        },
        "outputId": "4a62e1c4-a55f-43ce-e973-155a51039415"
      },
      "source": [
        "print(min(temp)) #📌built-in function\n",
        "print(max(temp))"
      ],
      "execution_count": 65,
      "outputs": [
        {
          "output_type": "stream",
          "text": [
            "32\n",
            "50\n"
          ],
          "name": "stdout"
        }
      ]
    },
    {
      "cell_type": "code",
      "metadata": {
        "id": "SWqwZC-DadTK",
        "colab_type": "code",
        "colab": {
          "base_uri": "https://localhost:8080/",
          "height": 34
        },
        "outputId": "51875b28-3daf-458f-eccc-f662aa805d2b"
      },
      "source": [
        "[1,2,3,4] + [2,2,2,2] #concatenation"
      ],
      "execution_count": 66,
      "outputs": [
        {
          "output_type": "execute_result",
          "data": {
            "text/plain": [
              "[1, 2, 3, 4, 2, 2, 2, 2]"
            ]
          },
          "metadata": {
            "tags": []
          },
          "execution_count": 66
        }
      ]
    },
    {
      "cell_type": "code",
      "metadata": {
        "id": "F6VMrW4-ao8s",
        "colab_type": "code",
        "colab": {
          "base_uri": "https://localhost:8080/",
          "height": 34
        },
        "outputId": "5c2a101c-4a85-43b5-f400-0c70ea540a1c"
      },
      "source": [
        "'a' in a "
      ],
      "execution_count": 67,
      "outputs": [
        {
          "output_type": "execute_result",
          "data": {
            "text/plain": [
              "True"
            ]
          },
          "metadata": {
            "tags": []
          },
          "execution_count": 67
        }
      ]
    },
    {
      "cell_type": "code",
      "metadata": {
        "id": "yyocLR-Gar9v",
        "colab_type": "code",
        "colab": {
          "base_uri": "https://localhost:8080/",
          "height": 34
        },
        "outputId": "a8791b23-d5d7-45e6-ef4e-a2435e5be6aa"
      },
      "source": [
        "a.append('d')  #📌built-in method which is use to add a element at the end of list\n",
        "a"
      ],
      "execution_count": 68,
      "outputs": [
        {
          "output_type": "execute_result",
          "data": {
            "text/plain": [
              "['a', 'b', 34, [23, 3], 'Hello, World!', 'd']"
            ]
          },
          "metadata": {
            "tags": []
          },
          "execution_count": 68
        }
      ]
    },
    {
      "cell_type": "code",
      "metadata": {
        "id": "y6_N7o-9a0VU",
        "colab_type": "code",
        "colab": {
          "base_uri": "https://localhost:8080/",
          "height": 34
        },
        "outputId": "3210321a-2006-4a91-a66e-3b8eba185ca5"
      },
      "source": [
        "a.index('d')"
      ],
      "execution_count": 69,
      "outputs": [
        {
          "output_type": "execute_result",
          "data": {
            "text/plain": [
              "5"
            ]
          },
          "metadata": {
            "tags": []
          },
          "execution_count": 69
        }
      ]
    },
    {
      "cell_type": "code",
      "metadata": {
        "id": "8-hYVsu-4Szx",
        "colab_type": "code",
        "colab": {
          "base_uri": "https://localhost:8080/",
          "height": 34
        },
        "outputId": "9601b9f6-0b9b-4772-b599-66a106850460"
      },
      "source": [
        "a"
      ],
      "execution_count": 70,
      "outputs": [
        {
          "output_type": "execute_result",
          "data": {
            "text/plain": [
              "['a', 'b', 34, [23, 3], 'Hello, World!', 'd']"
            ]
          },
          "metadata": {
            "tags": []
          },
          "execution_count": 70
        }
      ]
    },
    {
      "cell_type": "code",
      "metadata": {
        "id": "9jGLtNT6a2Nh",
        "colab_type": "code",
        "colab": {
          "base_uri": "https://localhost:8080/",
          "height": 34
        },
        "outputId": "0ca5e820-40d7-4ae6-e2b1-7cbcdb79d0d9"
      },
      "source": [
        "a[3][1] = 'Piyush'  #📌 Lists are mutuable\n",
        "a"
      ],
      "execution_count": 71,
      "outputs": [
        {
          "output_type": "execute_result",
          "data": {
            "text/plain": [
              "['a', 'b', 34, [23, 'Piyush'], 'Hello, World!', 'd']"
            ]
          },
          "metadata": {
            "tags": []
          },
          "execution_count": 71
        }
      ]
    },
    {
      "cell_type": "code",
      "metadata": {
        "id": "BHrM18MSuYQf",
        "colab_type": "code",
        "colab": {
          "base_uri": "https://localhost:8080/",
          "height": 34
        },
        "outputId": "3bf5ee9c-ce3c-42f9-ced2-7981abae1941"
      },
      "source": [
        "a.index('d')"
      ],
      "execution_count": 72,
      "outputs": [
        {
          "output_type": "execute_result",
          "data": {
            "text/plain": [
              "5"
            ]
          },
          "metadata": {
            "tags": []
          },
          "execution_count": 72
        }
      ]
    },
    {
      "cell_type": "code",
      "metadata": {
        "id": "ZPC8uBETyYbv",
        "colab_type": "code",
        "colab": {
          "base_uri": "https://localhost:8080/",
          "height": 34
        },
        "outputId": "900504aa-3258-49a5-b391-15a85600528c"
      },
      "source": [
        "a = [1,2,3]\n",
        "b = [4,5,6]\n",
        "c = [*a,*b,7,8,9] #spreading\n",
        "print(c)"
      ],
      "execution_count": 92,
      "outputs": [
        {
          "output_type": "stream",
          "text": [
            "[1, 2, 3, 4, 5, 6, 7, 8, 9]\n"
          ],
          "name": "stdout"
        }
      ]
    },
    {
      "cell_type": "markdown",
      "metadata": {
        "id": "mlyAt4IvM6qE",
        "colab_type": "text"
      },
      "source": [
        "<h3>⭐Tuple</h3>"
      ]
    },
    {
      "cell_type": "code",
      "metadata": {
        "id": "K4QWwU3wa4Dz",
        "colab_type": "code",
        "colab": {
          "base_uri": "https://localhost:8080/",
          "height": 34
        },
        "outputId": "3d90ca1f-7b4f-43e4-d456-e6faa788c585"
      },
      "source": [
        "tup = (1,2,3,4)\n",
        "tup"
      ],
      "execution_count": 73,
      "outputs": [
        {
          "output_type": "execute_result",
          "data": {
            "text/plain": [
              "(1, 2, 3, 4)"
            ]
          },
          "metadata": {
            "tags": []
          },
          "execution_count": 73
        }
      ]
    },
    {
      "cell_type": "code",
      "metadata": {
        "id": "L6udyWpzbWE7",
        "colab_type": "code",
        "colab": {
          "base_uri": "https://localhost:8080/",
          "height": 34
        },
        "outputId": "bc812091-10bf-420e-d2fc-45dbf0923055"
      },
      "source": [
        "tup[0]"
      ],
      "execution_count": 74,
      "outputs": [
        {
          "output_type": "execute_result",
          "data": {
            "text/plain": [
              "1"
            ]
          },
          "metadata": {
            "tags": []
          },
          "execution_count": 74
        }
      ]
    },
    {
      "cell_type": "code",
      "metadata": {
        "id": "RfVFANXebYYR",
        "colab_type": "code",
        "colab": {
          "base_uri": "https://localhost:8080/",
          "height": 167
        },
        "outputId": "f3e85850-2f40-4e49-eb7e-04ef776c76ec"
      },
      "source": [
        "tup[0] = \"Laptop\"   #📌 tuples are immutuable 📌Error because tuple is immutable"
      ],
      "execution_count": 75,
      "outputs": [
        {
          "output_type": "error",
          "ename": "TypeError",
          "evalue": "ignored",
          "traceback": [
            "\u001b[0;31m---------------------------------------------------------------------------\u001b[0m",
            "\u001b[0;31mTypeError\u001b[0m                                 Traceback (most recent call last)",
            "\u001b[0;32m<ipython-input-75-323d94f11b86>\u001b[0m in \u001b[0;36m<module>\u001b[0;34m()\u001b[0m\n\u001b[0;32m----> 1\u001b[0;31m \u001b[0mtup\u001b[0m\u001b[0;34m[\u001b[0m\u001b[0;36m0\u001b[0m\u001b[0;34m]\u001b[0m \u001b[0;34m=\u001b[0m \u001b[0;34m\"Laptop\"\u001b[0m   \u001b[0;31m#📌 tuples are immutuable 📌Error because tuple is immutable\u001b[0m\u001b[0;34m\u001b[0m\u001b[0;34m\u001b[0m\u001b[0m\n\u001b[0m",
            "\u001b[0;31mTypeError\u001b[0m: 'tuple' object does not support item assignment"
          ]
        }
      ]
    },
    {
      "cell_type": "code",
      "metadata": {
        "id": "Ry03zsQqbfQo",
        "colab_type": "code",
        "colab": {
          "base_uri": "https://localhost:8080/",
          "height": 34
        },
        "outputId": "0f1c48e9-af4a-4719-f165-bdbfae5553d6"
      },
      "source": [
        "t = (1,2,3,4) #create tuple\n",
        "t = list(t)   # convert tuple into list using list() function\n",
        "t.append(5)  # add 5 in list t [1,2,3,4,5]\n",
        "t = tuple(t)  # convert into tuple using tuple() function\n",
        "t"
      ],
      "execution_count": 76,
      "outputs": [
        {
          "output_type": "execute_result",
          "data": {
            "text/plain": [
              "(1, 2, 3, 4, 5)"
            ]
          },
          "metadata": {
            "tags": []
          },
          "execution_count": 76
        }
      ]
    },
    {
      "cell_type": "code",
      "metadata": {
        "id": "Go2b_k6zbnD7",
        "colab_type": "code",
        "colab": {
          "base_uri": "https://localhost:8080/",
          "height": 34
        },
        "outputId": "5bc6c40e-beb8-49ce-9403-b5e6395250c0"
      },
      "source": [
        "len(t)"
      ],
      "execution_count": 77,
      "outputs": [
        {
          "output_type": "execute_result",
          "data": {
            "text/plain": [
              "5"
            ]
          },
          "metadata": {
            "tags": []
          },
          "execution_count": 77
        }
      ]
    },
    {
      "cell_type": "code",
      "metadata": {
        "id": "vpVgeogzym5y",
        "colab_type": "code",
        "colab": {
          "base_uri": "https://localhost:8080/",
          "height": 34
        },
        "outputId": "192d6607-10c3-4623-b89f-bb07e5f35346"
      },
      "source": [
        "a = (1,2,3)\n",
        "b = (4,5,6)\n",
        "c = (*a,*b,7,8,9) #spreading\n",
        "print(c)"
      ],
      "execution_count": 93,
      "outputs": [
        {
          "output_type": "stream",
          "text": [
            "(1, 2, 3, 4, 5, 6, 7, 8, 9)\n"
          ],
          "name": "stdout"
        }
      ]
    },
    {
      "cell_type": "markdown",
      "metadata": {
        "id": "EH9fInQaeR8z",
        "colab_type": "text"
      },
      "source": [
        "<h3>⭐Set</h3>\n",
        "Unordered collection of objects to perform mathematical set operation. Contains only unique items. "
      ]
    },
    {
      "cell_type": "code",
      "metadata": {
        "id": "lQuvPmpSb2vh",
        "colab_type": "code",
        "colab": {
          "base_uri": "https://localhost:8080/",
          "height": 52
        },
        "outputId": "0cd76c7c-7425-49d2-e355-22c53e08d23d"
      },
      "source": [
        "a = {1,2,3,4,5}\n",
        "b = {4,5,6,7,7}  # 7 twice\n",
        "print(a)\n",
        "print(b) #printed only once because set do not contain two similar elements"
      ],
      "execution_count": 78,
      "outputs": [
        {
          "output_type": "stream",
          "text": [
            "{1, 2, 3, 4, 5}\n",
            "{4, 5, 6, 7}\n"
          ],
          "name": "stdout"
        }
      ]
    },
    {
      "cell_type": "code",
      "metadata": {
        "id": "LkM5I10Me5IT",
        "colab_type": "code",
        "colab": {
          "base_uri": "https://localhost:8080/",
          "height": 34
        },
        "outputId": "662b949d-e6f1-4716-e0aa-fd4d4db6cf57"
      },
      "source": [
        "#OR\n",
        "a | b "
      ],
      "execution_count": 79,
      "outputs": [
        {
          "output_type": "execute_result",
          "data": {
            "text/plain": [
              "{1, 2, 3, 4, 5, 6, 7}"
            ]
          },
          "metadata": {
            "tags": []
          },
          "execution_count": 79
        }
      ]
    },
    {
      "cell_type": "code",
      "metadata": {
        "id": "0FuT1pwnfMyW",
        "colab_type": "code",
        "colab": {
          "base_uri": "https://localhost:8080/",
          "height": 52
        },
        "outputId": "a75bddcd-c8ec-4968-93ab-22bbd15e3f42"
      },
      "source": [
        "#union\n",
        "print(a.union(b)) #a u b\n",
        "print(b.union(a)) #b u a"
      ],
      "execution_count": 80,
      "outputs": [
        {
          "output_type": "stream",
          "text": [
            "{1, 2, 3, 4, 5, 6, 7}\n",
            "{1, 2, 3, 4, 5, 6, 7}\n"
          ],
          "name": "stdout"
        }
      ]
    },
    {
      "cell_type": "code",
      "metadata": {
        "id": "a0AWsoDifKQy",
        "colab_type": "code",
        "colab": {
          "base_uri": "https://localhost:8080/",
          "height": 34
        },
        "outputId": "f4ee4ead-8f86-4f3f-aaa8-4fbd67c11781"
      },
      "source": [
        "#AND\n",
        "a & b"
      ],
      "execution_count": 81,
      "outputs": [
        {
          "output_type": "execute_result",
          "data": {
            "text/plain": [
              "{4, 5}"
            ]
          },
          "metadata": {
            "tags": []
          },
          "execution_count": 81
        }
      ]
    },
    {
      "cell_type": "code",
      "metadata": {
        "id": "EpTQ-CwPfZfy",
        "colab_type": "code",
        "colab": {
          "base_uri": "https://localhost:8080/",
          "height": 52
        },
        "outputId": "7cfefd44-45c4-4f24-f908-24ae76e97bd3"
      },
      "source": [
        "#intersection\n",
        "print(a.intersection(b))\n",
        "print(b.intersection(a))"
      ],
      "execution_count": 82,
      "outputs": [
        {
          "output_type": "stream",
          "text": [
            "{4, 5}\n",
            "{4, 5}\n"
          ],
          "name": "stdout"
        }
      ]
    },
    {
      "cell_type": "code",
      "metadata": {
        "id": "g9uJ8xwHfiew",
        "colab_type": "code",
        "colab": {
          "base_uri": "https://localhost:8080/",
          "height": 87
        },
        "outputId": "10e8ecb4-5e01-4267-d319-aeb87dc3501f"
      },
      "source": [
        "#difference\n",
        "print(a-b)\n",
        "print(a.difference(b))\n",
        "print(b-a)\n",
        "print(b.difference(a))"
      ],
      "execution_count": 83,
      "outputs": [
        {
          "output_type": "stream",
          "text": [
            "{1, 2, 3}\n",
            "{1, 2, 3}\n",
            "{6, 7}\n",
            "{6, 7}\n"
          ],
          "name": "stdout"
        }
      ]
    },
    {
      "cell_type": "code",
      "metadata": {
        "id": "1BeTLwMggKU5",
        "colab_type": "code",
        "colab": {
          "base_uri": "https://localhost:8080/",
          "height": 87
        },
        "outputId": "647b117b-9ab5-48e5-c0c9-7a4ff37c78ca"
      },
      "source": [
        "#symmetric difference\n",
        "print(a ^ b)\n",
        "print(a.symmetric_difference(b))\n",
        "print(b ^ a)\n",
        "print(b.symmetric_difference(a))"
      ],
      "execution_count": 84,
      "outputs": [
        {
          "output_type": "stream",
          "text": [
            "{1, 2, 3, 6, 7}\n",
            "{1, 2, 3, 6, 7}\n",
            "{1, 2, 3, 6, 7}\n",
            "{1, 2, 3, 6, 7}\n"
          ],
          "name": "stdout"
        }
      ]
    },
    {
      "cell_type": "markdown",
      "metadata": {
        "id": "_xikIpQNgwau",
        "colab_type": "text"
      },
      "source": [
        "<h3>⭐Dictionary</h3>\n",
        "Store data in the form of Key-value pairs"
      ]
    },
    {
      "cell_type": "code",
      "metadata": {
        "id": "-1HsshDjglbw",
        "colab_type": "code",
        "colab": {
          "base_uri": "https://localhost:8080/",
          "height": 34
        },
        "outputId": "49c973c9-2c61-41fd-9aa1-ab8761ba6fd6"
      },
      "source": [
        "d = {}        #dictionary declaration not a set declaration. \n",
        "d = dict()    #Another way of declaring a dictionary.      \n",
        "\n",
        "d = {'one':['isma','nandini','piyush'],'two':2.0,'three':3,5:5.0}\n",
        "d"
      ],
      "execution_count": 85,
      "outputs": [
        {
          "output_type": "execute_result",
          "data": {
            "text/plain": [
              "{5: 5.0, 'one': ['isma', 'nandini', 'piyush'], 'three': 3, 'two': 2.0}"
            ]
          },
          "metadata": {
            "tags": []
          },
          "execution_count": 85
        }
      ]
    },
    {
      "cell_type": "code",
      "metadata": {
        "id": "tLCny9ne_xQR",
        "colab_type": "code",
        "colab": {
          "base_uri": "https://localhost:8080/",
          "height": 34
        },
        "outputId": "a658fac9-568f-4d08-ff14-4c03188ddc9e"
      },
      "source": [
        "d['two']"
      ],
      "execution_count": 86,
      "outputs": [
        {
          "output_type": "execute_result",
          "data": {
            "text/plain": [
              "2.0"
            ]
          },
          "metadata": {
            "tags": []
          },
          "execution_count": 86
        }
      ]
    },
    {
      "cell_type": "code",
      "metadata": {
        "id": "n366NRNQhF0b",
        "colab_type": "code",
        "colab": {
          "base_uri": "https://localhost:8080/",
          "height": 122
        },
        "outputId": "99d2aace-863f-4e4d-a04b-cb2341e57fca"
      },
      "source": [
        "d['four'] = 4\n",
        "d['five'] = 5\n",
        "d"
      ],
      "execution_count": 87,
      "outputs": [
        {
          "output_type": "execute_result",
          "data": {
            "text/plain": [
              "{5: 5.0,\n",
              " 'five': 5,\n",
              " 'four': 4,\n",
              " 'one': ['isma', 'nandini', 'piyush'],\n",
              " 'three': 3,\n",
              " 'two': 2.0}"
            ]
          },
          "metadata": {
            "tags": []
          },
          "execution_count": 87
        }
      ]
    },
    {
      "cell_type": "code",
      "metadata": {
        "id": "xcnm_Zz6hKfd",
        "colab_type": "code",
        "colab": {
          "base_uri": "https://localhost:8080/",
          "height": 34
        },
        "outputId": "26d744f1-5783-4ffc-dbf3-f597ca84a483"
      },
      "source": [
        "d.keys() #📌built-in method to get all the keys"
      ],
      "execution_count": 88,
      "outputs": [
        {
          "output_type": "execute_result",
          "data": {
            "text/plain": [
              "dict_keys(['one', 'two', 'three', 5, 'four', 'five'])"
            ]
          },
          "metadata": {
            "tags": []
          },
          "execution_count": 88
        }
      ]
    },
    {
      "cell_type": "code",
      "metadata": {
        "id": "qn9VV6h9hT0G",
        "colab_type": "code",
        "colab": {
          "base_uri": "https://localhost:8080/",
          "height": 34
        },
        "outputId": "53e85af2-2624-4493-bf86-b6d98f5df9f8"
      },
      "source": [
        "d.values()  #📌built-in method to get all the values"
      ],
      "execution_count": 89,
      "outputs": [
        {
          "output_type": "execute_result",
          "data": {
            "text/plain": [
              "dict_values([['isma', 'nandini', 'piyush'], 2.0, 3, 5.0, 4, 5])"
            ]
          },
          "metadata": {
            "tags": []
          },
          "execution_count": 89
        }
      ]
    },
    {
      "cell_type": "code",
      "metadata": {
        "id": "YSrscTDyhYD-",
        "colab_type": "code",
        "colab": {
          "base_uri": "https://localhost:8080/",
          "height": 34
        },
        "outputId": "07b2156c-9f5b-4ed7-d263-e52e28a4ee17"
      },
      "source": [
        "d.items() #📌built-in method to get all items in form of list of tuples"
      ],
      "execution_count": 90,
      "outputs": [
        {
          "output_type": "execute_result",
          "data": {
            "text/plain": [
              "dict_items([('one', ['isma', 'nandini', 'piyush']), ('two', 2.0), ('three', 3), (5, 5.0), ('four', 4), ('five', 5)])"
            ]
          },
          "metadata": {
            "tags": []
          },
          "execution_count": 90
        }
      ]
    },
    {
      "cell_type": "code",
      "metadata": {
        "id": "frphjVhShc2V",
        "colab_type": "code",
        "colab": {
          "base_uri": "https://localhost:8080/",
          "height": 105
        },
        "outputId": "7c76bd3d-4ff0-47aa-a4b4-201921e90ac9"
      },
      "source": [
        "d.pop('two') #📌built-in method to remove any pair\n",
        "d"
      ],
      "execution_count": 91,
      "outputs": [
        {
          "output_type": "execute_result",
          "data": {
            "text/plain": [
              "{5: 5.0,\n",
              " 'five': 5,\n",
              " 'four': 4,\n",
              " 'one': ['isma', 'nandini', 'piyush'],\n",
              " 'three': 3}"
            ]
          },
          "metadata": {
            "tags": []
          },
          "execution_count": 91
        }
      ]
    }
  ]
}