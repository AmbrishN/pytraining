{
  "nbformat": 4,
  "nbformat_minor": 0,
  "metadata": {
    "colab": {
      "name": "Untitled",
      "provenance": [],
      "authorship_tag": "ABX9TyO7xD0mfbmxvskGcvesfEeS"
    },
    "kernelspec": {
      "name": "python3",
      "display_name": "Python 3"
    }
  },
  "cells": [
    {
      "cell_type": "code",
      "metadata": {
        "id": "38wHYqelW2yK",
        "colab_type": "code",
        "colab": {
          "base_uri": "https://localhost:8080/",
          "height": 35
        },
        "outputId": "601e7dc4-ec69-4766-a7fb-acf663820967"
      },
      "source": [
        "#Leap year\n",
        "#Every fourth year is a leap year but every century is not \n",
        "year = 1704\n",
        "if year%4 == 0:\n",
        "    if year%100 ==0:\n",
        "        if year%400:\n",
        "            print('Yes, leap year')\n",
        "        else:\n",
        "            print('No')       \n",
        "    else:\n",
        "        print('Yes, leap year')\n",
        "else:\n",
        "    print('No')     \n"
      ],
      "execution_count": 2,
      "outputs": [
        {
          "output_type": "stream",
          "text": [
            "Yes, leap year\n"
          ],
          "name": "stdout"
        }
      ]
    },
    {
      "cell_type": "code",
      "metadata": {
        "id": "OhAavxQOvp4e",
        "colab_type": "code",
        "colab": {}
      },
      "source": [
        ""
      ],
      "execution_count": null,
      "outputs": []
    }
  ]
}
