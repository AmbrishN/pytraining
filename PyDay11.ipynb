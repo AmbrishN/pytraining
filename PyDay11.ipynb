{
  "nbformat": 4,
  "nbformat_minor": 0,
  "metadata": {
    "colab": {
      "name": "placement",
      "provenance": [],
      "authorship_tag": "ABX9TyMj9lEsZW9yjnekH+33yAcn"
    },
    "kernelspec": {
      "name": "python3",
      "display_name": "Python 3"
    }
  },
  "cells": [
    {
      "cell_type": "code",
      "metadata": {
        "id": "B1Dj_0A9HRT4",
        "colab_type": "code",
        "colab": {
          "base_uri": "https://localhost:8080/",
          "height": 122
        },
        "outputId": "2169a5a7-cf17-42cb-d0b5-27ab3ab4e4f1"
      },
      "source": [
        "#Prime Factors\n",
        "\n",
        "def p_factors(n):\n",
        "  factor = 2\n",
        "  while factor <= n:\n",
        "    if n % factor == 0:\n",
        "      print(factor)\n",
        "      n = n // factor\n",
        "    else:\n",
        "      factor +=1\n",
        "  return None\n",
        "\n",
        "p_factors(1000)"
      ],
      "execution_count": 47,
      "outputs": [
        {
          "output_type": "stream",
          "text": [
            "2\n",
            "2\n",
            "2\n",
            "5\n",
            "5\n",
            "5\n"
          ],
          "name": "stdout"
        }
      ]
    },
    {
      "cell_type": "code",
      "metadata": {
        "id": "ntyF9oSgqlCF",
        "colab_type": "code",
        "colab": {
          "base_uri": "https://localhost:8080/",
          "height": 70
        },
        "outputId": "791ae2c0-4af2-4091-91be-d1acbb8c70f3"
      },
      "source": [
        "#Sum of all divisors excluding number itself\n",
        "\n",
        "def divisors(n):\n",
        "  sum = 0\n",
        "  divisor = 1\n",
        "  while divisor <= n:\n",
        "    if n == 0:\n",
        "      return 0\n",
        "    else:\n",
        "      if n%divisor == 0:\n",
        "        sum += divisor\n",
        "    divisor+=1\n",
        "  sum -= n #removing the number divided by itself\n",
        "  return sum\n",
        "print(divisors(0))\n",
        "print(divisors(5)) # 1\n",
        "print(divisors(40)) # 1+2+4+5+8+10+20 = 50"
      ],
      "execution_count": 48,
      "outputs": [
        {
          "output_type": "stream",
          "text": [
            "0\n",
            "1\n",
            "50\n"
          ],
          "name": "stdout"
        }
      ]
    },
    {
      "cell_type": "code",
      "metadata": {
        "id": "sA7qWH17Jqfd",
        "colab_type": "code",
        "colab": {
          "base_uri": "https://localhost:8080/",
          "height": 245
        },
        "outputId": "eacecba7-f2dd-4ef2-8f2e-7996c9168fa0"
      },
      "source": [
        "# Multiplier of a number 1 through 7 till the result to be 12\n",
        "\n",
        "def multiplier(n):\n",
        "\tmultiplier = 1\n",
        "\twhile multiplier <= 7:\n",
        "\t\tresult = n * multiplier\n",
        "\t\tif result > 12 : #constrained\n",
        "\t\t\tbreak\n",
        "\t\tprint(str(n)+\"*\"+str(multiplier)+\" = \"+str(result),'| Result:',result,'<= 12👍')\n",
        "\t\tmultiplier += 1\n",
        "\n",
        "for i in range(1,3):\n",
        "\tmultiplier(i)"
      ],
      "execution_count": 50,
      "outputs": [
        {
          "output_type": "stream",
          "text": [
            "1*1 = 1 | Result: 1 <= 12👍\n",
            "1*2 = 2 | Result: 2 <= 12👍\n",
            "1*3 = 3 | Result: 3 <= 12👍\n",
            "1*4 = 4 | Result: 4 <= 12👍\n",
            "1*5 = 5 | Result: 5 <= 12👍\n",
            "1*6 = 6 | Result: 6 <= 12👍\n",
            "1*7 = 7 | Result: 7 <= 12👍\n",
            "2*1 = 2 | Result: 2 <= 12👍\n",
            "2*2 = 4 | Result: 4 <= 12👍\n",
            "2*3 = 6 | Result: 6 <= 12👍\n",
            "2*4 = 8 | Result: 8 <= 12👍\n",
            "2*5 = 10 | Result: 10 <= 12👍\n",
            "2*6 = 12 | Result: 12 <= 12👍\n"
          ],
          "name": "stdout"
        }
      ]
    },
    {
      "cell_type": "code",
      "metadata": {
        "id": "mwX-DBz0OJV3",
        "colab_type": "code",
        "colab": {
          "base_uri": "https://localhost:8080/",
          "height": 34
        },
        "outputId": "c6fca2fa-80c4-4b79-99e4-2780e3298524"
      },
      "source": [
        "#factorial\n",
        "def factorial(n):\n",
        "    result = 1\n",
        "    for i in range(1,n+1):\n",
        "        result = i * result\n",
        "    return result\n",
        "factorial(3)"
      ],
      "execution_count": 52,
      "outputs": [
        {
          "output_type": "execute_result",
          "data": {
            "text/plain": [
              "6"
            ]
          },
          "metadata": {
            "tags": []
          },
          "execution_count": 52
        }
      ]
    },
    {
      "cell_type": "code",
      "metadata": {
        "id": "Pc4E8b3dWwkp",
        "colab_type": "code",
        "colab": {
          "base_uri": "https://localhost:8080/",
          "height": 105
        },
        "outputId": "2adcb2da-61b1-4c06-86ef-34340983098a"
      },
      "source": [
        "#factorial-recursion\n",
        "def factorial_recursion(n):\n",
        "  if n<2:\n",
        "    return 1\n",
        "  else:\n",
        "    return n* factorial_recursion(n-1)\n",
        "for i in range(5):\n",
        "  print('num =',i,'factorial =',factorial_recursion(i))"
      ],
      "execution_count": 53,
      "outputs": [
        {
          "output_type": "stream",
          "text": [
            "num = 0 factorial = 1\n",
            "num = 1 factorial = 1\n",
            "num = 2 factorial = 2\n",
            "num = 3 factorial = 6\n",
            "num = 4 factorial = 24\n"
          ],
          "name": "stdout"
        }
      ]
    },
    {
      "cell_type": "code",
      "metadata": {
        "id": "vQRMSOVxQHBB",
        "colab_type": "code",
        "colab": {
          "base_uri": "https://localhost:8080/",
          "height": 263
        },
        "outputId": "39470df3-0891-4c05-ccdf-6395344ea9ae"
      },
      "source": [
        "#multiples of 3 between 0 and 40\n",
        "n = 0\n",
        "multiple = 0\n",
        "while n < 40:\n",
        "  n = 3*multiple\n",
        "  if n < 40:\n",
        "    if multiple == 0:\n",
        "      print(multiple)\n",
        "    elif n % 3 == 0:\n",
        "      print(n)\n",
        "  multiple +=1"
      ],
      "execution_count": 54,
      "outputs": [
        {
          "output_type": "stream",
          "text": [
            "0\n",
            "3\n",
            "6\n",
            "9\n",
            "12\n",
            "15\n",
            "18\n",
            "21\n",
            "24\n",
            "27\n",
            "30\n",
            "33\n",
            "36\n",
            "39\n"
          ],
          "name": "stdout"
        }
      ]
    },
    {
      "cell_type": "code",
      "metadata": {
        "id": "HUJg3GzXTuFW",
        "colab_type": "code",
        "colab": {
          "base_uri": "https://localhost:8080/",
          "height": 105
        },
        "outputId": "1a84530e-a81c-44a2-8ed3-d3ab5084e0dd"
      },
      "source": [
        "#check if the number is the power of base(+ve) using recursion\n",
        "def check_power(n, base):\n",
        "  if n < base:\n",
        "    if n == 1: # any number ** 0 | Ex. 3**0 = 1\n",
        "      return 'Yes'\n",
        "    else:\n",
        "      return \"No\"\n",
        "  else:\n",
        "    if n % base == 0:\n",
        "      n = n//base\n",
        "    else:\n",
        "      return 'No'\n",
        "  return check_power(n, base)\n",
        "\n",
        "print(check_power(18,2)) \n",
        "print(check_power(1024,4))\n",
        "print(check_power(45,11)) \n",
        "print(check_power(121,11)) \n",
        "print(check_power(25.0,5.0)) "
      ],
      "execution_count": 55,
      "outputs": [
        {
          "output_type": "stream",
          "text": [
            "No\n",
            "Yes\n",
            "No\n",
            "Yes\n",
            "Yes\n"
          ],
          "name": "stdout"
        }
      ]
    },
    {
      "cell_type": "code",
      "metadata": {
        "id": "-vltLXS0Uaf_",
        "colab_type": "code",
        "colab": {
          "base_uri": "https://localhost:8080/",
          "height": 52
        },
        "outputId": "2b5579d3-c747-4535-b13e-1e922d8df111"
      },
      "source": [
        "#sum of positive numbers using recursion\n",
        "sum = 0\n",
        "def sum(n):\n",
        "  if n < 2:\n",
        "    return 1\n",
        "  else:\n",
        "    return n + sum(n-1)\n",
        "print(sum(10)) #1+2+3+4+5+6+7+8+9+10 = 55\n",
        "print(sum(15)) #1+2+3+4+5+6+7+8+9+10+11+12+13+14+15 = 120"
      ],
      "execution_count": 56,
      "outputs": [
        {
          "output_type": "stream",
          "text": [
            "55\n",
            "120\n"
          ],
          "name": "stdout"
        }
      ]
    },
    {
      "cell_type": "code",
      "metadata": {
        "id": "6CykwNn0fEIW",
        "colab_type": "code",
        "colab": {}
      },
      "source": [
        ""
      ],
      "execution_count": 2,
      "outputs": []
    }
  ]
}