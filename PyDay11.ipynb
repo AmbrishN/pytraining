{
  "nbformat": 4,
  "nbformat_minor": 0,
  "metadata": {
    "colab": {
      "name": "placement",
      "provenance": [],
      "authorship_tag": "ABX9TyNlWWIFFcl+/MK9WiXRQ0RI"
    },
    "kernelspec": {
      "name": "python3",
      "display_name": "Python 3"
    }
  },
  "cells": [
    {
      "cell_type": "code",
      "metadata": {
        "id": "sA7qWH17Jqfd",
        "colab_type": "code",
        "colab": {
          "base_uri": "https://localhost:8080/",
          "height": 316
        },
        "outputId": "a29216cc-c95c-4e4c-c131-36819a1028e7"
      },
      "source": [
        "# Multiplier of a number 1 through 7 till the result to be 12\n",
        "\n",
        "def multiplier(n):\n",
        "\tmultiplier = 1\n",
        "\twhile multiplier <= 7:\n",
        "\t\tresult = n * multiplier\n",
        "\t\tif result > 12 : #constrained\n",
        "\t\t\tbreak\n",
        "\t\tprint(str(n)+\"*\"+str(multiplier)+\" = \"+str(result),'| Result:',result,'<= 12👍')\n",
        "\t\tmultiplier += 1\n",
        "\n",
        "for i in range(1,4):\n",
        "\tmultiplier(i)"
      ],
      "execution_count": 3,
      "outputs": [
        {
          "output_type": "stream",
          "text": [
            "1*1 = 1 | Result: 1 <= 12👍\n",
            "1*2 = 2 | Result: 2 <= 12👍\n",
            "1*3 = 3 | Result: 3 <= 12👍\n",
            "1*4 = 4 | Result: 4 <= 12👍\n",
            "1*5 = 5 | Result: 5 <= 12👍\n",
            "1*6 = 6 | Result: 6 <= 12👍\n",
            "1*7 = 7 | Result: 7 <= 12👍\n",
            "2*1 = 2 | Result: 2 <= 12👍\n",
            "2*2 = 4 | Result: 4 <= 12👍\n",
            "2*3 = 6 | Result: 6 <= 12👍\n",
            "2*4 = 8 | Result: 8 <= 12👍\n",
            "2*5 = 10 | Result: 10 <= 12👍\n",
            "2*6 = 12 | Result: 12 <= 12👍\n",
            "3*1 = 3 | Result: 3 <= 12👍\n",
            "3*2 = 6 | Result: 6 <= 12👍\n",
            "3*3 = 9 | Result: 9 <= 12👍\n",
            "3*4 = 12 | Result: 12 <= 12👍\n"
          ],
          "name": "stdout"
        }
      ]
    },
    {
      "cell_type": "code",
      "metadata": {
        "id": "B1Dj_0A9HRT4",
        "colab_type": "code",
        "colab": {
          "base_uri": "https://localhost:8080/",
          "height": 122
        },
        "outputId": "2169a5a7-cf17-42cb-d0b5-27ab3ab4e4f1"
      },
      "source": [
        "#Prime Factors\n",
        "\n",
        "def p_factors(n):\n",
        "  factor = 2\n",
        "  while factor <= n:\n",
        "    if n % factor == 0:\n",
        "      print(factor)\n",
        "      n = n // factor\n",
        "    else:\n",
        "      factor +=1\n",
        "  return None\n",
        "\n",
        "p_factors(1000)"
      ],
      "execution_count": null,
      "outputs": [
        {
          "output_type": "stream",
          "text": [
            "2\n",
            "2\n",
            "2\n",
            "5\n",
            "5\n",
            "5\n"
          ],
          "name": "stdout"
        }
      ]
    },
    {
      "cell_type": "code",
      "metadata": {
        "id": "DYjqBvg1xOxl",
        "colab_type": "code",
        "colab": {
          "base_uri": "https://localhost:8080/",
          "height": 175
        },
        "outputId": "84c9f894-23b5-4f41-c974-242b30c6854b"
      },
      "source": [
        "# Multiplication table\n",
        "def Tabl(st, sp):\n",
        "\tfor x in range(st,sp+1):\n",
        "\t\tfor y in range(st,sp+1):\n",
        "\t\t\tprint(str(x*y), end=\" \") #for printing in the same line separated with ' '\n",
        "\t\tprint() #For new line\n",
        "\n",
        "Tabl(1, 9)"
      ],
      "execution_count": null,
      "outputs": [
        {
          "output_type": "stream",
          "text": [
            "1 2 3 4 5 6 7 8 9 \n",
            "2 4 6 8 10 12 14 16 18 \n",
            "3 6 9 12 15 18 21 24 27 \n",
            "4 8 12 16 20 24 28 32 36 \n",
            "5 10 15 20 25 30 35 40 45 \n",
            "6 12 18 24 30 36 42 48 54 \n",
            "7 14 21 28 35 42 49 56 63 \n",
            "8 16 24 32 40 48 56 64 72 \n",
            "9 18 27 36 45 54 63 72 81 \n"
          ],
          "name": "stdout"
        }
      ]
    },
    {
      "cell_type": "code",
      "metadata": {
        "id": "mwX-DBz0OJV3",
        "colab_type": "code",
        "colab": {
          "base_uri": "https://localhost:8080/",
          "height": 34
        },
        "outputId": "ae033a04-1b46-48b1-e1e9-7439f113b0ba"
      },
      "source": [
        "#factorial\n",
        "def factorial(n):\n",
        "    result = 1\n",
        "    for i in range(1,n+1):\n",
        "        result = i * result\n",
        "    return result\n",
        "factorial(3)"
      ],
      "execution_count": null,
      "outputs": [
        {
          "output_type": "execute_result",
          "data": {
            "text/plain": [
              "6"
            ]
          },
          "metadata": {
            "tags": []
          },
          "execution_count": 3
        }
      ]
    },
    {
      "cell_type": "code",
      "metadata": {
        "id": "Pc4E8b3dWwkp",
        "colab_type": "code",
        "colab": {
          "base_uri": "https://localhost:8080/",
          "height": 105
        },
        "outputId": "0e9de582-ee03-4c15-b25c-4a3b5f54a367"
      },
      "source": [
        "#factorial-recursion\n",
        "def factorial_recursion(n):\n",
        "  if n<2:\n",
        "    return 1\n",
        "  else:\n",
        "    return n* factorial_recursion(n-1)\n",
        "for i in range(5):\n",
        "  print('num =',i,'factorial =',factorial_recursion(i))"
      ],
      "execution_count": null,
      "outputs": [
        {
          "output_type": "stream",
          "text": [
            "num = 0 factorial = 1\n",
            "num = 1 factorial = 1\n",
            "num = 2 factorial = 2\n",
            "num = 3 factorial = 6\n",
            "num = 4 factorial = 24\n"
          ],
          "name": "stdout"
        }
      ]
    },
    {
      "cell_type": "code",
      "metadata": {
        "id": "6CykwNn0fEIW",
        "colab_type": "code",
        "colab": {
          "base_uri": "https://localhost:8080/",
          "height": 87
        },
        "outputId": "66f92bc6-74ff-488a-f738-2caa0d3acacd"
      },
      "source": [
        "# Counting the length of a number\n",
        "\n",
        "def counting(n):\n",
        "  len = 0\n",
        "  if n == 0:\n",
        "    return 1\n",
        "  while n != 0:\n",
        "    len += 1\n",
        "    n //= 10\n",
        "  return len\n",
        "\n",
        "print(counting(12))\n",
        "print(counting(0))\n",
        "print(counting(196))\n",
        "print(counting(123456))"
      ],
      "execution_count": null,
      "outputs": [
        {
          "output_type": "stream",
          "text": [
            "2\n",
            "1\n",
            "3\n",
            "6\n"
          ],
          "name": "stdout"
        }
      ]
    },
    {
      "cell_type": "code",
      "metadata": {
        "id": "vQRMSOVxQHBB",
        "colab_type": "code",
        "colab": {
          "base_uri": "https://localhost:8080/",
          "height": 263
        },
        "outputId": "c4fba280-f12c-4b62-efbf-df97bfa703f4"
      },
      "source": [
        "#multiples of 3 between 0 and 40\n",
        "n = 0\n",
        "multiple = 0\n",
        "while n < 40:\n",
        "  n = 3*multiple\n",
        "  if n < 40:\n",
        "    if multiple == 0:\n",
        "      print(multiple)\n",
        "    elif n % 3 == 0:\n",
        "      print(n)\n",
        "  multiple +=1"
      ],
      "execution_count": null,
      "outputs": [
        {
          "output_type": "stream",
          "text": [
            "0\n",
            "3\n",
            "6\n",
            "9\n",
            "12\n",
            "15\n",
            "18\n",
            "21\n",
            "24\n",
            "27\n",
            "30\n",
            "33\n",
            "36\n",
            "39\n"
          ],
          "name": "stdout"
        }
      ]
    },
    {
      "cell_type": "code",
      "metadata": {
        "id": "HUJg3GzXTuFW",
        "colab_type": "code",
        "colab": {
          "base_uri": "https://localhost:8080/",
          "height": 105
        },
        "outputId": "0aa99695-fe72-4689-c289-be04d0f2ab12"
      },
      "source": [
        "#check if the number is the power of base(+ve) using recursion\n",
        "def check_power(n, base):\n",
        "  if n < base:\n",
        "    if n == 1: # any number ** 0 | Ex. 3**0 = 1\n",
        "      return 'Yes'\n",
        "    else:\n",
        "      return \"No\"\n",
        "  else:\n",
        "    if n % base == 0:\n",
        "      n = n//base\n",
        "    else:\n",
        "      return 'No'\n",
        "  return check_power(n, base)\n",
        "\n",
        "print(check_power(18,2)) \n",
        "print(check_power(1024,4))\n",
        "print(check_power(45,11)) \n",
        "print(check_power(121,11)) \n",
        "print(check_power(25.0,5.0)) "
      ],
      "execution_count": null,
      "outputs": [
        {
          "output_type": "stream",
          "text": [
            "No\n",
            "Yes\n",
            "No\n",
            "Yes\n",
            "Yes\n"
          ],
          "name": "stdout"
        }
      ]
    },
    {
      "cell_type": "code",
      "metadata": {
        "id": "-vltLXS0Uaf_",
        "colab_type": "code",
        "colab": {
          "base_uri": "https://localhost:8080/",
          "height": 52
        },
        "outputId": "198e8a7c-cf89-4d7b-8464-463482bda87d"
      },
      "source": [
        "#sum of positive numbers using recursion\n",
        "sum = 0\n",
        "def sum(n):\n",
        "  if n < 2:\n",
        "    return 1\n",
        "  else:\n",
        "    return n + sum(n-1)\n",
        "print(sum(10)) #1+2+3+4+5+6+7+8+9+10 = 55\n",
        "print(sum(15)) #1+2+3+4+5+6+7+8+9+10+11+12+13+14+15 = 120"
      ],
      "execution_count": null,
      "outputs": [
        {
          "output_type": "stream",
          "text": [
            "55\n",
            "120\n"
          ],
          "name": "stdout"
        }
      ]
    },
    {
      "cell_type": "code",
      "metadata": {
        "id": "VCAfLnsy5woy",
        "colab_type": "code",
        "colab": {
          "base_uri": "https://localhost:8080/",
          "height": 225
        },
        "outputId": "66209b8f-b91e-4c68-8320-9bf29e652a6f"
      },
      "source": [
        "#Feharenheit to celsius\n",
        "\n",
        "def f_2_c(f):\n",
        "    return (f-32)*5/9\n",
        "\n",
        "for i in range(0,60,5):\n",
        "    print('{:>3} degree F ||{:>7.2f} degree C'.format(i,f_2_c(i)))"
      ],
      "execution_count": null,
      "outputs": [
        {
          "output_type": "stream",
          "text": [
            "  0 degree F || -17.78 degree C\n",
            "  5 degree F || -15.00 degree C\n",
            " 10 degree F || -12.22 degree C\n",
            " 15 degree F ||  -9.44 degree C\n",
            " 20 degree F ||  -6.67 degree C\n",
            " 25 degree F ||  -3.89 degree C\n",
            " 30 degree F ||  -1.11 degree C\n",
            " 35 degree F ||   1.67 degree C\n",
            " 40 degree F ||   4.44 degree C\n",
            " 45 degree F ||   7.22 degree C\n",
            " 50 degree F ||  10.00 degree C\n",
            " 55 degree F ||  12.78 degree C\n"
          ],
          "name": "stdout"
        }
      ]
    },
    {
      "cell_type": "code",
      "metadata": {
        "id": "ntyF9oSgqlCF",
        "colab_type": "code",
        "colab": {
          "base_uri": "https://localhost:8080/",
          "height": 70
        },
        "outputId": "26f1b08f-f99a-4149-9bd7-b59c9415433c"
      },
      "source": [
        "#Sum of all divisors excluding number itself\n",
        "\n",
        "def divisors(n):\n",
        "  sum = 0\n",
        "  divisor = 1\n",
        "  while divisor <= n:\n",
        "    if n == 0:\n",
        "      return 0\n",
        "    else:\n",
        "      if n%divisor == 0:\n",
        "        sum += divisor\n",
        "    divisor+=1\n",
        "  sum -= n #removing the number divided by itself\n",
        "  return sum\n",
        "print(divisors(0))\n",
        "print(divisors(5)) # 1\n",
        "print(divisors(40)) # 1+2+4+5+8+10+20 = 50"
      ],
      "execution_count": null,
      "outputs": [
        {
          "output_type": "stream",
          "text": [
            "0\n",
            "1\n",
            "50\n"
          ],
          "name": "stdout"
        }
      ]
    },
    {
      "cell_type": "code",
      "metadata": {
        "id": "nn8iTFu_uSLw",
        "colab_type": "code",
        "colab": {
          "base_uri": "https://localhost:8080/",
          "height": 122
        },
        "outputId": "98974353-42fe-413a-8dbf-6f9d7fffd522"
      },
      "source": [
        "#Enter i,d,s and print i+d as int, 3*d as float, s as \"Python is awesome\" \n",
        "integer_var = int(input(\"Enter first number \"))\n",
        "float_var = float(input(\"Enter second number \"))\n",
        "\n",
        "integer_result = integer_var + int(float_var)\n",
        "float_result = round(3*float_var,1)\n",
        "string_result = \"Python \"+input(\"Enter remaining string \")\n",
        "\n",
        "print(integer_result)\n",
        "print(float_result)\n",
        "print(string_result)"
      ],
      "execution_count": null,
      "outputs": [
        {
          "output_type": "stream",
          "text": [
            "Enter first number 12\n",
            "Enter second number 5\n",
            "Enter remaining string is awesome\n",
            "17\n",
            "15.0\n",
            "Python is awesome\n"
          ],
          "name": "stdout"
        }
      ]
    },
    {
      "cell_type": "code",
      "metadata": {
        "id": "pW_4lgSE2KQE",
        "colab_type": "code",
        "colab": {
          "base_uri": "https://localhost:8080/",
          "height": 158
        },
        "outputId": "bd283a9b-2afa-42ce-fc74-5fd44824c052"
      },
      "source": [
        "#Finding the number of pairs of integers\n",
        "\n",
        "def pair(number, array):\n",
        "  d = dict()\n",
        "  for i in array:\n",
        "    if i in d:\n",
        "      d[i] +=1\n",
        "    else:\n",
        "      d[i] = 1\n",
        "  number = 0\n",
        "  for i in d:\n",
        "    number = number + d[i]//2\n",
        "  return number\n",
        "\n",
        "array = []\n",
        "if __name__ == '__main__':\n",
        "    number = int(input(\"Enter length of array \"))\n",
        "    for i in range(number):\n",
        "        array.append(int(input('Enter integer item ')))\n",
        "    print('Number of pairs: '+str(pair(number, array)))"
      ],
      "execution_count": null,
      "outputs": [
        {
          "output_type": "stream",
          "text": [
            "Enter length of array 6\n",
            "Enter integer item 2\n",
            "Enter integer item 2\n",
            "Enter integer item 3\n",
            "Enter integer item 3\n",
            "Enter integer item 4\n",
            "Enter integer item 5\n",
            "Number of pairs: 2\n"
          ],
          "name": "stdout"
        }
      ]
    },
    {
      "cell_type": "code",
      "metadata": {
        "id": "hlTNDxNmK08z",
        "colab_type": "code",
        "colab": {
          "base_uri": "https://localhost:8080/",
          "height": 87
        },
        "outputId": "626a1584-6d69-49dd-c015-1c65ccb25cc4"
      },
      "source": [
        "#Palindrome\n",
        "\n",
        "def palindrome(input):\n",
        "\tstring = \"\"\n",
        "\trvr = ''\n",
        "\tinput = input.split(' ')\n",
        "\tfor i in input:\n",
        "\t\tstring += i\n",
        "\tstring = string.lower()\n",
        "\tfor i in string[::-1]: #reversing\n",
        "\t\trvr += i\n",
        "\n",
        "\tif string == rvr:\n",
        "\t\treturn True\n",
        "\treturn False\n",
        "\n",
        "print(palindrome(\"lol\"))\n",
        "print(palindrome(\"1234321\")) \n",
        "print(palindrome(\"hii\"))\n",
        "print(palindrome(\"insane\"))"
      ],
      "execution_count": null,
      "outputs": [
        {
          "output_type": "stream",
          "text": [
            "True\n",
            "True\n",
            "False\n",
            "False\n"
          ],
          "name": "stdout"
        }
      ]
    },
    {
      "cell_type": "code",
      "metadata": {
        "id": "AkvIc8xoVdiv",
        "colab_type": "code",
        "colab": {}
      },
      "source": [
        ""
      ],
      "execution_count": null,
      "outputs": []
    }
  ]
}