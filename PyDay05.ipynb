{
  "nbformat": 4,
  "nbformat_minor": 0,
  "metadata": {
    "colab": {
      "name": "PyDay05",
      "provenance": [],
      "authorship_tag": "ABX9TyNIxX+1FpmfLCSXI6xEpAOh"
    },
    "kernelspec": {
      "name": "python3",
      "display_name": "Python 3"
    }
  },
  "cells": [
    {
      "cell_type": "markdown",
      "metadata": {
        "id": "F4qSgxb06V29",
        "colab_type": "text"
      },
      "source": [
        "### Exception Handling"
      ]
    },
    {
      "cell_type": "code",
      "metadata": {
        "id": "C0fKd4p1DySh",
        "colab_type": "code",
        "colab": {
          "base_uri": "https://localhost:8080/",
          "height": 34
        },
        "outputId": "a1cd34d9-4a52-47e8-d35c-d3a69be53c2a"
      },
      "source": [
        "try:\n",
        "    print('Hello roll no.'+ 1)\n",
        "except:\n",
        "    print('Hello roll no.'+'3')"
      ],
      "execution_count": 22,
      "outputs": [
        {
          "output_type": "stream",
          "text": [
            "Hello roll no.3\n"
          ],
          "name": "stdout"
        }
      ]
    },
    {
      "cell_type": "code",
      "metadata": {
        "id": "vr3nS1mjD2rI",
        "colab_type": "code",
        "colab": {
          "base_uri": "https://localhost:8080/",
          "height": 69
        },
        "outputId": "c00f7904-d39f-4d72-d0a6-535c611699dd"
      },
      "source": [
        "try:\n",
        "    your_name = input('Please, enter your name')\n",
        "    your_roll_num = int(input('Plese, enter your roll number'))\n",
        "    print('Your Name is '+your_name+' and your roll number is '+your_roll_num)\n",
        "except:\n",
        "    print('Your roll number',your_roll_num)"
      ],
      "execution_count": 33,
      "outputs": [
        {
          "output_type": "stream",
          "text": [
            "Please, enter your nameDk\n",
            "Plese, enter your roll number38\n",
            "Your roll number 38\n"
          ],
          "name": "stdout"
        }
      ]
    },
    {
      "cell_type": "code",
      "metadata": {
        "id": "N04Ko0YhFBoz",
        "colab_type": "code",
        "colab": {
          "base_uri": "https://localhost:8080/",
          "height": 69
        },
        "outputId": "d61db42d-bbef-414b-c44e-050173a51ca3"
      },
      "source": [
        "try:\n",
        "    a = input('Enter first number')  \n",
        "    b = input('Enter second number') \n",
        "    sum_ = int(a+b)\n",
        "    print(sum_)\n",
        "except:\n",
        "    print('You have entered non-numberic digit')"
      ],
      "execution_count": 35,
      "outputs": [
        {
          "output_type": "stream",
          "text": [
            "Enter first number32\n",
            "Enter second numberpiyush\n",
            "You have entered non-numberic digit\n"
          ],
          "name": "stdout"
        }
      ]
    },
    {
      "cell_type": "code",
      "metadata": {
        "id": "BL6wc3Bb0IF1",
        "colab_type": "code",
        "colab": {
          "base_uri": "https://localhost:8080/",
          "height": 69
        },
        "outputId": "208455d2-f506-40dc-c0f9-6b4070035256"
      },
      "source": [
        "try:\n",
        "    a = input()\n",
        "    b = input()\n",
        "    sum_ = int(a+b)\n",
        "    print(sum_)\n",
        "except ValueError:\n",
        "    print('Sorry, it is an ValueError')\n",
        "except TypeError:\n",
        "    print('Sorry, it is an TypeError')\n",
        "except ZeroDivisionError:\n",
        "    print('Sorry, it is an ZeroDivisionError')\n",
        "except:\n",
        "    print('final')"
      ],
      "execution_count": 37,
      "outputs": [
        {
          "output_type": "stream",
          "text": [
            "32\n",
            ":\n",
            "Sorry, it is an ValueError\n"
          ],
          "name": "stdout"
        }
      ]
    },
    {
      "cell_type": "code",
      "metadata": {
        "id": "mltKHW_q1CrD",
        "colab_type": "code",
        "colab": {
          "base_uri": "https://localhost:8080/",
          "height": 34
        },
        "outputId": "f6908b40-1c0d-4acc-e64f-6cdd71faae47"
      },
      "source": [
        "try:\n",
        "    a = 3\n",
        "    b = 'd'\n",
        "    sum_ = a+b\n",
        "    print(sum_)\n",
        "except ValueError:\n",
        "    print('Sorry, it is an ValueError')\n",
        "except TypeError:\n",
        "    print('Sorry, it is an TypeError')\n",
        "except ZeroDivisionError:\n",
        "    print('Sorry, it is an ZeroDivisionError')\n",
        "except:\n",
        "    print('final')"
      ],
      "execution_count": 39,
      "outputs": [
        {
          "output_type": "stream",
          "text": [
            "Sorry, it is an TypeError\n"
          ],
          "name": "stdout"
        }
      ]
    },
    {
      "cell_type": "code",
      "metadata": {
        "id": "cSDpmpyO1NjJ",
        "colab_type": "code",
        "colab": {
          "base_uri": "https://localhost:8080/",
          "height": 34
        },
        "outputId": "a057c583-c9d6-49ef-918f-aa4c9d9e6c1b"
      },
      "source": [
        "try:\n",
        "    a = 1\n",
        "    b = 0\n",
        "    print(a/b)\n",
        "except ValueError:\n",
        "    print('Sorry, it is an ValueError')\n",
        "except TypeError:\n",
        "    print('Sorry, it is an TypeError')\n",
        "except SyntaxError:\n",
        "    print('Sorry, it is an SyntaxError')\n",
        "except ZeroDivisionError:\n",
        "    print('Sorry, it is an ZeroDivisionError')\n",
        "except:\n",
        "    print('final')"
      ],
      "execution_count": 41,
      "outputs": [
        {
          "output_type": "stream",
          "text": [
            "Sorry, it is an ZeroDivisionError\n"
          ],
          "name": "stdout"
        }
      ]
    },
    {
      "cell_type": "code",
      "metadata": {
        "id": "3GAzXUMZ2Its",
        "colab_type": "code",
        "colab": {
          "base_uri": "https://localhost:8080/",
          "height": 51
        },
        "outputId": "20d58a5d-3a49-4e27-b3dd-5b6dd38c9ecf"
      },
      "source": [
        "try:\n",
        "    print(var)\n",
        "except ZeroDivisionError:\n",
        "    print(\"It is an ZeroDivisionError\")\n",
        "except NameError:\n",
        "    print(\"It is an NameError\")\n",
        "finally:\n",
        "    print('final statement')"
      ],
      "execution_count": 44,
      "outputs": [
        {
          "output_type": "stream",
          "text": [
            "It is an NameError\n",
            "final statement\n"
          ],
          "name": "stdout"
        }
      ]
    },
    {
      "cell_type": "code",
      "metadata": {
        "id": "pyJULqcb3s97",
        "colab_type": "code",
        "colab": {
          "base_uri": "https://localhost:8080/",
          "height": 51
        },
        "outputId": "bcf521ed-cd45-405f-aa86-04079d278e50"
      },
      "source": [
        "try:\n",
        "    sum = 1 + 'a'\n",
        "    print(sum)\n",
        "except ZeroDivisionError:\n",
        "    print(\"It is an ZeroDivisionError\")\n",
        "except NameError:\n",
        "    print(\"It is an NameError\")\n",
        "except TypeError:\n",
        "    print(\"It is an TypeError\")\n",
        "finally:\n",
        "    print('final statement')"
      ],
      "execution_count": 45,
      "outputs": [
        {
          "output_type": "stream",
          "text": [
            "It is an TypeError\n",
            "final statement\n"
          ],
          "name": "stdout"
        }
      ]
    },
    {
      "cell_type": "markdown",
      "metadata": {
        "id": "GX0Lpe1SB98B",
        "colab_type": "text"
      },
      "source": [
        "### Raise"
      ]
    },
    {
      "cell_type": "code",
      "metadata": {
        "id": "Nt4CTSx45PEC",
        "colab_type": "code",
        "colab": {
          "base_uri": "https://localhost:8080/",
          "height": 200
        },
        "outputId": "b7e18c61-2ecd-47d2-ce0a-d9e17896f0b8"
      },
      "source": [
        "a = 1\n",
        "b = 10\n",
        "\n",
        "if a<b:\n",
        "    raise ZeroDivisionError"
      ],
      "execution_count": 46,
      "outputs": [
        {
          "output_type": "error",
          "ename": "ZeroDivisionError",
          "evalue": "ignored",
          "traceback": [
            "\u001b[0;31m---------------------------------------------------------------------------\u001b[0m",
            "\u001b[0;31mZeroDivisionError\u001b[0m                         Traceback (most recent call last)",
            "\u001b[0;32m<ipython-input-46-c70453118921>\u001b[0m in \u001b[0;36m<module>\u001b[0;34m()\u001b[0m\n\u001b[1;32m      3\u001b[0m \u001b[0;34m\u001b[0m\u001b[0m\n\u001b[1;32m      4\u001b[0m \u001b[0;32mif\u001b[0m \u001b[0ma\u001b[0m\u001b[0;34m<\u001b[0m\u001b[0mb\u001b[0m\u001b[0;34m:\u001b[0m\u001b[0;34m\u001b[0m\u001b[0;34m\u001b[0m\u001b[0m\n\u001b[0;32m----> 5\u001b[0;31m     \u001b[0;32mraise\u001b[0m \u001b[0mZeroDivisionError\u001b[0m\u001b[0;34m\u001b[0m\u001b[0;34m\u001b[0m\u001b[0m\n\u001b[0m",
            "\u001b[0;31mZeroDivisionError\u001b[0m: "
          ]
        }
      ]
    },
    {
      "cell_type": "code",
      "metadata": {
        "id": "ocFhn_TrBr3Z",
        "colab_type": "code",
        "colab": {
          "base_uri": "https://localhost:8080/",
          "height": 182
        },
        "outputId": "629c7ffd-b835-42d7-c7c8-87c46a526607"
      },
      "source": [
        "if True:\n",
        "    raise NameError"
      ],
      "execution_count": 47,
      "outputs": [
        {
          "output_type": "error",
          "ename": "NameError",
          "evalue": "ignored",
          "traceback": [
            "\u001b[0;31m---------------------------------------------------------------------------\u001b[0m",
            "\u001b[0;31mNameError\u001b[0m                                 Traceback (most recent call last)",
            "\u001b[0;32m<ipython-input-47-c8f9d0de78bc>\u001b[0m in \u001b[0;36m<module>\u001b[0;34m()\u001b[0m\n\u001b[1;32m      1\u001b[0m \u001b[0;32mif\u001b[0m \u001b[0;32mTrue\u001b[0m\u001b[0;34m:\u001b[0m\u001b[0;34m\u001b[0m\u001b[0;34m\u001b[0m\u001b[0m\n\u001b[0;32m----> 2\u001b[0;31m     \u001b[0;32mraise\u001b[0m \u001b[0mNameError\u001b[0m\u001b[0;34m\u001b[0m\u001b[0;34m\u001b[0m\u001b[0m\n\u001b[0m",
            "\u001b[0;31mNameError\u001b[0m: "
          ]
        }
      ]
    },
    {
      "cell_type": "code",
      "metadata": {
        "id": "yAtu9uiUBxZs",
        "colab_type": "code",
        "colab": {
          "base_uri": "https://localhost:8080/",
          "height": 96
        },
        "outputId": "a8b28665-b051-4dcf-c127-93cd1411f8d3"
      },
      "source": [
        "a = 2\n",
        "b = 4\n",
        "if b < a:\n",
        "    raise NameError\n",
        "else:\n",
        "    raise SyntaxError"
      ],
      "execution_count": 48,
      "outputs": [
        {
          "output_type": "error",
          "ename": "SyntaxError",
          "evalue": "ignored",
          "traceback": [
            "\u001b[0;36m  File \u001b[0;32m\"<string>\"\u001b[0;36m, line \u001b[0;32munknown\u001b[0m\n\u001b[0;31mSyntaxError\u001b[0m\n"
          ]
        }
      ]
    }
  ]
}