{
  "nbformat": 4,
  "nbformat_minor": 0,
  "metadata": {
    "colab": {
      "name": "Day1",
      "provenance": [],
      "authorship_tag": "ABX9TyMieRj0ik9SRSZPdE18WLk7"
    },
    "kernelspec": {
      "name": "python3",
      "display_name": "Python 3"
    }
  },
  "cells": [
    {
      "cell_type": "markdown",
      "metadata": {
        "id": "d1wLDhC_9xiy",
        "colab_type": "text"
      },
      "source": [
        "# Python\n",
        "\n",
        "* High level, interpreter-based, general-purpose programming language\n",
        "* Introducted by **Guido van Rossum** \n",
        "* Easily readible\n",
        "* Widely used programming language"
      ]
    },
    {
      "cell_type": "markdown",
      "metadata": {
        "id": "roNPgUMD-kz8",
        "colab_type": "text"
      },
      "source": [
        "### Operators\n",
        "1. Arithmetic Operators\n",
        "    * **Addition**: +\n",
        "    * **Subtraction**: -\n",
        "    * **Multiplication**: *\n",
        "    * **Division**: /\n",
        "    * **Division(floor)**: //\n",
        "    * **Modulus**: %\n",
        "    * **Exponential**: **"
      ]
    },
    {
      "cell_type": "code",
      "metadata": {
        "id": "pMs4JqCt3mx1",
        "colab_type": "code",
        "colab": {}
      },
      "source": [
        ""
      ],
      "execution_count": null,
      "outputs": []
    }
  ]
}
