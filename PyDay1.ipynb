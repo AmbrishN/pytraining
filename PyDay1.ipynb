{
  "nbformat": 4,
  "nbformat_minor": 0,
  "metadata": {
    "colab": {
      "name": "PyDay1",
      "provenance": [],
      "authorship_tag": "ABX9TyNw7NktgYPVjZ4ezqMWIpyI"
    },
    "kernelspec": {
      "name": "python3",
      "display_name": "Python 3"
    }
  },
  "cells": [
    {
      "cell_type": "markdown",
      "metadata": {
        "id": "d1wLDhC_9xiy",
        "colab_type": "text"
      },
      "source": [
        "# Python\n",
        "\n",
        "* High level, interpreter-based, general-purpose programming language\n",
        "* Introducted by **Guido van Rossum** \n",
        "* Easily readible\n",
        "* Widely used programming language"
      ]
    },
    {
      "cell_type": "markdown",
      "metadata": {
        "id": "roNPgUMD-kz8",
        "colab_type": "text"
      },
      "source": [
        "## Operators\n",
        "1. **Arithmetic Operators**\n",
        "    * **Addition**: +\n",
        "    * **Subtraction**: -\n",
        "    * **Multiplication**: *\n",
        "    * **Division**: /\n",
        "    * **Division(floor)**: //\n",
        "    * **Modulus**: %\n",
        "    * **Exponential**: **"
      ]
    },
    {
      "cell_type": "code",
      "metadata": {
        "id": "pMs4JqCt3mx1",
        "colab_type": "code",
        "colab": {
          "base_uri": "https://localhost:8080/",
          "height": 33
        },
        "outputId": "0ff644e4-3624-40fd-a498-9548984ab4af"
      },
      "source": [
        "print(1+2)"
      ],
      "execution_count": 1,
      "outputs": [
        {
          "output_type": "stream",
          "text": [
            "3\n"
          ],
          "name": "stdout"
        }
      ]
    },
    {
      "cell_type": "markdown",
      "metadata": {
        "id": "9AkCrvpzwi8W",
        "colab_type": "text"
      },
      "source": [
        "📌**Note**: If it is required to print only a single line or last line in a code cell, no necessaity of using print() function"
      ]
    },
    {
      "cell_type": "code",
      "metadata": {
        "id": "hz4xVEeeaQZN",
        "colab_type": "code",
        "colab": {
          "base_uri": "https://localhost:8080/",
          "height": 33
        },
        "outputId": "65b5008b-a569-468d-cd9b-a450f303c697"
      },
      "source": [
        "3-2"
      ],
      "execution_count": 2,
      "outputs": [
        {
          "output_type": "execute_result",
          "data": {
            "text/plain": [
              "1"
            ]
          },
          "metadata": {
            "tags": []
          },
          "execution_count": 2
        }
      ]
    },
    {
      "cell_type": "code",
      "metadata": {
        "id": "5cks2RvMaTHu",
        "colab_type": "code",
        "colab": {
          "base_uri": "https://localhost:8080/",
          "height": 33
        },
        "outputId": "b672467c-6624-435c-c0d9-2374be5b7d30"
      },
      "source": [
        "3*4"
      ],
      "execution_count": 3,
      "outputs": [
        {
          "output_type": "execute_result",
          "data": {
            "text/plain": [
              "12"
            ]
          },
          "metadata": {
            "tags": []
          },
          "execution_count": 3
        }
      ]
    },
    {
      "cell_type": "code",
      "metadata": {
        "id": "X-GRadJSaVWX",
        "colab_type": "code",
        "colab": {
          "base_uri": "https://localhost:8080/",
          "height": 33
        },
        "outputId": "e94b286d-ff52-454c-9418-e5c8ab32f17d"
      },
      "source": [
        "3/2"
      ],
      "execution_count": 4,
      "outputs": [
        {
          "output_type": "execute_result",
          "data": {
            "text/plain": [
              "1.5"
            ]
          },
          "metadata": {
            "tags": []
          },
          "execution_count": 4
        }
      ]
    },
    {
      "cell_type": "code",
      "metadata": {
        "id": "ZpPdDPcmaYUh",
        "colab_type": "code",
        "colab": {
          "base_uri": "https://localhost:8080/",
          "height": 33
        },
        "outputId": "b47954c1-73b0-41e3-d998-15be34aa1741"
      },
      "source": [
        "5//2"
      ],
      "execution_count": 5,
      "outputs": [
        {
          "output_type": "execute_result",
          "data": {
            "text/plain": [
              "2"
            ]
          },
          "metadata": {
            "tags": []
          },
          "execution_count": 5
        }
      ]
    },
    {
      "cell_type": "code",
      "metadata": {
        "id": "GRr3hqelaZ4R",
        "colab_type": "code",
        "colab": {
          "base_uri": "https://localhost:8080/",
          "height": 33
        },
        "outputId": "730b211d-ab54-410e-c9aa-c56cbeeeddca"
      },
      "source": [
        "5%2"
      ],
      "execution_count": 6,
      "outputs": [
        {
          "output_type": "execute_result",
          "data": {
            "text/plain": [
              "1"
            ]
          },
          "metadata": {
            "tags": []
          },
          "execution_count": 6
        }
      ]
    },
    {
      "cell_type": "code",
      "metadata": {
        "id": "m7tXMugnacgH",
        "colab_type": "code",
        "colab": {
          "base_uri": "https://localhost:8080/",
          "height": 33
        },
        "outputId": "1fce7f88-64d4-4489-c239-774ab18015c4"
      },
      "source": [
        "5**2"
      ],
      "execution_count": 7,
      "outputs": [
        {
          "output_type": "execute_result",
          "data": {
            "text/plain": [
              "25"
            ]
          },
          "metadata": {
            "tags": []
          },
          "execution_count": 7
        }
      ]
    },
    {
      "cell_type": "markdown",
      "metadata": {
        "id": "rZvniipav27-",
        "colab_type": "text"
      },
      "source": [
        "2. **Relational Operators**\n",
        "    * **Equal to**: ==\n",
        "    * **Less than**: <\n",
        "    * **Greater than**: >\n",
        "    * **Not equal to**: !=\n",
        "    * **Greater than or equal to**: >=\n",
        "    * **Less than or equal to**: <="
      ]
    },
    {
      "cell_type": "code",
      "metadata": {
        "id": "P78vwAuyad93",
        "colab_type": "code",
        "colab": {
          "base_uri": "https://localhost:8080/",
          "height": 33
        },
        "outputId": "5bd441a4-fed1-468e-e809-460d84261fb1"
      },
      "source": [
        "a = 10; b = 4\n",
        "a == b"
      ],
      "execution_count": 8,
      "outputs": [
        {
          "output_type": "execute_result",
          "data": {
            "text/plain": [
              "False"
            ]
          },
          "metadata": {
            "tags": []
          },
          "execution_count": 8
        }
      ]
    },
    {
      "cell_type": "code",
      "metadata": {
        "id": "zjuIFG0Qw5Mj",
        "colab_type": "code",
        "colab": {
          "base_uri": "https://localhost:8080/",
          "height": 33
        },
        "outputId": "8d150e57-a110-485c-fe40-7d99f4fd9746"
      },
      "source": [
        "a < b"
      ],
      "execution_count": 10,
      "outputs": [
        {
          "output_type": "execute_result",
          "data": {
            "text/plain": [
              "False"
            ]
          },
          "metadata": {
            "tags": []
          },
          "execution_count": 10
        }
      ]
    },
    {
      "cell_type": "code",
      "metadata": {
        "id": "HiY1poHnw8Ng",
        "colab_type": "code",
        "colab": {
          "base_uri": "https://localhost:8080/",
          "height": 33
        },
        "outputId": "8f1584bb-6f74-44f3-e04e-2190ced7a791"
      },
      "source": [
        "a > b"
      ],
      "execution_count": 11,
      "outputs": [
        {
          "output_type": "execute_result",
          "data": {
            "text/plain": [
              "True"
            ]
          },
          "metadata": {
            "tags": []
          },
          "execution_count": 11
        }
      ]
    },
    {
      "cell_type": "code",
      "metadata": {
        "id": "xjrCPk27xBJG",
        "colab_type": "code",
        "colab": {
          "base_uri": "https://localhost:8080/",
          "height": 33
        },
        "outputId": "2f3924d8-1fee-4769-8b5d-ebf60128091c"
      },
      "source": [
        "a != b"
      ],
      "execution_count": 12,
      "outputs": [
        {
          "output_type": "execute_result",
          "data": {
            "text/plain": [
              "True"
            ]
          },
          "metadata": {
            "tags": []
          },
          "execution_count": 12
        }
      ]
    },
    {
      "cell_type": "code",
      "metadata": {
        "id": "In54-SQSxCM8",
        "colab_type": "code",
        "colab": {
          "base_uri": "https://localhost:8080/",
          "height": 33
        },
        "outputId": "2978b89d-529c-4a3e-d4ac-7b43eeacfc97"
      },
      "source": [
        "a >= b"
      ],
      "execution_count": 13,
      "outputs": [
        {
          "output_type": "execute_result",
          "data": {
            "text/plain": [
              "True"
            ]
          },
          "metadata": {
            "tags": []
          },
          "execution_count": 13
        }
      ]
    },
    {
      "cell_type": "code",
      "metadata": {
        "id": "Akc8iN7HxDWK",
        "colab_type": "code",
        "colab": {
          "base_uri": "https://localhost:8080/",
          "height": 33
        },
        "outputId": "83a3caea-ce32-4a56-8233-3b9e1ac7be6d"
      },
      "source": [
        "a <= b"
      ],
      "execution_count": 14,
      "outputs": [
        {
          "output_type": "execute_result",
          "data": {
            "text/plain": [
              "False"
            ]
          },
          "metadata": {
            "tags": []
          },
          "execution_count": 14
        }
      ]
    },
    {
      "cell_type": "markdown",
      "metadata": {
        "id": "brZYRtLj0Ysy",
        "colab_type": "text"
      },
      "source": [
        "3. **Logical Operators**\n",
        "    * **and**: It returns true if both conditions are true\n",
        "    * **or**: It returns true if any condition is true \n",
        "    * **not**: It returns true if the condition is false or vice-versa"
      ]
    },
    {
      "cell_type": "code",
      "metadata": {
        "id": "-a91pFzT0J-_",
        "colab_type": "code",
        "colab": {
          "base_uri": "https://localhost:8080/",
          "height": 33
        },
        "outputId": "768ddff6-ee0e-4183-f52d-f1ec3d2013bb"
      },
      "source": [
        "4 > 2 and 5 < 6"
      ],
      "execution_count": 30,
      "outputs": [
        {
          "output_type": "execute_result",
          "data": {
            "text/plain": [
              "True"
            ]
          },
          "metadata": {
            "tags": []
          },
          "execution_count": 30
        }
      ]
    },
    {
      "cell_type": "code",
      "metadata": {
        "id": "c0KI7pym1KHD",
        "colab_type": "code",
        "colab": {
          "base_uri": "https://localhost:8080/",
          "height": 33
        },
        "outputId": "54ffe2be-a04c-4325-e2fe-fdf359d9a58d"
      },
      "source": [
        "4 < 2 and 5 < 6"
      ],
      "execution_count": 31,
      "outputs": [
        {
          "output_type": "execute_result",
          "data": {
            "text/plain": [
              "False"
            ]
          },
          "metadata": {
            "tags": []
          },
          "execution_count": 31
        }
      ]
    },
    {
      "cell_type": "code",
      "metadata": {
        "id": "mV-O6f1s1L-W",
        "colab_type": "code",
        "colab": {
          "base_uri": "https://localhost:8080/",
          "height": 33
        },
        "outputId": "6ff22f16-85bd-4a7d-9e65-6f1557fbe839"
      },
      "source": [
        "66 < 66 or 66 < 67"
      ],
      "execution_count": 32,
      "outputs": [
        {
          "output_type": "execute_result",
          "data": {
            "text/plain": [
              "True"
            ]
          },
          "metadata": {
            "tags": []
          },
          "execution_count": 32
        }
      ]
    },
    {
      "cell_type": "code",
      "metadata": {
        "id": "srXHyZvm1OAr",
        "colab_type": "code",
        "colab": {
          "base_uri": "https://localhost:8080/",
          "height": 33
        },
        "outputId": "23fb11d4-1437-478d-c3a7-b8e9b9ea937f"
      },
      "source": [
        "66 < 64 or 66 < 61"
      ],
      "execution_count": 33,
      "outputs": [
        {
          "output_type": "execute_result",
          "data": {
            "text/plain": [
              "False"
            ]
          },
          "metadata": {
            "tags": []
          },
          "execution_count": 33
        }
      ]
    },
    {
      "cell_type": "code",
      "metadata": {
        "id": "XtsFnSaQ1gWy",
        "colab_type": "code",
        "colab": {
          "base_uri": "https://localhost:8080/",
          "height": 33
        },
        "outputId": "6c45a7ec-9166-4789-bf57-1e1e8308c588"
      },
      "source": [
        "66 <= 66 or 66 >= 67"
      ],
      "execution_count": 37,
      "outputs": [
        {
          "output_type": "execute_result",
          "data": {
            "text/plain": [
              "True"
            ]
          },
          "metadata": {
            "tags": []
          },
          "execution_count": 37
        }
      ]
    },
    {
      "cell_type": "code",
      "metadata": {
        "id": "9POhA3Pz1Q2X",
        "colab_type": "code",
        "colab": {
          "base_uri": "https://localhost:8080/",
          "height": 33
        },
        "outputId": "f47b03e3-4543-4712-f50f-ddc53cfe4b95"
      },
      "source": [
        "not(66 > 63)"
      ],
      "execution_count": 34,
      "outputs": [
        {
          "output_type": "execute_result",
          "data": {
            "text/plain": [
              "False"
            ]
          },
          "metadata": {
            "tags": []
          },
          "execution_count": 34
        }
      ]
    },
    {
      "cell_type": "code",
      "metadata": {
        "id": "QfimxkzZ1UsS",
        "colab_type": "code",
        "colab": {
          "base_uri": "https://localhost:8080/",
          "height": 33
        },
        "outputId": "57d2be86-64e6-4b5b-93e0-83f5ca42a3fd"
      },
      "source": [
        "not(66 < 63)"
      ],
      "execution_count": 35,
      "outputs": [
        {
          "output_type": "execute_result",
          "data": {
            "text/plain": [
              "True"
            ]
          },
          "metadata": {
            "tags": []
          },
          "execution_count": 35
        }
      ]
    },
    {
      "cell_type": "code",
      "metadata": {
        "id": "O36YyZbx1WD9",
        "colab_type": "code",
        "colab": {
          "base_uri": "https://localhost:8080/",
          "height": 33
        },
        "outputId": "09969cef-5e02-4c25-ae0a-ab4502a1a4ce"
      },
      "source": [
        "not(66 >= 63)"
      ],
      "execution_count": 36,
      "outputs": [
        {
          "output_type": "execute_result",
          "data": {
            "text/plain": [
              "False"
            ]
          },
          "metadata": {
            "tags": []
          },
          "execution_count": 36
        }
      ]
    },
    {
      "cell_type": "markdown",
      "metadata": {
        "id": "JA5osKSU2iZc",
        "colab_type": "text"
      },
      "source": [
        "4. **Bitwise Operators**: Perform operation bit by bit \n",
        "    * **AND**: &\n",
        "    * **OR**: |\n",
        "    * **XOR**: ^\n",
        "    * **NOT**: ~\n",
        "    * **Left shift**: <<\n",
        "    * **Right shift**: >>"
      ]
    },
    {
      "cell_type": "markdown",
      "metadata": {
        "id": "g9ZCjdfE5F0g",
        "colab_type": "text"
      },
      "source": [
        "📌**Note**: Please refer truth table to perform bitwise operation"
      ]
    },
    {
      "cell_type": "code",
      "metadata": {
        "id": "1Lyc5Wv_1aOo",
        "colab_type": "code",
        "colab": {
          "base_uri": "https://localhost:8080/",
          "height": 33
        },
        "outputId": "1ad40ca0-5b5a-48f5-f161-59fd1307f550"
      },
      "source": [
        "# 2 : 0010\n",
        "# 5 : 0101\n",
        "# 2&5: 0000\n",
        "\n",
        "2&5"
      ],
      "execution_count": 38,
      "outputs": [
        {
          "output_type": "execute_result",
          "data": {
            "text/plain": [
              "0"
            ]
          },
          "metadata": {
            "tags": []
          },
          "execution_count": 38
        }
      ]
    },
    {
      "cell_type": "code",
      "metadata": {
        "id": "7kXdVhk94Siw",
        "colab_type": "code",
        "colab": {
          "base_uri": "https://localhost:8080/",
          "height": 33
        },
        "outputId": "1e21248f-2c27-4908-bb61-b99db5be3540"
      },
      "source": [
        "# 2 | 5 : 0111\n",
        "\n",
        "2 | 5"
      ],
      "execution_count": 39,
      "outputs": [
        {
          "output_type": "execute_result",
          "data": {
            "text/plain": [
              "7"
            ]
          },
          "metadata": {
            "tags": []
          },
          "execution_count": 39
        }
      ]
    },
    {
      "cell_type": "code",
      "metadata": {
        "id": "B6ApKqKA4mPS",
        "colab_type": "code",
        "colab": {
          "base_uri": "https://localhost:8080/",
          "height": 33
        },
        "outputId": "b16bdd80-b677-4f75-c391-4be0d6a6d895"
      },
      "source": [
        "# 2 ^ 5 : 0111\n",
        "\n",
        "2 ^ 5"
      ],
      "execution_count": 40,
      "outputs": [
        {
          "output_type": "execute_result",
          "data": {
            "text/plain": [
              "7"
            ]
          },
          "metadata": {
            "tags": []
          },
          "execution_count": 40
        }
      ]
    },
    {
      "cell_type": "code",
      "metadata": {
        "id": "xPC8xQAM4_ZP",
        "colab_type": "code",
        "colab": {
          "base_uri": "https://localhost:8080/",
          "height": 33
        },
        "outputId": "d604148b-bb6a-4179-f9f9-2b225dbb675a"
      },
      "source": [
        "# Bitwise NOT\n",
        "~2"
      ],
      "execution_count": 42,
      "outputs": [
        {
          "output_type": "execute_result",
          "data": {
            "text/plain": [
              "-3"
            ]
          },
          "metadata": {
            "tags": []
          },
          "execution_count": 42
        }
      ]
    },
    {
      "cell_type": "code",
      "metadata": {
        "id": "F0sKOk-45U0C",
        "colab_type": "code",
        "colab": {
          "base_uri": "https://localhost:8080/",
          "height": 33
        },
        "outputId": "7253c91a-d044-4d4f-e764-d492bbe9cc4c"
      },
      "source": [
        "# 2 : 0010(2) 1000(8)\n",
        "\n",
        "a = 2\n",
        "a<<2"
      ],
      "execution_count": 45,
      "outputs": [
        {
          "output_type": "execute_result",
          "data": {
            "text/plain": [
              "8"
            ]
          },
          "metadata": {
            "tags": []
          },
          "execution_count": 45
        }
      ]
    },
    {
      "cell_type": "code",
      "metadata": {
        "id": "jPNsZe3aE7XH",
        "colab_type": "code",
        "colab": {
          "base_uri": "https://localhost:8080/",
          "height": 33
        },
        "outputId": "af80743a-beb6-4960-912b-a0b8ebe4f45c"
      },
      "source": [
        "# 2 : 0010(2) 0000(2)\n",
        "\n",
        "a>>2"
      ],
      "execution_count": 46,
      "outputs": [
        {
          "output_type": "execute_result",
          "data": {
            "text/plain": [
              "0"
            ]
          },
          "metadata": {
            "tags": []
          },
          "execution_count": 46
        }
      ]
    },
    {
      "cell_type": "markdown",
      "metadata": {
        "id": "MsONrS3Dx2F-",
        "colab_type": "text"
      },
      "source": [
        "5. **Assignment Operators**\n",
        "    * =\n",
        "    * +=\n",
        "    * -=\n",
        "    * *=\n",
        "    * /=\n",
        "    * //=\n",
        "    * %=\n",
        "    * **=\n",
        "    * &=\n",
        "    * |=\n",
        "    * ^=\n",
        "    * <<= , >>="
      ]
    },
    {
      "cell_type": "code",
      "metadata": {
        "id": "zwfnztV-xEae",
        "colab_type": "code",
        "colab": {
          "base_uri": "https://localhost:8080/",
          "height": 33
        },
        "outputId": "2896886b-e0eb-4671-e283-069dd77996fa"
      },
      "source": [
        "a = 2 \n",
        "b = 3 \n",
        "print(a,b)"
      ],
      "execution_count": 21,
      "outputs": [
        {
          "output_type": "stream",
          "text": [
            "2 3\n"
          ],
          "name": "stdout"
        }
      ]
    },
    {
      "cell_type": "code",
      "metadata": {
        "id": "qTFOqPwjzGF2",
        "colab_type": "code",
        "colab": {
          "base_uri": "https://localhost:8080/",
          "height": 33
        },
        "outputId": "eb4930ba-2455-444f-963e-99b7e0686ca3"
      },
      "source": [
        "temp = 10\n",
        "temp += a  #It is equivalent to temp = temp + a\n",
        "print(temp)"
      ],
      "execution_count": 22,
      "outputs": [
        {
          "output_type": "stream",
          "text": [
            "12\n"
          ],
          "name": "stdout"
        }
      ]
    },
    {
      "cell_type": "code",
      "metadata": {
        "id": "1l9V1ET8zXeL",
        "colab_type": "code",
        "colab": {
          "base_uri": "https://localhost:8080/",
          "height": 33
        },
        "outputId": "c267f9c5-c9a2-48dd-8f4f-82be03df8088"
      },
      "source": [
        "temp = 10\n",
        "temp -= a  #It is equivalent to temp = temp - a\n",
        "print(temp)"
      ],
      "execution_count": 23,
      "outputs": [
        {
          "output_type": "stream",
          "text": [
            "8\n"
          ],
          "name": "stdout"
        }
      ]
    },
    {
      "cell_type": "code",
      "metadata": {
        "id": "yuvk_0tGzk2a",
        "colab_type": "code",
        "colab": {
          "base_uri": "https://localhost:8080/",
          "height": 33
        },
        "outputId": "001d8c86-b7e1-4371-e717-e91ecb37e349"
      },
      "source": [
        "temp = 10\n",
        "temp *= a  #It is equivalent to temp = temp * a\n",
        "print(temp)"
      ],
      "execution_count": 24,
      "outputs": [
        {
          "output_type": "stream",
          "text": [
            "20\n"
          ],
          "name": "stdout"
        }
      ]
    },
    {
      "cell_type": "code",
      "metadata": {
        "id": "7kEcwMVxzpOL",
        "colab_type": "code",
        "colab": {
          "base_uri": "https://localhost:8080/",
          "height": 33
        },
        "outputId": "d5a38a98-4607-4310-d9e7-5f73fb264de3"
      },
      "source": [
        "temp = 10\n",
        "temp /= a  #It is equivalent to temp = temp / a \n",
        "print(temp)"
      ],
      "execution_count": 25,
      "outputs": [
        {
          "output_type": "stream",
          "text": [
            "5.0\n"
          ],
          "name": "stdout"
        }
      ]
    },
    {
      "cell_type": "code",
      "metadata": {
        "id": "8fmSwwzWz1XJ",
        "colab_type": "code",
        "colab": {
          "base_uri": "https://localhost:8080/",
          "height": 33
        },
        "outputId": "8085bd1f-12aa-46b9-b2d4-9ff3ecd2fb34"
      },
      "source": [
        "temp = 10\n",
        "temp //= a  #It is equivalent to temp = temp // a (Floor division)\n",
        "print(temp)"
      ],
      "execution_count": 27,
      "outputs": [
        {
          "output_type": "stream",
          "text": [
            "5\n"
          ],
          "name": "stdout"
        }
      ]
    },
    {
      "cell_type": "code",
      "metadata": {
        "id": "oVLzXImD0A7x",
        "colab_type": "code",
        "colab": {
          "base_uri": "https://localhost:8080/",
          "height": 33
        },
        "outputId": "822e9a55-1b5e-422f-e6e7-c791ff90e7b2"
      },
      "source": [
        "temp = 10\n",
        "temp %= a  #It is equivalent to temp = temp % a \n",
        "print(temp)"
      ],
      "execution_count": 28,
      "outputs": [
        {
          "output_type": "stream",
          "text": [
            "0\n"
          ],
          "name": "stdout"
        }
      ]
    },
    {
      "cell_type": "code",
      "metadata": {
        "id": "uYYT4ZjS0Fmp",
        "colab_type": "code",
        "colab": {
          "base_uri": "https://localhost:8080/",
          "height": 33
        },
        "outputId": "0cc8314e-1763-43a1-ba4c-ca7435595593"
      },
      "source": [
        "temp = 10\n",
        "temp **= a  #It is equivalent to temp = temp ** a \n",
        "print(temp)"
      ],
      "execution_count": 29,
      "outputs": [
        {
          "output_type": "stream",
          "text": [
            "100\n"
          ],
          "name": "stdout"
        }
      ]
    },
    {
      "cell_type": "code",
      "metadata": {
        "id": "ZFDMwI6ZGvX0",
        "colab_type": "code",
        "colab": {
          "base_uri": "https://localhost:8080/",
          "height": 33
        },
        "outputId": "8d81243f-2580-4066-dbd9-b3e8b7ed4b5a"
      },
      "source": [
        "temp = 2\n",
        "temp &= 5   # 2 & 5 = 0\n",
        "temp"
      ],
      "execution_count": 50,
      "outputs": [
        {
          "output_type": "execute_result",
          "data": {
            "text/plain": [
              "0"
            ]
          },
          "metadata": {
            "tags": []
          },
          "execution_count": 50
        }
      ]
    },
    {
      "cell_type": "code",
      "metadata": {
        "id": "j5AXdkkjGpu9",
        "colab_type": "code",
        "colab": {
          "base_uri": "https://localhost:8080/",
          "height": 33
        },
        "outputId": "6a034ee4-8fa0-47b2-e244-8e84ce953ea4"
      },
      "source": [
        "temp = 2\n",
        "temp |= 5   # 2 | 5 = 7\n",
        "temp"
      ],
      "execution_count": 51,
      "outputs": [
        {
          "output_type": "execute_result",
          "data": {
            "text/plain": [
              "7"
            ]
          },
          "metadata": {
            "tags": []
          },
          "execution_count": 51
        }
      ]
    },
    {
      "cell_type": "code",
      "metadata": {
        "id": "cFoIwJDUG-S2",
        "colab_type": "code",
        "colab": {
          "base_uri": "https://localhost:8080/",
          "height": 33
        },
        "outputId": "74777d53-0ecc-493a-b14b-ecdb42c1d762"
      },
      "source": [
        "temp = 2\n",
        "temp ^= 5   # 2 ^ 5 = 7\n",
        "temp"
      ],
      "execution_count": 52,
      "outputs": [
        {
          "output_type": "execute_result",
          "data": {
            "text/plain": [
              "7"
            ]
          },
          "metadata": {
            "tags": []
          },
          "execution_count": 52
        }
      ]
    },
    {
      "cell_type": "code",
      "metadata": {
        "id": "ZivFvpGOHDxM",
        "colab_type": "code",
        "colab": {
          "base_uri": "https://localhost:8080/",
          "height": 33
        },
        "outputId": "41ba8615-95af-46fd-ec72-17df8eba535f"
      },
      "source": [
        "temp = 2\n",
        "temp >>=2   # >>2 = 0\n",
        "temp"
      ],
      "execution_count": 53,
      "outputs": [
        {
          "output_type": "execute_result",
          "data": {
            "text/plain": [
              "0"
            ]
          },
          "metadata": {
            "tags": []
          },
          "execution_count": 53
        }
      ]
    },
    {
      "cell_type": "code",
      "metadata": {
        "id": "iag0duMgHP4x",
        "colab_type": "code",
        "colab": {
          "base_uri": "https://localhost:8080/",
          "height": 33
        },
        "outputId": "35b19c7c-2671-49bf-f242-0649bd3e41bd"
      },
      "source": [
        "temp = 2\n",
        "temp <<= 2   # <<2 = 8\n",
        "temp"
      ],
      "execution_count": 55,
      "outputs": [
        {
          "output_type": "execute_result",
          "data": {
            "text/plain": [
              "8"
            ]
          },
          "metadata": {
            "tags": []
          },
          "execution_count": 55
        }
      ]
    }
  ]
}